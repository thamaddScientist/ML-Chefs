{
 "cells": [
  {
   "cell_type": "code",
   "execution_count": 3,
   "id": "b4418b8d-16ee-4fbf-b6be-dcfd7bea4d56",
   "metadata": {},
   "outputs": [],
   "source": [
    "import numpy as np\n",
    "import pandas as pd\n",
    "import matplotlib.pyplot as plt\n",
    "%matplotlib inline\n",
    "import seaborn as sns\n",
    "df = pd.read_csv(\"anon_Admit_Report.csv\", encoding=\"unicode_escape\") #data set"
   ]
  },
  {
   "cell_type": "code",
   "execution_count": 104,
   "id": "cad4fdda-1b2b-4e4b-a86b-15aa813112fb",
   "metadata": {},
   "outputs": [
    {
     "name": "stdout",
     "output_type": "stream",
     "text": [
      "<class 'pandas.core.frame.DataFrame'>\n",
      "RangeIndex: 12647 entries, 0 to 12646\n",
      "Data columns (total 45 columns):\n",
      " #   Column                                                                                                                              Non-Null Count  Dtype  \n",
      "---  ------                                                                                                                              --------------  -----  \n",
      " 0   Applicant                                                                                                                           12647 non-null  int64  \n",
      " 1   Application                                                                                                                         12647 non-null  int64  \n",
      " 2   Created date                                                                                                                        12647 non-null  object \n",
      " 3   Submitted date                                                                                                                      12647 non-null  object \n",
      " 4   Offer type                                                                                                                          12647 non-null  object \n",
      " 5   Offer course name                                                                                                                   12647 non-null  object \n",
      " 6   Gender                                                                                                                              12647 non-null  object \n",
      " 7   Special needs                                                                                                                       0 non-null      float64\n",
      " 8   Disadvantaged background                                                                                                            0 non-null      float64\n",
      " 9   Latest Higher Education Institution                                                                                                 275 non-null    object \n",
      " 10  Latest Education Level                                                                                                              11566 non-null  object \n",
      " 11  Education - Block 1: Level of education                                                                                             12601 non-null  object \n",
      " 12  Education - Block 2: Level of education                                                                                             4089 non-null   object \n",
      " 13  Language: native                                                                                                                    12645 non-null  object \n",
      " 14  Extra question: Intended Major/Program of study at Ashesi University                                                                0 non-null      float64\n",
      " 15  Extra question: Have you applied to Ashesi before? If \"yes\" indicate the year.                                                      12567 non-null  object \n",
      " 16  Extra question: Have any of your family members gained admission to Ashesi University?                                              12634 non-null  object \n",
      " 17  Extra question: Is he/she alive?                                                                                                    4785 non-null   object \n",
      " 18  Extra question: Relationship to you?                                                                                                4776 non-null   object \n",
      " 19  Extra question: Level of education                                                                                                  5340 non-null   object \n",
      " 20  Extra question: Is he/she alive?.1                                                                                                  4785 non-null   object \n",
      " 21  Extra question: Relationship to you?.1                                                                                              4722 non-null   object \n",
      " 22  Extra question: Level of education.1                                                                                                5191 non-null   object \n",
      " 23  Extra question: Is he/she alive?.2                                                                                                  6362 non-null   object \n",
      " 24  Extra question: Relationship to you?.2                                                                                              6323 non-null   object \n",
      " 25  Extra question: Level of education.2                                                                                                6384 non-null   object \n",
      " 26  Extra question: Is he/she alive?.3                                                                                                  6045 non-null   object \n",
      " 27  Extra question: Relationship to you?.3                                                                                              5917 non-null   object \n",
      " 28  Extra question: Level of education.3                                                                                                6188 non-null   object \n",
      " 29  Extra question: Type of Exam                                                                                                        12645 non-null  object \n",
      " 30  Extra question: Exam Year                                                                                                           11604 non-null  object \n",
      " 31  Extra question: Certificate Awarded                                                                                                 9 non-null      object \n",
      " 32  Extra question: Graduating/Cummulative Score                                                                                        7 non-null      object \n",
      " 33  Extra question: Certificate Classification                                                                                          6 non-null      float64\n",
      " 34  Extra question: How did you hear about Ashesi? You can select all that apply to you:                                                12645 non-null  object \n",
      " 35  Extra question: Have you ever attended any Ashesi sponsored high school event? If \"yes\" please state event and year of attendance.  8200 non-null   object \n",
      " 36  Extra question: Do you Need Financial Aid?                                                                                          12645 non-null  object \n",
      " 37  Extra question: Do you need Financial Aid?                                                                                          0 non-null      float64\n",
      " 38  Extra question: Do you need Financial Aid                                                                                           0 non-null      float64\n",
      " 39  Extra question: Do you Need Financial Aid?.1                                                                                        0 non-null      float64\n",
      " 40  Language test - numerical score                                                                                                     0 non-null      float64\n",
      " 41  Language test - textual score                                                                                                       0 non-null      float64\n",
      " 42  Motivation letter - numerical score                                                                                                 0 non-null      float64\n",
      " 43  Motivation letter - textual score                                                                                                   0 non-null      float64\n",
      " 44  Skype interviw grade - numerical score                                                                                              0 non-null      float64\n",
      "dtypes: float64(12), int64(2), object(31)\n",
      "memory usage: 4.3+ MB\n"
     ]
    }
   ],
   "source": [
    "df.shape\n",
    "df.head()\n",
    "df.info()\n"
   ]
  },
  {
   "cell_type": "code",
   "execution_count": null,
   "id": "fc5a28b7",
   "metadata": {},
   "outputs": [
    {
     "name": "stdout",
     "output_type": "stream",
     "text": [
      "Applicant                                                                                                                                 0\n",
      "Application                                                                                                                               0\n",
      "Created date                                                                                                                              0\n",
      "Submitted date                                                                                                                            0\n",
      "Offer type                                                                                                                                0\n",
      "Offer course name                                                                                                                         0\n",
      "Gender                                                                                                                                    0\n",
      "Special needs                                                                                                                         12647\n",
      "Disadvantaged background                                                                                                              12647\n",
      "Latest Higher Education Institution                                                                                                   12372\n",
      "Latest Education Level                                                                                                                 1081\n",
      "Education - Block 1: Level of education                                                                                                  46\n",
      "Education - Block 2: Level of education                                                                                                8558\n",
      "Language: native                                                                                                                          2\n",
      "Extra question: Intended Major/Program of study at Ashesi University                                                                  12647\n",
      "Extra question: Have you applied to Ashesi before? If \"yes\" indicate the year.                                                           80\n",
      "Extra question: Have any of your family members gained admission to Ashesi University?                                                   13\n",
      "Extra question: Is he/she alive?                                                                                                       7862\n",
      "Extra question: Relationship to you?                                                                                                   7871\n",
      "Extra question: Level of education                                                                                                     7307\n",
      "Extra question: Is he/she alive?.1                                                                                                     7862\n",
      "Extra question: Relationship to you?.1                                                                                                 7925\n",
      "Extra question: Level of education.1                                                                                                   7456\n",
      "Extra question: Is he/she alive?.2                                                                                                     6285\n",
      "Extra question: Relationship to you?.2                                                                                                 6324\n",
      "Extra question: Level of education.2                                                                                                   6263\n",
      "Extra question: Is he/she alive?.3                                                                                                     6602\n",
      "Extra question: Relationship to you?.3                                                                                                 6730\n",
      "Extra question: Level of education.3                                                                                                   6459\n",
      "Extra question: Type of Exam                                                                                                              2\n",
      "Extra question: Exam Year                                                                                                              1043\n",
      "Extra question: Certificate Awarded                                                                                                   12638\n",
      "Extra question: Graduating/Cummulative Score                                                                                          12640\n",
      "Extra question: Certificate Classification                                                                                            12641\n",
      "Extra question: How did you hear about Ashesi? You can select all that apply to you:                                                      2\n",
      "Extra question: Have you ever attended any Ashesi sponsored high school event? If \"yes\" please state event and year of attendance.     4447\n",
      "Extra question: Do you Need Financial Aid?                                                                                                2\n",
      "Extra question: Do you need Financial Aid?                                                                                            12647\n",
      "Extra question: Do you need Financial Aid                                                                                             12647\n",
      "Extra question: Do you Need Financial Aid?.1                                                                                          12647\n",
      "Language test - numerical score                                                                                                       12647\n",
      "Language test - textual score                                                                                                         12647\n",
      "Motivation letter - numerical score                                                                                                   12647\n",
      "Motivation letter - textual score                                                                                                     12647\n",
      "Skype interviw grade - numerical score                                                                                                12647\n",
      "dtype: int64\n"
     ]
    }
   ],
   "source": [
    "#df.drop([\"Order ID\", \"unamed1\"], axis=1, inplace=True) remove rows\n",
    "pd.isnull(df).sum() \n",
    "null_counts = pd.isnull(df).sum()\n",
    "print(null_counts.a)"
   ]
  },
  {
   "cell_type": "code",
   "execution_count": null,
   "id": "a18af32c",
   "metadata": {},
   "outputs": [],
   "source": [
    "\n",
    "filtered_nulls = null_counts[null_counts < 500]\n",
    "\n",
    "print(filtered_nulls)\n",
    "\n",
    "\n"
   ]
  },
  {
   "cell_type": "code",
   "execution_count": null,
   "id": "64b9de68",
   "metadata": {},
   "outputs": [],
   "source": []
  },
  {
   "cell_type": "code",
   "execution_count": 106,
   "id": "37bdf0d8",
   "metadata": {},
   "outputs": [
    {
     "name": "stdout",
     "output_type": "stream",
     "text": [
      "<class 'pandas.core.frame.DataFrame'>\n",
      "RangeIndex: 12647 entries, 0 to 12646\n",
      "Data columns (total 44 columns):\n",
      " #   Column                                                                                                                              Non-Null Count  Dtype  \n",
      "---  ------                                                                                                                              --------------  -----  \n",
      " 0   Applicant                                                                                                                           12647 non-null  int64  \n",
      " 1   Application                                                                                                                         12647 non-null  int64  \n",
      " 2   Created date                                                                                                                        12647 non-null  object \n",
      " 3   Submitted date                                                                                                                      12647 non-null  object \n",
      " 4   Offer type                                                                                                                          12647 non-null  object \n",
      " 5   Offer course name                                                                                                                   12647 non-null  object \n",
      " 6   Gender                                                                                                                              12647 non-null  object \n",
      " 7   Special needs                                                                                                                       0 non-null      float64\n",
      " 8   Disadvantaged background                                                                                                            0 non-null      float64\n",
      " 9   Latest Higher Education Institution                                                                                                 275 non-null    object \n",
      " 10  Latest Education Level                                                                                                              11566 non-null  object \n",
      " 11  Education - Block 1: Level of education                                                                                             12601 non-null  object \n",
      " 12  Education - Block 2: Level of education                                                                                             4089 non-null   object \n",
      " 13  Language: native                                                                                                                    12645 non-null  object \n",
      " 14  Extra question: Intended Major/Program of study at Ashesi University                                                                0 non-null      float64\n",
      " 15  Extra question: Have you applied to Ashesi before? If \"yes\" indicate the year.                                                      12567 non-null  object \n",
      " 16  Extra question: Have any of your family members gained admission to Ashesi University?                                              12634 non-null  object \n",
      " 17  Extra question: Is he/she alive?                                                                                                    4785 non-null   object \n",
      " 18  Extra question: Relationship to you?                                                                                                4776 non-null   object \n",
      " 19  Extra question: Level of education                                                                                                  5340 non-null   object \n",
      " 20  Extra question: Is he/she alive?.1                                                                                                  4785 non-null   object \n",
      " 21  Extra question: Relationship to you?.1                                                                                              4722 non-null   object \n",
      " 22  Extra question: Level of education.1                                                                                                5191 non-null   object \n",
      " 23  Extra question: Is he/she alive?.2                                                                                                  6362 non-null   object \n",
      " 24  Extra question: Relationship to you?.2                                                                                              6323 non-null   object \n",
      " 25  Extra question: Level of education.2                                                                                                6384 non-null   object \n",
      " 26  Extra question: Is he/she alive?.3                                                                                                  6045 non-null   object \n",
      " 27  Extra question: Relationship to you?.3                                                                                              5917 non-null   object \n",
      " 28  Extra question: Level of education.3                                                                                                6188 non-null   object \n",
      " 29  Extra question: Type of Exam                                                                                                        12645 non-null  object \n",
      " 30  Extra question: Exam Year                                                                                                           11604 non-null  object \n",
      " 31  Extra question: Certificate Awarded                                                                                                 9 non-null      object \n",
      " 32  Extra question: Graduating/Cummulative Score                                                                                        7 non-null      object \n",
      " 33  Extra question: Certificate Classification                                                                                          6 non-null      float64\n",
      " 34  Extra question: Have you ever attended any Ashesi sponsored high school event? If \"yes\" please state event and year of attendance.  8200 non-null   object \n",
      " 35  Extra question: Do you Need Financial Aid?                                                                                          12645 non-null  object \n",
      " 36  Extra question: Do you need Financial Aid?                                                                                          0 non-null      float64\n",
      " 37  Extra question: Do you need Financial Aid                                                                                           0 non-null      float64\n",
      " 38  Extra question: Do you Need Financial Aid?.1                                                                                        0 non-null      float64\n",
      " 39  Language test - numerical score                                                                                                     0 non-null      float64\n",
      " 40  Language test - textual score                                                                                                       0 non-null      float64\n",
      " 41  Motivation letter - numerical score                                                                                                 0 non-null      float64\n",
      " 42  Motivation letter - textual score                                                                                                   0 non-null      float64\n",
      " 43  Skype interviw grade - numerical score                                                                                              0 non-null      float64\n",
      "dtypes: float64(12), int64(2), object(30)\n",
      "memory usage: 4.2+ MB\n"
     ]
    }
   ],
   "source": [
    "# Find columns with > 500 nulls\n",
    "null_counts = pd.isnull(df).sum()\n",
    "cols_to_drop = null_counts[null_counts > 500].index\n",
    "\n",
    "# Drop them from the dataset\n",
    "df_dropped = df.drop(columns=cols_to_drop)\n",
    "df_dropped = df.drop(columns=[\"Extra question: How did you hear about Ashesi? You can select all that apply to you:\"])\n",
    "df_dropped.shape\n",
    "df_dropped.info()\n"
   ]
  },
  {
   "cell_type": "code",
   "execution_count": null,
   "id": "c1e7f42f",
   "metadata": {},
   "outputs": [],
   "source": [
    "df_dropped['Created date'] = pd.to_datetime(df_dropped['Created date']).dt.to_period('M')\n",
    "df_dropped['Submitted date'] = pd.to_datetime(df_dropped['Submitted date']).dt.to_period('M')\n",
    "# print(df_dropped['Created date'])\n"
   ]
  },
  {
   "cell_type": "code",
   "execution_count": null,
   "id": "7afb4844",
   "metadata": {},
   "outputs": [],
   "source": [
    "df_dropped['Submitted date'] = pd.to_datetime(\n",
    "    df_dropped['Submitted date'], errors='coerce'\n",
    ").dt.to_period('M')\n",
    "# df_dropped = df_dropped.drop(columns=[\"Extra question: How did you hear about Ashesi? You can select all that apply to you:\"])\n",
    "# print(df_dropped['Submitted date'])df_dropped['Created date'] = pd.to_datetime(df_dropped['Created date'], errors='coerce').dt.to_period('M')"
   ]
  },
  {
   "cell_type": "code",
   "execution_count": 13,
   "id": "cfda6a5f",
   "metadata": {},
   "outputs": [
    {
     "name": "stdout",
     "output_type": "stream",
     "text": [
      "['Failed' 'Withdrawn' 'Enrolled' 'Auto Deny' 'Admission Package'\n",
      " 'Unreplied' 'Ready for committee' 'Positive Feedback'\n",
      " 'Positive Feedback (Sep)']\n"
     ]
    }
   ],
   "source": [
    "print(df_dropped['Offer type'].unique())\n",
    "# print(df_dropped['Offer type'])"
   ]
  },
  {
   "cell_type": "code",
   "execution_count": 30,
   "id": "db606ed3",
   "metadata": {},
   "outputs": [
    {
     "name": "stdout",
     "output_type": "stream",
     "text": [
      "['[B.Sc.] Computer Science' '[B.Sc.] Management Information Systems'\n",
      " '[B.Sc.] Electrical/Electronic Engineering'\n",
      " '[B.Sc.] Computer Engineering' '[B.Sc.] Mechanical Engineering'\n",
      " '[B.Sc.] Business Administration' '[B.Sc.] Mechatronic Engineering'\n",
      " '[B.Sc.] Economics' '[LLB] Law with Public Policy']\n"
     ]
    }
   ],
   "source": [
    "print(df_dropped['Offer course name'].unique())\n",
    "# print(df_dropped['Offer type'])"
   ]
  },
  {
   "cell_type": "code",
   "execution_count": 31,
   "id": "6be5383f",
   "metadata": {},
   "outputs": [
    {
     "name": "stdout",
     "output_type": "stream",
     "text": [
      "['M' 'F']\n"
     ]
    }
   ],
   "source": [
    "print(df_dropped['Gender'].unique())"
   ]
  },
  {
   "cell_type": "code",
   "execution_count": 33,
   "id": "b4478afd",
   "metadata": {},
   "outputs": [
    {
     "name": "stdout",
     "output_type": "stream",
     "text": [
      "['SE' 'OQ' 'VO' 'BA' 'EX' nan]\n"
     ]
    }
   ],
   "source": [
    "print(df_dropped['Education - Block 1: Level of education'].unique())"
   ]
  },
  {
   "cell_type": "code",
   "execution_count": null,
   "id": "183fc4c4",
   "metadata": {},
   "outputs": [
    {
     "name": "stdout",
     "output_type": "stream",
     "text": [
      "['ee' 'en' 'fat' 'yo' 'luo' 'ki' 'gaa' 'bfd' 'ak' 'so' 'ha' 'myv' 'tw'\n",
      " 'rw' 'sn' 'bem' 'ig' 'fr' 'und' 'gn' 'tum' 'am' 'ny' 'byv' 'sw' 'ff' 'nd'\n",
      " 'om' 'rwk' 'teo' 'nr' 'mul' 'ss' 'bas' 'man' 'ada' 'st' 'enm' 'zxx' 'af'\n",
      " 'dje' 'nyo' 'ar' 'kfo' 'ach' 'bm' 'nzi' 'efi' 'dyo' 'fon' 'bum' 'wo'\n",
      " 'mos' 'ab' 'dv' 'kpe' 'bkm' 'swc' 'mas' 'kam' 'mi' 'luy' 'idu' 'lg' 'nyn'\n",
      " 'pt' 'ybb' 'men' 'zu' 'kln' 'nym' 'bg' 'dua' 'tog' 'eo' 'din' 'dzg' 'lag'\n",
      " 'rn' 'yao' 'ksf' 'sid' 'mgo' 'ts' 'nus' 'dz' 'ln' 'frr' 'es' 'ibb' 'si'\n",
      " 'wal' 'nnh' 'tiv' 've' 'ast' 'guz' 'ban' 'ace' 'jgo' 'lua' 'ang' 'xog'\n",
      " 'loz' 'wae' 'dar' 'su' 'saq' 'yue' 'syc' 'ta' 'mni' 'tem' 'kr' 'bbj'\n",
      " 'gur' 'tn' 'ti' 'kg' 'lu' nan 'mer' 'pcm' 'ebu' 'bax' 'lfn' 'kri']\n"
     ]
    }
   ],
   "source": [
    "print(df_dropped['Language: native'].unique())"
   ]
  },
  {
   "cell_type": "code",
   "execution_count": 116,
   "id": "5ba23423",
   "metadata": {},
   "outputs": [
    {
     "name": "stdout",
     "output_type": "stream",
     "text": [
      "['yes 2017' 'Yes, I have applied it last year 2017' 'yes, 2016'\n",
      " 'Yes, 2017' 'Yes (AIX 2017)' 'Yes in 2017' 'Yes, in 2017' 'Yes 2017'\n",
      " 'Yes, 2017.' 'Yes, 2016' 'Yes - 2016 and 2017' 'yes, in 2017.'\n",
      " 'yes in 2017' 'Yes,2017' 'YES' 'Yes. 2017' 'Yes (2018)' 'YES (2018)'\n",
      " 'Yes' 'Yes. 2018' 'Yes, 2018' 'Yes 2018'\n",
      " 'Yes. In the year 2018 for the 2018 intake' 'yes(2018)' 'Yes/2018.'\n",
      " \"Yes, 2018 session, but I didn't complete it.\" 'YES, 2018' 'yes 2018'\n",
      " 'Yes in 2017 and 2018' 'Yes - 2018' 'Yes, in the year 2018' 'Yes(2018)'\n",
      " 'yes in 2017 and 2018' 'yes - 2018' 'Yes, in 2018' 'Yes please (2018)'\n",
      " 'Yes (2014)' 'Yes- 2018' 'Yes, I applied in 2018.' 'Yes  2017'\n",
      " 'Yes,2017/2018 and 2018/2019' 'Yes  2018' 'Yes, 2017/2018 Academic Year'\n",
      " 'Yes-2018' 'Yes: 2018' 'Yes. 2018.' 'yes, in 2018' 'yes, this year'\n",
      " 'yes. 2018' 'Yes, 2018.' 'YES 2019' 'YES ,2018' 'Yes,2019' 'Yes, 2019'\n",
      " 'Yes! 2019' 'Yes ,2019' 'Yes ; 2019' 'Yes (2019/2020)' 'Yes . 2019'\n",
      " 'Yes, 2019/2020' 'Yes 2019'\n",
      " 'Yes I have applied to Ashesi last year, Academic Year 2019'\n",
      " 'Yes - 2019/2020' 'yes, in 2019' 'Yes. In 2019' 'YES - 2019'\n",
      " 'yes in 2017 ,2018,and 2019' 'YES (2019)' 'Yes,2018'\n",
      " 'Yes 2019 application' 'Yes. 2019' 'YES, 2019' 'Yes in 2019' 'Yes-2019'\n",
      " 'Yes  2019' 'Yes, for 2019 academic year' 'Yes, 2019.'\n",
      " 'Yes, in 2018 and also in 2019' 'Yes - 2019'\n",
      " 'Yes 2019/2020 ACADEMIC YEAR' 'Yes - 2018, 2019'\n",
      " 'Yes, I applied last year 2019.' 'yes 2019' 'yes, 2019' 'yes'\n",
      " 'Yes - Year 2019' 'Yes(2019)' 'Yes, 2020.' 'Yes, 2020'\n",
      " 'Yes. In 2019 for Fall 2019 Admission (Class of 2023)' 'Yes,2020'\n",
      " 'Yes in 2020' 'YES. 2020' 'Yes I have applied to Ashesi before in 2020'\n",
      " 'Yes , 2020' 'Yes-2020' 'Yes 2020' 'Yes Please (2020)' 'yes 2020'\n",
      " 'Yes, I applied in year 2020' 'Yes 2020 ( Last academic year)'\n",
      " 'YES - 2020' 'Yes ,2020' 'yes, 2018' 'Yes.     2020' 'Yes,  2020'\n",
      " 'Yes 2018/ 2019' 'Yes I applied for 2020/2021 academic year'\n",
      " 'Yes 2019/2020' 'Yes(2020)' 'yes in 2020' 'Yes - 2020' 'Yes. 2020'\n",
      " 'Yes (Ashesi AIX 2019 Experience)' 'YES ( 2020)'\n",
      " 'Yes (2019/2020),(2020/21)' 'Yes  2018, 2019' 'Yes-2018, 2020'\n",
      " 'yes (2020)' 'yes, 2020' 'Yes , 2020.' 'Yes, in 2020' 'Yes 2021'\n",
      " 'yes, 2018, 2019, 2020 and 2021' 'Yes, 2021'\n",
      " 'YES I did apply to ASHESI for the 2021-2022 admission but unfortunately was not accepted.'\n",
      " 'Yes in 2021' 'Yes (2021)' 'Yes, Academic Year 2020/2021' 'Yes.  2021'\n",
      " 'yes in 2021' 'Yes 2021 applications' 'Yes. 2021' 'Yes 2021/2022'\n",
      " 'Yes.   Year: 2021' 'Yes - 2021/22' 'Yes. 2021/2022' 'Yes ,2021'\n",
      " 'Yes , 2021' 'Yes- 2021' 'Yes (2019/2020),(2020/21),(2021/22)'\n",
      " 'Yes, 2020/2021' 'Yes ( 2021)' 'Yes,2021/22 academic year' 'YES.2021'\n",
      " 'yes 2021' 'Yes - 2018, 2019, 2020, 2021' 'Yes, for 2022'\n",
      " 'Yes. In the year 2021' 'Yes; (2021)' 'Yes, for the AIX program 2022'\n",
      " 'yes, 2020.' 'yes. 2021' 'Yes, 2021 academic year' 'Yes - 2021'\n",
      " 'yes (2021)' 'YES -  2021' 'yes  2021/2022'\n",
      " 'YES,I was waiting for my result to come out' 'Yes but I failed to apply'\n",
      " 'Yes. 2022/2023 academic year' 'Yes. 2020 and 2021' 'Yes, 2020 and 2021'\n",
      " 'Yes. (2021)' 'yes  in 2021' 'Yes please, 2022' 'Yes, 2022.' 'Yes, 2022'\n",
      " 'Yes 2022' 'yes, 2022' 'Yes, 2021 and 2022' 'Yes 2022 admission cycle'\n",
      " 'Yes-2022' 'Yes in 2022' 'Yes, I applied to Ashes in 2023 intake'\n",
      " 'Yes. 2022/23' 'Yes (2022/23 academic year)'\n",
      " 'Yes, 2022/2023 Academic Year.' 'Yes /2022' 'Yes (2022)'\n",
      " 'Yes 2021/2022, 2022/2023' 'Yes, 2021, 2022' 'Yes, In 2021-2022'\n",
      " 'Yes. 2022' 'Yes 2021 & 2022' 'Yes (2022 and 2021)' 'Yes.  2022'\n",
      " 'Yes. I applied in 2022' 'Yes: 2021, 2022' 'yes,2022'\n",
      " 'Yes, (2022/2023 Admission)' 'Yes - 2022' 'Yes, 2020, 2022'\n",
      " 'Yes, In 2022' 'Yes. I applied during the 2022/2023 academic year.'\n",
      " 'Yes, in October 2022' 'Yes, in 2022' 'Yes , Year ; 2022/23'\n",
      " 'YES 2022/2023' 'YES-2022' 'yes, 2023' 'Yes. 2021/2022 Academic year'\n",
      " 'Yes,the year 2023' 'yes. 2023' 'Yes. 2023' 'Yes (2023)' 'yes ,2023'\n",
      " 'Yes, 2023' 'Yes- 2022' 'Yes(2023)' 'yes - 2023' 'Yes, 2023.'\n",
      " 'Yes - 2023' 'Yes, I applied in 2023.' 'Yes 2023'\n",
      " 'yes, 2021, 2022 and 2023.' 'Yes (Last year, 2023)' 'Yes , June 2023'\n",
      " 'Yes, I applied twice but all unsuccessful' 'Yes in 2023' 'Yes 2023/2024'\n",
      " 'Yes 2021-2022 and 2022-2023' 'Yes (2023/2024)' 'Yes , 2023/2024'\n",
      " 'Yes, I applied in 2023 for admission to the class of 2027.'\n",
      " 'Yes. 2021/2022  and 2023/2024 Academic year' 'yes 2023/2024' 'yes-2023'\n",
      " 'Yes, in the year 2023-2024' 'Yes  2023/2024'\n",
      " 'Yes, 2023/2024 academic year' 'Yes. 2023.'\n",
      " 'yes,i have applied to Ashesi before in last yeah 2023'\n",
      " 'Yes (2023 ,2022 and 2021)' 'Yes, In  October of 2023' 'Yes. In 2023.'\n",
      " 'Yes, 2023/2024' 'yes (2023)' 'Yes last year and this year'\n",
      " 'Yes. I applied in 2023' 'YES, 2016 and 2017'\n",
      " 'Yes.  2021/22  and 2022/23' 'Yes, This year.'\n",
      " \"Yes, I applied for Ashesi University scholarship several times. My first attempt was in July 2023 but wasn't eventually shortlisted. I gave it a second attempt early this year in February 2024, I was lucky to attend an interviewed session but unfortunately my application outcomes was not successful. However, I am still keeping my determination tight to give it a third attempt towards  realizing my academic career and weak financial backgrounds.\"\n",
      " 'Yes, 2024' 'yes  (2023/2024)' 'Yes,2023' 'Yes 2023/24' 'Yes , 2024']\n",
      "249\n"
     ]
    }
   ],
   "source": [
    "mask = 'Extra question: Have you applied to Ashesi before? If \"yes\" indicate the year.'\n",
    "\n",
    "no_entries = df_dropped.loc[\n",
    "    df_dropped[mask]\n",
    "    .str.contains(r'yes', case=False, na=False),\n",
    "    mask\n",
    "]\n",
    "print(no_entries.unique())\n",
    "print(len(no_entries.unique()))"
   ]
  },
  {
   "cell_type": "code",
   "execution_count": null,
   "id": "d26c73c2",
   "metadata": {},
   "outputs": [
    {
     "name": "stdout",
     "output_type": "stream",
     "text": [
      "['No' 'Yes']\n",
      "2\n"
     ]
    }
   ],
   "source": [
    "mask = 'Extra question: Have any of your family members gained admission to Ashesi University?'\n",
    "\n",
    "no_entries = df_dropped.loc[\n",
    "    df_dropped[mask]\n",
    "    .str.contains(r'', case=False, na=False),\n",
    "    mask\n",
    "]\n",
    "print(no_entries.unique())\n",
    "print(len(no_entries.unique()))"
   ]
  },
  {
   "cell_type": "code",
   "execution_count": 54,
   "id": "34c60ae4",
   "metadata": {},
   "outputs": [
    {
     "name": "stdout",
     "output_type": "stream",
     "text": [
      "['Extra question: Have any of your family members gained admission to Ashesi University? - No'\n",
      " 'Extra question: Have any of your family members gained admission to Ashesi University? - Yes']\n",
      "2\n",
      "['Extra question: Type of Exam - WASSCE - Ghana'\n",
      " \"Extra question: Type of Exam - IGCSE 'A' Level\"\n",
      " \"Extra question: Type of Exam - GCE 'O' LEVEL\"\n",
      " 'Extra question: Type of Exam - Other Official Exam'\n",
      " 'Extra question: Type of Exam - WASSCE - Ghana\\nOther Official Exam'\n",
      " 'Extra question: Type of Exam - WASSCE - Gambia'\n",
      " 'Extra question: Type of Exam - High School Diploma\\nOther Official Exam'\n",
      " 'Extra question: Type of Exam - High School Diploma'\n",
      " \"Extra question: Type of Exam - WASSCE - Ghana\\nIGCSE 'A' Level\"\n",
      " \"Extra question: Type of Exam - IGCSE 'A' Level\\nOther Official Exam\"\n",
      " \"Extra question: Type of Exam - IGCSE 'A' Level\\nHigh School Diploma\"\n",
      " \"Extra question: Type of Exam - WASSCE - Sierra Leone\\nIGCSE 'A' Level\\nOther Official Exam\"\n",
      " 'Extra question: Type of Exam - International Baccalaureate (IB) Diploma'\n",
      " 'Extra question: Type of Exam - WASSCE - Nigeria'\n",
      " \"Extra question: Type of Exam - IGCSE 'A' Level\\nGCE 'O' LEVEL\"\n",
      " \"Extra question: Type of Exam - IGCSE 'A' Level\\nInternational Baccalaureate (IB) Diploma\"\n",
      " 'Extra question: Type of Exam - High School Diploma\\nWASSCE - Nigeria'\n",
      " \"Extra question: Type of Exam - WASSCE - Gambia\\nIGCSE 'A' Level\"\n",
      " \"Extra question: Type of Exam - IGCSE 'A' Level\\nWASSCE - Nigeria\"\n",
      " 'Extra question: Type of Exam - International Baccalaureate (IB) Diploma\\nHigh School Diploma'\n",
      " 'Extra question: Type of Exam - WASSCE - Sierra Leone'\n",
      " 'Extra question: Type of Exam - Other Official Exam\\nWASSCE - Nigeria'\n",
      " 'Extra question: Type of Exam - High School Diploma\\nOther Official Exam\\nWASSCE - Nigeria'\n",
      " 'Extra question: Type of Exam - WASSCE - Liberia'\n",
      " 'Extra question: Type of Exam - WASSCE - Ghana\\nHigh School Diploma'\n",
      " 'Extra question: Type of Exam - WASSCE - Liberia\\nHigh School Diploma'\n",
      " 'Extra question: Type of Exam - International Baccalaureate (IB) Diploma\\nOther Official Exam'\n",
      " \"Extra question: Type of Exam - IGCSE 'A' Level\\nHigh School Diploma\\nOther Official Exam\"\n",
      " 'Extra question: Type of Exam - WASSCE - Ghana\\nInternational Baccalaureate (IB) Diploma'\n",
      " 'Extra question: Type of Exam - WASSCE - Ghana\\nWASSCE - Nigeria'\n",
      " \"Extra question: Type of Exam - WASSCE - Sierra Leone\\nIGCSE 'A' Level\"\n",
      " 'Extra question: Type of Exam - International Baccalaureate (IB) Diploma\\nHigh School Diploma\\nOther Official Exam'\n",
      " \"Extra question: Type of Exam - Other Official Exam\\nIGCSE 'A' Level\"\n",
      " 'Extra question: Type of Exam - Other Official Exam\\nHigh School Diploma'\n",
      " \"Extra question: Type of Exam - High School Diploma\\nIGCSE 'A' Level\"\n",
      " 'Extra question: Type of Exam - WASSCE - Nigeria\\nHigh School Diploma\\nOther Official Exam'\n",
      " \"Extra question: Type of Exam - International Baccalaureate (IB) Diploma\\nIGCSE 'A' Level\"\n",
      " \"Extra question: Type of Exam - WASSCE - Liberia\\nIGCSE 'A' Level\"\n",
      " 'Extra question: Type of Exam - WASSCE - Gambia\\nOther Official Exam'\n",
      " \"Extra question: Type of Exam - IGCSE 'A' Level\\nInternational Baccalaureate (IB) Diploma\\nWASSCE - Nigeria\"\n",
      " \"Extra question: Type of Exam - IGCSE 'A' Level\\nOther Official Exam\\nWASSCE - Nigeria\"\n",
      " 'Extra question: Type of Exam - WASSCE - Ghana\\nHigh School Diploma\\nOther Official Exam'\n",
      " \"Extra question: Type of Exam - IGCSE 'A' Level\\nInternational Baccalaureate (IB) Diploma\\nHigh School Diploma\"\n",
      " \"Extra question: Type of Exam - IGCSE 'A' Level\\nHigh School Diploma\\nOther Official Exam\\nWASSCE - Nigeria\"]\n",
      "44\n",
      "['Extra question: How did you hear about Ashesi? You can select all that apply to you: - Teacher / Counselor'\n",
      " 'Extra question: How did you hear about Ashesi? You can select all that apply to you: - Ashesi Student/Alumni\\nFriend\\nAshesi Website\\nTeacher / Counselor\\nCampus Tour'\n",
      " 'Extra question: How did you hear about Ashesi? You can select all that apply to you: - Friend\\nAshesi Website\\nTeacher / Counselor'\n",
      " ...\n",
      " 'Extra question: How did you hear about Ashesi? You can select all that apply to you: - Ashesi Student/Alumni\\nAshesi Website\\nSchool Visit\\nInstagram\\nTeacher / Counselor\\nFriend'\n",
      " 'Extra question: How did you hear about Ashesi? You can select all that apply to you: - Ashesi Website\\nTeacher / Counselor\\nTelevision'\n",
      " 'Extra question: How did you hear about Ashesi? You can select all that apply to you: - Friend\\nAshesi Student/Alumni\\nNewspaper']\n",
      "2206\n",
      "['Extra question: Do you Need Financial Aid? - Yes'\n",
      " 'Extra question: Do you Need Financial Aid? - No']\n",
      "2\n"
     ]
    }
   ],
   "source": [
    "for x in filtered_nulls.index.tolist()[10:]:\n",
    "    \n",
    "    no_entries = df_dropped.loc[\n",
    "    df_dropped[x]\n",
    "    .str.contains(r'', case=False, na=False),\n",
    "    x\n",
    "]\n",
    "    print(x + \" - \" + no_entries.unique())\n",
    "    print(len(no_entries.unique()))"
   ]
  },
  {
   "cell_type": "markdown",
   "id": "fd1236ea",
   "metadata": {},
   "source": []
  },
  {
   "cell_type": "code",
   "execution_count": 70,
   "id": "8486babc",
   "metadata": {},
   "outputs": [],
   "source": [
    "# Replace 'wassce ghana' with 'WSCE GH' in the specified column\n",
    "# df_dropped['Extra question: Type of Exam'] = df_dropped['Extra question: Type of Exam'].replace(\"IGCSE 'A' Level\\nWASSCE - Nigeria\", 'IGCSE A Level')\n",
    "# df_dropped['Extra question: Type of Exam'] = df_dropped['Extra question: Type of Exam'].replace('High School Diploma', 'WASSCE - Ghana')\n",
    "df_dropped['Extra question: Type of Exam'] = df_dropped['Extra question: Type of Exam'].replace(r'Other Official Exam\\nWASSCE - Nigeria', 'WASSCE - Nigeria')\n",
    "df_dropped['Extra question: Type of Exam'] = df_dropped['Extra question: Type of Exam'].replace(r'Other Official Exam\\nWASSCE - Nigeria', 'WASSCE - Nigeria')\n",
    "# df_dropped['Extra question: Type of Exam'] = df_dropped['Extra question: Type of Exam'].replace('International Baccalaureate (IB) Diploma', 'International Baccalaureate')\n",
    "df_dropped['Extra question: Type of Exam'] = df_dropped['Extra question: Type of Exam'].replace(r'Other Official Exam\\nWASSCE - Nigeria', 'WASSCE - Nigeria')\n",
    "df_dropped['Extra question: Type of Exam'] = df_dropped['Extra question: Type of Exam'].replace(r\"WASSCE - Sierra Leone\\nIGCSE 'A' Level\\nOther Official Exam\", 'WASSCE - Sierra Leone')\n",
    "df_dropped['Extra question: Type of Exam'] = df_dropped['Extra question: Type of Exam'].replace(r\"International Baccalaureate (IB) Diploma\\nHigh School Diploma\\nOther Official Exam\",'International Baccalaureate')\n"
   ]
  },
  {
   "cell_type": "code",
   "execution_count": 101,
   "id": "426135b3",
   "metadata": {},
   "outputs": [],
   "source": [
    "# Collapse similar entries in 'Extra question: Type of Exam'\n",
    "# Replace any cell containing 'International Baccalaureate' with 'International Baccalaureate'\n",
    "df_dropped.loc[df_dropped['Extra question: Type of Exam'].str.contains('International Baccalaureate', case=False, na=False), 'Extra question: Type of Exam'] = 'International Baccalaureate'\n",
    "df_dropped.loc[df_dropped['Extra question: Type of Exam'].str.contains(\"High School Diploma\", case=False, na=False), 'Extra question: Type of Exam'] = \"WASSCE - Ghana\"\n",
    "df_dropped.loc[df_dropped['Extra question: Type of Exam'].str.contains(\"IGCSE A Level\", case=False, na=False), 'Extra question: Type of Exam'] = \"IGCSE 'A' Level\"\n",
    "df_dropped.loc[df_dropped['Extra question: Type of Exam'].str.contains(\"WASSCE - Gambia\", case=False, na=False), 'Extra question: Type of Exam'] = \"WASSCE - Gambia\"\n",
    "df_dropped.loc[df_dropped['Extra question: Type of Exam'].str.contains('Other Official Exam', case=False, na=False), 'Extra question: Type of Exam'] = \"IGCSE 'A' Level\"\n",
    "df_dropped.loc[df_dropped['Extra question: Type of Exam'].str.contains('WASSCE - Liberia', case=False, na=False), 'Extra question: Type of Exam'] = 'WASSCE - Liberia'\n",
    "df_dropped.loc[df_dropped['Extra question: Type of Exam'].str.contains('WASSCE - Nigeria', case=False, na=False), 'Extra question: Type of Exam'] = 'WASSCE - Nigeria'"
   ]
  },
  {
   "cell_type": "code",
   "execution_count": 83,
   "id": "dcfd3254",
   "metadata": {},
   "outputs": [
    {
     "name": "stdout",
     "output_type": "stream",
     "text": [
      "['WASSCE - Ghana' \"IGCSE 'A' Level\" \"GCE 'O' LEVEL\" 'WASSCE - Gambia'\n",
      " 'WASSCE - Sierra Leone' 'International Baccalaureate' 'WASSCE - Nigeria'\n",
      " 'WASSCE - Liberia' nan]\n"
     ]
    }
   ],
   "source": [
    "print(df_dropped['Extra question: Type of Exam'].unique())"
   ]
  },
  {
   "cell_type": "code",
   "execution_count": 109,
   "id": "7a99fff2",
   "metadata": {},
   "outputs": [
    {
     "name": "stdout",
     "output_type": "stream",
     "text": [
      "       Applicant  Application Created date Submitted date Offer type  \\\n",
      "0            557          470      2018-01        2018-02     Failed   \n",
      "1            566          473      2018-01            NaT     Failed   \n",
      "2            569          479      2018-01            NaT     Failed   \n",
      "3            572          482      2018-01            NaT     Failed   \n",
      "4            575          485      2018-01            NaT     Failed   \n",
      "...          ...          ...          ...            ...        ...   \n",
      "12642      57326        40098      2024-12            NaT     Failed   \n",
      "12643      57346        40110      2024-12            NaT     Failed   \n",
      "12644      57347        40111      2024-12            NaT     Failed   \n",
      "12645      57348        40112      2024-12            NaT     Failed   \n",
      "12646      57349        40113      2024-12        2025-02     Failed   \n",
      "\n",
      "                               Offer course name Gender  Special needs  \\\n",
      "0                       [B.Sc.] Computer Science      M            NaN   \n",
      "1         [B.Sc.] Management Information Systems      M            NaN   \n",
      "2      [B.Sc.] Electrical/Electronic Engineering      M            NaN   \n",
      "3                   [B.Sc.] Computer Engineering      M            NaN   \n",
      "4                 [B.Sc.] Mechanical Engineering      M            NaN   \n",
      "...                                          ...    ...            ...   \n",
      "12642            [B.Sc.] Business Administration      F            NaN   \n",
      "12643               [B.Sc.] Computer Engineering      M            NaN   \n",
      "12644               [LLB] Law with Public Policy      F            NaN   \n",
      "12645            [B.Sc.] Business Administration      F            NaN   \n",
      "12646               [LLB] Law with Public Policy      F            NaN   \n",
      "\n",
      "       Disadvantaged background Latest Higher Education Institution  ...  \\\n",
      "0                           NaN                                 NaN  ...   \n",
      "1                           NaN                                 NaN  ...   \n",
      "2                           NaN                                 NaN  ...   \n",
      "3                           NaN                                 NaN  ...   \n",
      "4                           NaN                                 NaN  ...   \n",
      "...                         ...                                 ...  ...   \n",
      "12642                       NaN                                 NaN  ...   \n",
      "12643                       NaN                                 NaN  ...   \n",
      "12644                       NaN                                 NaN  ...   \n",
      "12645                       NaN                                 NaN  ...   \n",
      "12646                       NaN                                 NaN  ...   \n",
      "\n",
      "      Extra question: Have you ever attended any Ashesi sponsored high school event? If \"yes\" please state event and year of attendance.  \\\n",
      "0                                                     No                                                                                   \n",
      "1                                                    NaN                                                                                   \n",
      "2                                         No I have not.                                                                                   \n",
      "3                      Ashesi Innovation Experience 2016                                                                                   \n",
      "4                                                     No                                                                                   \n",
      "...                                                  ...                                                                                   \n",
      "12642                                                 No                                                                                   \n",
      "12643                                                 No                                                                                   \n",
      "12644                                                 No                                                                                   \n",
      "12645                                                 No                                                                                   \n",
      "12646                                                 No                                                                                   \n",
      "\n",
      "      Extra question: Do you Need Financial Aid?  \\\n",
      "0                                            Yes   \n",
      "1                                             No   \n",
      "2                                            Yes   \n",
      "3                                            Yes   \n",
      "4                                            Yes   \n",
      "...                                          ...   \n",
      "12642                                         No   \n",
      "12643                                         No   \n",
      "12644                                         No   \n",
      "12645                                         No   \n",
      "12646                                         No   \n",
      "\n",
      "      Extra question: Do you need Financial Aid?  \\\n",
      "0                                            NaN   \n",
      "1                                            NaN   \n",
      "2                                            NaN   \n",
      "3                                            NaN   \n",
      "4                                            NaN   \n",
      "...                                          ...   \n",
      "12642                                        NaN   \n",
      "12643                                        NaN   \n",
      "12644                                        NaN   \n",
      "12645                                        NaN   \n",
      "12646                                        NaN   \n",
      "\n",
      "      Extra question: Do you need Financial Aid  \\\n",
      "0                                           NaN   \n",
      "1                                           NaN   \n",
      "2                                           NaN   \n",
      "3                                           NaN   \n",
      "4                                           NaN   \n",
      "...                                         ...   \n",
      "12642                                       NaN   \n",
      "12643                                       NaN   \n",
      "12644                                       NaN   \n",
      "12645                                       NaN   \n",
      "12646                                       NaN   \n",
      "\n",
      "       Extra question: Do you Need Financial Aid?.1  \\\n",
      "0                                               NaN   \n",
      "1                                               NaN   \n",
      "2                                               NaN   \n",
      "3                                               NaN   \n",
      "4                                               NaN   \n",
      "...                                             ...   \n",
      "12642                                           NaN   \n",
      "12643                                           NaN   \n",
      "12644                                           NaN   \n",
      "12645                                           NaN   \n",
      "12646                                           NaN   \n",
      "\n",
      "      Language test - numerical score Language test - textual score  \\\n",
      "0                                 NaN                           NaN   \n",
      "1                                 NaN                           NaN   \n",
      "2                                 NaN                           NaN   \n",
      "3                                 NaN                           NaN   \n",
      "4                                 NaN                           NaN   \n",
      "...                               ...                           ...   \n",
      "12642                             NaN                           NaN   \n",
      "12643                             NaN                           NaN   \n",
      "12644                             NaN                           NaN   \n",
      "12645                             NaN                           NaN   \n",
      "12646                             NaN                           NaN   \n",
      "\n",
      "      Motivation letter - numerical score Motivation letter - textual score  \\\n",
      "0                                     NaN                               NaN   \n",
      "1                                     NaN                               NaN   \n",
      "2                                     NaN                               NaN   \n",
      "3                                     NaN                               NaN   \n",
      "4                                     NaN                               NaN   \n",
      "...                                   ...                               ...   \n",
      "12642                                 NaN                               NaN   \n",
      "12643                                 NaN                               NaN   \n",
      "12644                                 NaN                               NaN   \n",
      "12645                                 NaN                               NaN   \n",
      "12646                                 NaN                               NaN   \n",
      "\n",
      "      Skype interviw grade - numerical score  \n",
      "0                                        NaN  \n",
      "1                                        NaN  \n",
      "2                                        NaN  \n",
      "3                                        NaN  \n",
      "4                                        NaN  \n",
      "...                                      ...  \n",
      "12642                                    NaN  \n",
      "12643                                    NaN  \n",
      "12644                                    NaN  \n",
      "12645                                    NaN  \n",
      "12646                                    NaN  \n",
      "\n",
      "[12647 rows x 44 columns]\n"
     ]
    }
   ],
   "source": [
    "print(df_dropped)"
   ]
  },
  {
   "cell_type": "code",
   "execution_count": 111,
   "id": "943c1df8",
   "metadata": {},
   "outputs": [
    {
     "name": "stdout",
     "output_type": "stream",
     "text": [
      "<PeriodArray>\n",
      "['2018-02',     'NaT', '2018-04', '2018-07', '2018-01', '2018-03', '2018-11',\n",
      " '2018-09', '2018-05', '2018-12', '2018-10', '2018-08', '2018-06', '2019-12',\n",
      " '2019-11', '2019-03', '2019-05', '2019-06', '2019-04', '2019-10', '2019-07',\n",
      " '2019-09', '2019-02', '2019-01', '2019-08', '2020-07', '2020-02', '2020-05',\n",
      " '2020-12', '2020-09', '2020-01', '2020-11', '2020-06', '2020-10', '2020-04',\n",
      " '2020-03', '2020-08', '2021-03', '2021-12', '2021-10', '2021-04', '2021-09',\n",
      " '2021-06', '2021-11', '2021-07', '2021-01', '2021-08', '2021-02', '2022-04',\n",
      " '2021-05', '2022-11', '2022-03', '2022-07', '2022-09', '2022-02', '2022-06',\n",
      " '2022-05', '2022-01', '2022-10', '2022-08', '2022-12', '2023-03', '2023-02',\n",
      " '2023-05', '2023-08', '2023-12', '2023-01', '2023-09', '2023-04', '2023-11',\n",
      " '2024-06', '2023-06', '2024-01', '2023-10', '2024-03', '2023-07', '2024-08',\n",
      " '2024-02', '2024-09', '2024-11', '2024-04', '2025-04', '2024-07', '2024-05',\n",
      " '2024-10', '2025-02', '2025-05', '2025-06', '2024-12', '2025-08', '2025-01',\n",
      " '2025-07', '2025-03', '2025-09', '2025-10']\n",
      "Length: 95, dtype: period[M]\n"
     ]
    }
   ],
   "source": [
    "print(df_dropped['Submitted date'].unique())"
   ]
  },
  {
   "cell_type": "code",
   "execution_count": 112,
   "id": "29f9dd3b",
   "metadata": {},
   "outputs": [],
   "source": [
    "import pandas as pd\n",
    "import matplotlib.pyplot as plt\n",
    "\n",
    "def describe_and_plot(series: pd.Series, title=\"Series Analysis\"):\n",
    "    \"\"\"\n",
    "    Takes a pandas Series and:\n",
    "    - If numeric → histogram\n",
    "    - If categorical → bar chart\n",
    "    - Prints summary stats (mean, median, mode, std, variance)\n",
    "    \"\"\"\n",
    "    # Drop NA for cleaner analysis\n",
    "    s = series.dropna()\n",
    "    \n",
    "    # Check if numeric\n",
    "    if pd.api.types.is_numeric_dtype(s):\n",
    "        # Plot histogram\n",
    "        plt.figure(figsize=(6,4))\n",
    "        plt.hist(s, bins=10, color=\"skyblue\", edgecolor=\"black\")\n",
    "        plt.title(f\"{title} (Histogram)\")\n",
    "        plt.xlabel(\"Values\")\n",
    "        plt.ylabel(\"Frequency\")\n",
    "        plt.show()\n",
    "        \n",
    "        # Stats\n",
    "        print(\"📊 Numeric Summary:\")\n",
    "        print(f\"Mean      : {s.mean():.2f}\")\n",
    "        print(f\"Median    : {s.median():.2f}\")\n",
    "        print(f\"Mode      : {s.mode().values}\")\n",
    "        print(f\"Std Dev   : {s.std():.2f}\")\n",
    "        print(f\"Variance  : {s.var():.2f}\")\n",
    "    \n",
    "    else:\n",
    "        # Plot bar chart\n",
    "        counts = s.value_counts()\n",
    "        plt.figure(figsize=(6,4))\n",
    "        counts.plot(kind=\"bar\", color=\"orange\", edgecolor=\"black\")\n",
    "        plt.title(f\"{title} (Bar Chart)\")\n",
    "        plt.xlabel(\"Categories\")\n",
    "        plt.ylabel(\"Count\")\n",
    "        plt.show()\n",
    "        \n",
    "        # Stats\n",
    "        print(\"📊 Categorical Summary:\")\n",
    "        print(f\"Mode (Most Frequent) : {s.mode().values}\")\n",
    "        print(f\"Unique Categories    : {s.nunique()}\")\n",
    "        print(f\"Total Count          : {s.count()}\")\n"
   ]
  },
  {
   "cell_type": "code",
   "execution_count": 115,
   "id": "317db25d",
   "metadata": {},
   "outputs": [
    {
     "data": {
      "image/png": "[encoded data removed]",
      "text/plain": [
       "<Figure size 600x400 with 1 Axes>"
      ]
     },
     "metadata": {},
     "output_type": "display_data"
    },
    {
     "name": "stdout",
     "output_type": "stream",
     "text": [
      "📊 Categorical Summary:\n",
      "Mode (Most Frequent) : ['[B.Sc.] Business Administration']\n",
      "Unique Categories    : 9\n",
      "Total Count          : 12647\n"
     ]
    }
   ],
   "source": [
    "\n",
    "describe_and_plot(df_dropped['Offer course name'])\n"
   ]
  }
 ],
 "metadata": {
  "kernelspec": {
   "display_name": "Python 3",
   "language": "python",
   "name": "python3"
  },
  "language_info": {
   "codemirror_mode": {
    "name": "ipython",
    "version": 3
   },
   "file_extension": ".py",
   "mimetype": "text/x-python",
   "name": "python",
   "nbconvert_exporter": "python",
   "pygments_lexer": "ipython3",
   "version": "3.13.7"
  }
 },
 "nbformat": 4,
 "nbformat_minor": 5
}
