{
 "cells": [
  {
   "cell_type": "code",
   "execution_count": null,
   "id": "b4418b8d-16ee-4fbf-b6be-dcfd7bea4d56",
   "metadata": {},
   "outputs": [],
   "source": [
    "import numpy as np\n",
    "import pandas as pd\n",
    "import matplotlib.pyplot as plt\n",
    "%matplotlib inline\n",
    "\n",
    "import seaborn as sns\n",
    "df = pd.read_csv(\"anon_Admit_Report.csv\", encoding=\"unicode_escape\") #data set"
   ]
  },
  {
   "cell_type": "code",
   "execution_count": 6,
   "id": "cad4fdda-1b2b-4e4b-a86b-15aa813112fb",
   "metadata": {},
   "outputs": [
    {
     "name": "stdout",
     "output_type": "stream",
     "text": [
      "<class 'pandas.core.frame.DataFrame'>\n",
      "RangeIndex: 12647 entries, 0 to 12646\n",
      "Data columns (total 45 columns):\n",
      " #   Column                                                                                                                              Non-Null Count  Dtype  \n",
      "---  ------                                                                                                                              --------------  -----  \n",
      " 0   Applicant                                                                                                                           12647 non-null  int64  \n",
      " 1   Application                                                                                                                         12647 non-null  int64  \n",
      " 2   Created date                                                                                                                        12647 non-null  object \n",
      " 3   Submitted date                                                                                                                      12647 non-null  object \n",
      " 4   Offer type                                                                                                                          12647 non-null  object \n",
      " 5   Offer course name                                                                                                                   12647 non-null  object \n",
      " 6   Gender                                                                                                                              12647 non-null  object \n",
      " 7   Special needs                                                                                                                       0 non-null      float64\n",
      " 8   Disadvantaged background                                                                                                            0 non-null      float64\n",
      " 9   Latest Higher Education Institution                                                                                                 275 non-null    object \n",
      " 10  Latest Education Level                                                                                                              11566 non-null  object \n",
      " 11  Education - Block 1: Level of education                                                                                             12601 non-null  object \n",
      " 12  Education - Block 2: Level of education                                                                                             4089 non-null   object \n",
      " 13  Language: native                                                                                                                    12645 non-null  object \n",
      " 14  Extra question: Intended Major/Program of study at Ashesi University                                                                0 non-null      float64\n",
      " 15  Extra question: Have you applied to Ashesi before? If \"yes\" indicate the year.                                                      12567 non-null  object \n",
      " 16  Extra question: Have any of your family members gained admission to Ashesi University?                                              12634 non-null  object \n",
      " 17  Extra question: Is he/she alive?                                                                                                    4785 non-null   object \n",
      " 18  Extra question: Relationship to you?                                                                                                4776 non-null   object \n",
      " 19  Extra question: Level of education                                                                                                  5340 non-null   object \n",
      " 20  Extra question: Is he/she alive?.1                                                                                                  4785 non-null   object \n",
      " 21  Extra question: Relationship to you?.1                                                                                              4722 non-null   object \n",
      " 22  Extra question: Level of education.1                                                                                                5191 non-null   object \n",
      " 23  Extra question: Is he/she alive?.2                                                                                                  6362 non-null   object \n",
      " 24  Extra question: Relationship to you?.2                                                                                              6323 non-null   object \n",
      " 25  Extra question: Level of education.2                                                                                                6384 non-null   object \n",
      " 26  Extra question: Is he/she alive?.3                                                                                                  6045 non-null   object \n",
      " 27  Extra question: Relationship to you?.3                                                                                              5917 non-null   object \n",
      " 28  Extra question: Level of education.3                                                                                                6188 non-null   object \n",
      " 29  Extra question: Type of Exam                                                                                                        12645 non-null  object \n",
      " 30  Extra question: Exam Year                                                                                                           11604 non-null  object \n",
      " 31  Extra question: Certificate Awarded                                                                                                 9 non-null      object \n",
      " 32  Extra question: Graduating/Cummulative Score                                                                                        7 non-null      object \n",
      " 33  Extra question: Certificate Classification                                                                                          6 non-null      float64\n",
      " 34  Extra question: How did you hear about Ashesi? You can select all that apply to you:                                                12645 non-null  object \n",
      " 35  Extra question: Have you ever attended any Ashesi sponsored high school event? If \"yes\" please state event and year of attendance.  8200 non-null   object \n",
      " 36  Extra question: Do you Need Financial Aid?                                                                                          12645 non-null  object \n",
      " 37  Extra question: Do you need Financial Aid?                                                                                          0 non-null      float64\n",
      " 38  Extra question: Do you need Financial Aid                                                                                           0 non-null      float64\n",
      " 39  Extra question: Do you Need Financial Aid?.1                                                                                        0 non-null      float64\n",
      " 40  Language test - numerical score                                                                                                     0 non-null      float64\n",
      " 41  Language test - textual score                                                                                                       0 non-null      float64\n",
      " 42  Motivation letter - numerical score                                                                                                 0 non-null      float64\n",
      " 43  Motivation letter - textual score                                                                                                   0 non-null      float64\n",
      " 44  Skype interviw grade - numerical score                                                                                              0 non-null      float64\n",
      "dtypes: float64(12), int64(2), object(31)\n",
      "memory usage: 4.3+ MB\n"
     ]
    }
   ],
   "source": [
    "df.shape\n",
    "df.head()\n",
    "df.info()"
   ]
  },
  {
   "cell_type": "code",
   "execution_count": 15,
   "id": "fc5a28b7",
   "metadata": {},
   "outputs": [
    {
     "name": "stdout",
     "output_type": "stream",
     "text": [
      "Special needs                                                                                                                         12647\n",
      "Disadvantaged background                                                                                                              12647\n",
      "Latest Higher Education Institution                                                                                                   12372\n",
      "Latest Education Level                                                                                                                 1081\n",
      "Education - Block 2: Level of education                                                                                                8558\n",
      "Extra question: Intended Major/Program of study at Ashesi University                                                                  12647\n",
      "Extra question: Is he/she alive?                                                                                                       7862\n",
      "Extra question: Relationship to you?                                                                                                   7871\n",
      "Extra question: Level of education                                                                                                     7307\n",
      "Extra question: Is he/she alive?.1                                                                                                     7862\n",
      "Extra question: Relationship to you?.1                                                                                                 7925\n",
      "Extra question: Level of education.1                                                                                                   7456\n",
      "Extra question: Is he/she alive?.2                                                                                                     6285\n",
      "Extra question: Relationship to you?.2                                                                                                 6324\n",
      "Extra question: Level of education.2                                                                                                   6263\n",
      "Extra question: Is he/she alive?.3                                                                                                     6602\n",
      "Extra question: Relationship to you?.3                                                                                                 6730\n",
      "Extra question: Level of education.3                                                                                                   6459\n",
      "Extra question: Exam Year                                                                                                              1043\n",
      "Extra question: Certificate Awarded                                                                                                   12638\n",
      "Extra question: Graduating/Cummulative Score                                                                                          12640\n",
      "Extra question: Certificate Classification                                                                                            12641\n",
      "Extra question: Have you ever attended any Ashesi sponsored high school event? If \"yes\" please state event and year of attendance.     4447\n",
      "Extra question: Do you need Financial Aid?                                                                                            12647\n",
      "Extra question: Do you need Financial Aid                                                                                             12647\n",
      "Extra question: Do you Need Financial Aid?.1                                                                                          12647\n",
      "Language test - numerical score                                                                                                       12647\n",
      "Language test - textual score                                                                                                         12647\n",
      "Motivation letter - numerical score                                                                                                   12647\n",
      "Motivation letter - textual score                                                                                                     12647\n",
      "Skype interviw grade - numerical score                                                                                                12647\n",
      "dtype: int64\n"
     ]
    }
   ],
   "source": [
    "#df.drop([\"Order ID\", \"unamed1\"], axis=1, inplace=True) remove rows\n",
    "pd.isnull(df).sum() \n",
    "null_counts = pd.isnull(df).sum()\n",
    "filtered_nulls = null_counts[null_counts > 500]\n",
    "print(filtered_nulls)\n",
    "\n",
    "\n"
   ]
  },
  {
   "cell_type": "code",
   "execution_count": 21,
   "id": "37bdf0d8",
   "metadata": {},
   "outputs": [
    {
     "name": "stdout",
     "output_type": "stream",
     "text": [
      "<class 'pandas.core.frame.DataFrame'>\n",
      "RangeIndex: 12647 entries, 0 to 12646\n",
      "Data columns (total 14 columns):\n",
      " #   Column                                                                                  Non-Null Count  Dtype \n",
      "---  ------                                                                                  --------------  ----- \n",
      " 0   Applicant                                                                               12647 non-null  int64 \n",
      " 1   Application                                                                             12647 non-null  int64 \n",
      " 2   Created date                                                                            12647 non-null  object\n",
      " 3   Submitted date                                                                          12647 non-null  object\n",
      " 4   Offer type                                                                              12647 non-null  object\n",
      " 5   Offer course name                                                                       12647 non-null  object\n",
      " 6   Gender                                                                                  12647 non-null  object\n",
      " 7   Education - Block 1: Level of education                                                 12601 non-null  object\n",
      " 8   Language: native                                                                        12645 non-null  object\n",
      " 9   Extra question: Have you applied to Ashesi before? If \"yes\" indicate the year.          12567 non-null  object\n",
      " 10  Extra question: Have any of your family members gained admission to Ashesi University?  12634 non-null  object\n",
      " 11  Extra question: Type of Exam                                                            12645 non-null  object\n",
      " 12  Extra question: How did you hear about Ashesi? You can select all that apply to you:    12645 non-null  object\n",
      " 13  Extra question: Do you Need Financial Aid?                                              12645 non-null  object\n",
      "dtypes: int64(2), object(12)\n",
      "memory usage: 1.4+ MB\n"
     ]
    }
   ],
   "source": [
    "# Find columns with > 500 nulls\n",
    "null_counts = pd.isnull(df).sum()\n",
    "cols_to_drop = null_counts[null_counts > 500].index\n",
    "\n",
    "# Drop them from the dataset\n",
    "df_dropped = df.drop(columns=cols_to_drop)\n",
    "df_dropped.shape\n",
    "df_dropped.info()\n"
   ]
  },
  {
   "cell_type": "code",
   "execution_count": null,
   "id": "c1e7f42f",
   "metadata": {},
   "outputs": [
    {
     "name": "stdout",
     "output_type": "stream",
     "text": [
      "0        2018-01\n",
      "1        2018-01\n",
      "2        2018-01\n",
      "3        2018-01\n",
      "4        2018-01\n",
      "          ...   \n",
      "12642    2024-12\n",
      "12643    2024-12\n",
      "12644    2024-12\n",
      "12645    2024-12\n",
      "12646    2024-12\n",
      "Name: Created date, Length: 12647, dtype: period[M]\n"
     ]
    },
    {
     "name": "stderr",
     "output_type": "stream",
     "text": [
      "/var/folders/6g/n1qq009n3_d6hxkwbx1stm9m0000gn/T/ipykernel_4599/2255703535.py:1: UserWarning: Parsing dates in %d/%m/%Y %H:%M format when dayfirst=False (the default) was specified. Pass `dayfirst=True` or specify a format to silence this warning.\n",
      "  df_dropped['Created date'] = pd.to_datetime(df_dropped['Created date']).dt.to_period('M')\n"
     ]
    }
   ],
   "source": [
    "\n",
    "df_dropped['Created date'] = pd.to_datetime(df_dropped['Created date']).dt.to_period('M')\n",
    "df_dropped['Submitted date'] = pd.to_datetime(df_dropped['Submitted date']).dt.to_period('M')\n",
    "print(df_dropped['Created date'])"
   ]
  },
  {
   "cell_type": "code",
   "execution_count": 29,
   "id": "cfda6a5f",
   "metadata": {},
   "outputs": [
    {
     "name": "stdout",
     "output_type": "stream",
     "text": [
      "['Failed' 'Withdrawn' 'Enrolled' 'Auto Deny' 'Admission Package'\n",
      " 'Unreplied' 'Ready for committee' 'Positive Feedback'\n",
      " 'Positive Feedback (Sep)']\n"
     ]
    }
   ],
   "source": [
    "print(df_dropped['Offer type'].unique())\n",
    "# print(df_dropped['Offer type'])"
   ]
  },
  {
   "cell_type": "code",
   "execution_count": 30,
   "id": "db606ed3",
   "metadata": {},
   "outputs": [
    {
     "name": "stdout",
     "output_type": "stream",
     "text": [
      "['[B.Sc.] Computer Science' '[B.Sc.] Management Information Systems'\n",
      " '[B.Sc.] Electrical/Electronic Engineering'\n",
      " '[B.Sc.] Computer Engineering' '[B.Sc.] Mechanical Engineering'\n",
      " '[B.Sc.] Business Administration' '[B.Sc.] Mechatronic Engineering'\n",
      " '[B.Sc.] Economics' '[LLB] Law with Public Policy']\n"
     ]
    }
   ],
   "source": [
    "print(df_dropped['Offer course name'].unique())\n",
    "# print(df_dropped['Offer type'])"
   ]
  },
  {
   "cell_type": "code",
   "execution_count": 31,
   "id": "6be5383f",
   "metadata": {},
   "outputs": [
    {
     "name": "stdout",
     "output_type": "stream",
     "text": [
      "['M' 'F']\n"
     ]
    }
   ],
   "source": [
    "print(df_dropped['Gender'].unique())"
   ]
  },
  {
   "cell_type": "code",
   "execution_count": 33,
   "id": "b4478afd",
   "metadata": {},
   "outputs": [
    {
     "name": "stdout",
     "output_type": "stream",
     "text": [
      "['SE' 'OQ' 'VO' 'BA' 'EX' nan]\n"
     ]
    }
   ],
   "source": [
    "print(df_dropped['Education - Block 1: Level of education'].unique())"
   ]
  },
  {
   "cell_type": "code",
   "execution_count": 34,
   "id": "183fc4c4",
   "metadata": {},
   "outputs": [
    {
     "name": "stdout",
     "output_type": "stream",
     "text": [
      "['ee' 'en' 'fat' 'yo' 'luo' 'ki' 'gaa' 'bfd' 'ak' 'so' 'ha' 'myv' 'tw'\n",
      " 'rw' 'sn' 'bem' 'ig' 'fr' 'und' 'gn' 'tum' 'am' 'ny' 'byv' 'sw' 'ff' 'nd'\n",
      " 'om' 'rwk' 'teo' 'nr' 'mul' 'ss' 'bas' 'man' 'ada' 'st' 'enm' 'zxx' 'af'\n",
      " 'dje' 'nyo' 'ar' 'kfo' 'ach' 'bm' 'nzi' 'efi' 'dyo' 'fon' 'bum' 'wo'\n",
      " 'mos' 'ab' 'dv' 'kpe' 'bkm' 'swc' 'mas' 'kam' 'mi' 'luy' 'idu' 'lg' 'nyn'\n",
      " 'pt' 'ybb' 'men' 'zu' 'kln' 'nym' 'bg' 'dua' 'tog' 'eo' 'din' 'dzg' 'lag'\n",
      " 'rn' 'yao' 'ksf' 'sid' 'mgo' 'ts' 'nus' 'dz' 'ln' 'frr' 'es' 'ibb' 'si'\n",
      " 'wal' 'nnh' 'tiv' 've' 'ast' 'guz' 'ban' 'ace' 'jgo' 'lua' 'ang' 'xog'\n",
      " 'loz' 'wae' 'dar' 'su' 'saq' 'yue' 'syc' 'ta' 'mni' 'tem' 'kr' 'bbj'\n",
      " 'gur' 'tn' 'ti' 'kg' 'lu' nan 'mer' 'pcm' 'ebu' 'bax' 'lfn' 'kri']\n"
     ]
    }
   ],
   "source": [
    "print(df_dropped['Language: native'].unique())"
   ]
  },
  {
   "cell_type": "code",
   "execution_count": 53,
   "id": "5ba23423",
   "metadata": {},
   "outputs": [
    {
     "name": "stdout",
     "output_type": "stream",
     "text": [
      "['yes 2017' 'Yes, I have applied it last year 2017' 'yes, 2016'\n",
      " 'Yes, 2017' 'Yes (AIX 2017)' 'Yes in 2017' 'Yes, in 2017' 'Yes 2017'\n",
      " 'Yes, 2017.' 'Yes, 2016' 'Yes - 2016 and 2017' 'yes, in 2017.'\n",
      " 'yes in 2017' 'Yes,2017' 'YES' 'Yes. 2017' 'Yes (2018)' 'YES (2018)'\n",
      " 'Yes' 'Yes. 2018' 'Yes, 2018' 'Yes 2018'\n",
      " 'Yes. In the year 2018 for the 2018 intake' 'yes(2018)' 'Yes/2018.'\n",
      " \"Yes, 2018 session, but I didn't complete it.\" 'YES, 2018' 'yes 2018'\n",
      " 'Yes in 2017 and 2018' 'Yes - 2018' 'Yes, in the year 2018' 'Yes(2018)'\n",
      " 'yes in 2017 and 2018' 'yes - 2018' 'Yes, in 2018' 'Yes please (2018)'\n",
      " 'Yes (2014)' 'Yes- 2018' 'Yes, I applied in 2018.' 'Yes  2017'\n",
      " 'Yes,2017/2018 and 2018/2019' 'Yes  2018' 'Yes, 2017/2018 Academic Year'\n",
      " 'Yes-2018' 'Yes: 2018' 'Yes. 2018.' 'yes, in 2018' 'yes, this year'\n",
      " 'yes. 2018' 'Yes, 2018.' 'YES 2019' 'YES ,2018' 'Yes,2019' 'Yes, 2019'\n",
      " 'Yes! 2019' 'Yes ,2019' 'Yes ; 2019' 'Yes (2019/2020)' 'Yes . 2019'\n",
      " 'Yes, 2019/2020' 'Yes 2019'\n",
      " 'Yes I have applied to Ashesi last year, Academic Year 2019'\n",
      " 'Yes - 2019/2020' 'yes, in 2019' 'Yes. In 2019' 'YES - 2019'\n",
      " 'yes in 2017 ,2018,and 2019' 'YES (2019)' 'Yes,2018'\n",
      " 'Yes 2019 application' 'Yes. 2019' 'YES, 2019' 'Yes in 2019' 'Yes-2019'\n",
      " 'Yes  2019' 'Yes, for 2019 academic year' 'Yes, 2019.'\n",
      " 'Yes, in 2018 and also in 2019' 'Yes - 2019'\n",
      " 'Yes 2019/2020 ACADEMIC YEAR' 'Yes - 2018, 2019'\n",
      " 'Yes, I applied last year 2019.' 'yes 2019' 'yes, 2019' 'yes'\n",
      " 'Yes - Year 2019' 'Yes(2019)' 'Yes, 2020.' 'Yes, 2020'\n",
      " 'Yes. In 2019 for Fall 2019 Admission (Class of 2023)' 'Yes,2020'\n",
      " 'Yes in 2020' 'YES. 2020' 'Yes I have applied to Ashesi before in 2020'\n",
      " 'Yes , 2020' 'Yes-2020' 'Yes 2020' 'Yes Please (2020)' 'yes 2020'\n",
      " 'Yes, I applied in year 2020' 'Yes 2020 ( Last academic year)'\n",
      " 'YES - 2020' 'Yes ,2020' 'yes, 2018' 'Yes.     2020' 'Yes,  2020'\n",
      " 'Yes 2018/ 2019' 'Yes I applied for 2020/2021 academic year'\n",
      " 'Yes 2019/2020' 'Yes(2020)' 'yes in 2020' 'Yes - 2020' 'Yes. 2020'\n",
      " 'Yes (Ashesi AIX 2019 Experience)' 'YES ( 2020)'\n",
      " 'Yes (2019/2020),(2020/21)' 'Yes  2018, 2019' 'Yes-2018, 2020'\n",
      " 'yes (2020)' 'yes, 2020' 'Yes , 2020.' 'Yes, in 2020' 'Yes 2021'\n",
      " 'yes, 2018, 2019, 2020 and 2021' 'Yes, 2021'\n",
      " 'YES I did apply to ASHESI for the 2021-2022 admission but unfortunately was not accepted.'\n",
      " 'Yes in 2021' 'Yes (2021)' 'Yes, Academic Year 2020/2021' 'Yes.  2021'\n",
      " 'yes in 2021' 'Yes 2021 applications' 'Yes. 2021' 'Yes 2021/2022'\n",
      " 'Yes.   Year: 2021' 'Yes - 2021/22' 'Yes. 2021/2022' 'Yes ,2021'\n",
      " 'Yes , 2021' 'Yes- 2021' 'Yes (2019/2020),(2020/21),(2021/22)'\n",
      " 'Yes, 2020/2021' 'Yes ( 2021)' 'Yes,2021/22 academic year' 'YES.2021'\n",
      " 'yes 2021' 'Yes - 2018, 2019, 2020, 2021' 'Yes, for 2022'\n",
      " 'Yes. In the year 2021' 'Yes; (2021)' 'Yes, for the AIX program 2022'\n",
      " 'yes, 2020.' 'yes. 2021' 'Yes, 2021 academic year' 'Yes - 2021'\n",
      " 'yes (2021)' 'YES -  2021' 'yes  2021/2022'\n",
      " 'YES,I was waiting for my result to come out' 'Yes but I failed to apply'\n",
      " 'Yes. 2022/2023 academic year' 'Yes. 2020 and 2021' 'Yes, 2020 and 2021'\n",
      " 'Yes. (2021)' 'yes  in 2021' 'Yes please, 2022' 'Yes, 2022.' 'Yes, 2022'\n",
      " 'Yes 2022' 'yes, 2022' 'Yes, 2021 and 2022' 'Yes 2022 admission cycle'\n",
      " 'Yes-2022' 'Yes in 2022' 'Yes, I applied to Ashes in 2023 intake'\n",
      " 'Yes. 2022/23' 'Yes (2022/23 academic year)'\n",
      " 'Yes, 2022/2023 Academic Year.' 'Yes /2022' 'Yes (2022)'\n",
      " 'Yes 2021/2022, 2022/2023' 'Yes, 2021, 2022' 'Yes, In 2021-2022'\n",
      " 'Yes. 2022' 'Yes 2021 & 2022' 'Yes (2022 and 2021)' 'Yes.  2022'\n",
      " 'Yes. I applied in 2022' 'Yes: 2021, 2022' 'yes,2022'\n",
      " 'Yes, (2022/2023 Admission)' 'Yes - 2022' 'Yes, 2020, 2022'\n",
      " 'Yes, In 2022' 'Yes. I applied during the 2022/2023 academic year.'\n",
      " 'Yes, in October 2022' 'Yes, in 2022' 'Yes , Year ; 2022/23'\n",
      " 'YES 2022/2023' 'YES-2022' 'yes, 2023' 'Yes. 2021/2022 Academic year'\n",
      " 'Yes,the year 2023' 'yes. 2023' 'Yes. 2023' 'Yes (2023)' 'yes ,2023'\n",
      " 'Yes, 2023' 'Yes- 2022' 'Yes(2023)' 'yes - 2023' 'Yes, 2023.'\n",
      " 'Yes - 2023' 'Yes, I applied in 2023.' 'Yes 2023'\n",
      " 'yes, 2021, 2022 and 2023.' 'Yes (Last year, 2023)' 'Yes , June 2023'\n",
      " 'Yes, I applied twice but all unsuccessful' 'Yes in 2023' 'Yes 2023/2024'\n",
      " 'Yes 2021-2022 and 2022-2023' 'Yes (2023/2024)' 'Yes , 2023/2024'\n",
      " 'Yes, I applied in 2023 for admission to the class of 2027.'\n",
      " 'Yes. 2021/2022  and 2023/2024 Academic year' 'yes 2023/2024' 'yes-2023'\n",
      " 'Yes, in the year 2023-2024' 'Yes  2023/2024'\n",
      " 'Yes, 2023/2024 academic year' 'Yes. 2023.'\n",
      " 'yes,i have applied to Ashesi before in last yeah 2023'\n",
      " 'Yes (2023 ,2022 and 2021)' 'Yes, In  October of 2023' 'Yes. In 2023.'\n",
      " 'Yes, 2023/2024' 'yes (2023)' 'Yes last year and this year'\n",
      " 'Yes. I applied in 2023' 'YES, 2016 and 2017'\n",
      " 'Yes.  2021/22  and 2022/23' 'Yes, This year.'\n",
      " \"Yes, I applied for Ashesi University scholarship several times. My first attempt was in July 2023 but wasn't eventually shortlisted. I gave it a second attempt early this year in February 2024, I was lucky to attend an interviewed session but unfortunately my application outcomes was not successful. However, I am still keeping my determination tight to give it a third attempt towards  realizing my academic career and weak financial backgrounds.\"\n",
      " 'Yes, 2024' 'yes  (2023/2024)' 'Yes,2023' 'Yes 2023/24' 'Yes , 2024']\n",
      "249\n"
     ]
    }
   ],
   "source": [
    "mask = 'Extra question: Have you applied to Ashesi before? If \"yes\" indicate the year.'\n",
    "\n",
    "no_entries = df_dropped.loc[\n",
    "    df_dropped[mask]\n",
    "    .str.contains(r'yes', case=False, na=False),\n",
    "    mask\n",
    "]\n",
    "print(no_entries.unique())\n",
    "print(len(no_entries.unique()))"
   ]
  },
  {
   "cell_type": "code",
   "execution_count": 54,
   "id": "9a3d5f3e",
   "metadata": {},
   "outputs": [
    {
     "name": "stdout",
     "output_type": "stream",
     "text": [
      "['Yes 2017' 'Yes 2016' 'Yes 2016 2017' 'Yes' 'Yes 2018' 'Yes 2018 2018'\n",
      " 'Yes 2017 2018' 'Yes 2014' 'Yes 2017 2018 2018 2019' 'Yes 2019'\n",
      " 'Yes 2019 2020' 'Yes 2017 2018 2019' 'Yes 2018 2019' 'Yes 2020'\n",
      " 'Yes 2019 2019 2023' 'Yes 2020 2021' 'Yes 2019 2020 2020' 'Yes 2018 2020'\n",
      " 'Yes 2021' 'Yes 2018 2019 2020 2021' 'Yes 2021 2022'\n",
      " 'Yes 2019 2020 2020 2021' 'Yes 2022' 'Yes 2022 2023' 'Yes 2023'\n",
      " 'Yes 2021 2022 2022 2023' 'Yes 2022 2021' 'Yes 2020 2022'\n",
      " 'Yes 2021 2022 2023' 'Yes 2023 2024' 'Yes 2023 2027'\n",
      " 'Yes 2021 2022 2023 2024' 'Yes 2023 2022 2021' 'Yes 2024']\n"
     ]
    }
   ],
   "source": [
    "import re\n",
    "\n",
    "col = 'Extra question: Have you applied to Ashesi before? If \"yes\" indicate the year.'\n",
    "\n",
    "def clean_yes(entry):\n",
    "    if pd.isna(entry):\n",
    "        return None\n",
    "    text = entry.strip().lower()\n",
    "    \n",
    "    # Only process if it contains \"yes\"\n",
    "    if \"yes\" in text:\n",
    "        # Find all 4-digit years\n",
    "        years = re.findall(r\"\\b\\d{4}\\b\", text)\n",
    "        # Build clean string\n",
    "        return \"Yes \" + \" \".join(years) if years else \"Yes\"\n",
    "    return None\n",
    "\n",
    "# Apply function to the column\n",
    "yes_cleaned = df_dropped[col].apply(clean_yes).dropna()\n",
    "\n",
    "print(yes_cleaned.unique())\n"
   ]
  }
 ],
 "metadata": {
  "kernelspec": {
   "display_name": ".venv",
   "language": "python",
   "name": "python3"
  },
  "language_info": {
   "codemirror_mode": {
    "name": "ipython",
    "version": 3
   },
   "file_extension": ".py",
   "mimetype": "text/x-python",
   "name": "python",
   "nbconvert_exporter": "python",
   "pygments_lexer": "ipython3",
   "version": "3.13.7"
  }
 },
 "nbformat": 4,
 "nbformat_minor": 5
}
