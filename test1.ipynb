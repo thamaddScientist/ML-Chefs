{
 "cells": [
  {
   "cell_type": "code",
   "execution_count": 182,
   "id": "b4418b8d-16ee-4fbf-b6be-dcfd7bea4d56",
   "metadata": {},
   "outputs": [],
   "source": [
    "import numpy as np\n",
    "import pandas as pd\n",
    "import matplotlib.pyplot as plt\n",
    "%matplotlib inline\n",
    "import seaborn as sns\n",
    "df = pd.read_csv(\"anon_Admit_Report.csv\", encoding=\"unicode_escape\") #data set"
   ]
  },
  {
   "cell_type": "code",
   "execution_count": 183,
   "id": "cad4fdda-1b2b-4e4b-a86b-15aa813112fb",
   "metadata": {},
   "outputs": [
    {
     "name": "stdout",
     "output_type": "stream",
     "text": [
      "<class 'pandas.core.frame.DataFrame'>\n",
      "RangeIndex: 12647 entries, 0 to 12646\n",
      "Data columns (total 45 columns):\n",
      " #   Column                                                                                                                              Non-Null Count  Dtype  \n",
      "---  ------                                                                                                                              --------------  -----  \n",
      " 0   Applicant                                                                                                                           12647 non-null  int64  \n",
      " 1   Application                                                                                                                         12647 non-null  int64  \n",
      " 2   Created date                                                                                                                        12647 non-null  object \n",
      " 3   Submitted date                                                                                                                      12647 non-null  object \n",
      " 4   Offer type                                                                                                                          12647 non-null  object \n",
      " 5   Offer course name                                                                                                                   12647 non-null  object \n",
      " 6   Gender                                                                                                                              12647 non-null  object \n",
      " 7   Special needs                                                                                                                       0 non-null      float64\n",
      " 8   Disadvantaged background                                                                                                            0 non-null      float64\n",
      " 9   Latest Higher Education Institution                                                                                                 275 non-null    object \n",
      " 10  Latest Education Level                                                                                                              11566 non-null  object \n",
      " 11  Education - Block 1: Level of education                                                                                             12601 non-null  object \n",
      " 12  Education - Block 2: Level of education                                                                                             4089 non-null   object \n",
      " 13  Language: native                                                                                                                    12645 non-null  object \n",
      " 14  Extra question: Intended Major/Program of study at Ashesi University                                                                0 non-null      float64\n",
      " 15  Extra question: Have you applied to Ashesi before? If \"yes\" indicate the year.                                                      12567 non-null  object \n",
      " 16  Extra question: Have any of your family members gained admission to Ashesi University?                                              12634 non-null  object \n",
      " 17  Extra question: Is he/she alive?                                                                                                    4785 non-null   object \n",
      " 18  Extra question: Relationship to you?                                                                                                4776 non-null   object \n",
      " 19  Extra question: Level of education                                                                                                  5340 non-null   object \n",
      " 20  Extra question: Is he/she alive?.1                                                                                                  4785 non-null   object \n",
      " 21  Extra question: Relationship to you?.1                                                                                              4722 non-null   object \n",
      " 22  Extra question: Level of education.1                                                                                                5191 non-null   object \n",
      " 23  Extra question: Is he/she alive?.2                                                                                                  6362 non-null   object \n",
      " 24  Extra question: Relationship to you?.2                                                                                              6323 non-null   object \n",
      " 25  Extra question: Level of education.2                                                                                                6384 non-null   object \n",
      " 26  Extra question: Is he/she alive?.3                                                                                                  6045 non-null   object \n",
      " 27  Extra question: Relationship to you?.3                                                                                              5917 non-null   object \n",
      " 28  Extra question: Level of education.3                                                                                                6188 non-null   object \n",
      " 29  Extra question: Type of Exam                                                                                                        12645 non-null  object \n",
      " 30  Extra question: Exam Year                                                                                                           11604 non-null  object \n",
      " 31  Extra question: Certificate Awarded                                                                                                 9 non-null      object \n",
      " 32  Extra question: Graduating/Cummulative Score                                                                                        7 non-null      object \n",
      " 33  Extra question: Certificate Classification                                                                                          6 non-null      float64\n",
      " 34  Extra question: How did you hear about Ashesi? You can select all that apply to you:                                                12645 non-null  object \n",
      " 35  Extra question: Have you ever attended any Ashesi sponsored high school event? If \"yes\" please state event and year of attendance.  8200 non-null   object \n",
      " 36  Extra question: Do you Need Financial Aid?                                                                                          12645 non-null  object \n",
      " 37  Extra question: Do you need Financial Aid?                                                                                          0 non-null      float64\n",
      " 38  Extra question: Do you need Financial Aid                                                                                           0 non-null      float64\n",
      " 39  Extra question: Do you Need Financial Aid?.1                                                                                        0 non-null      float64\n",
      " 40  Language test - numerical score                                                                                                     0 non-null      float64\n",
      " 41  Language test - textual score                                                                                                       0 non-null      float64\n",
      " 42  Motivation letter - numerical score                                                                                                 0 non-null      float64\n",
      " 43  Motivation letter - textual score                                                                                                   0 non-null      float64\n",
      " 44  Skype interviw grade - numerical score                                                                                              0 non-null      float64\n",
      "dtypes: float64(12), int64(2), object(31)\n",
      "memory usage: 4.3+ MB\n"
     ]
    }
   ],
   "source": [
    "df.shape\n",
    "df.head()\n",
    "df.info()\n"
   ]
  },
  {
   "cell_type": "code",
   "execution_count": 184,
   "id": "fc5a28b7",
   "metadata": {},
   "outputs": [
    {
     "name": "stdout",
     "output_type": "stream",
     "text": [
      "Applicant                                                                                                                                 0\n",
      "Application                                                                                                                               0\n",
      "Created date                                                                                                                              0\n",
      "Submitted date                                                                                                                            0\n",
      "Offer type                                                                                                                                0\n",
      "Offer course name                                                                                                                         0\n",
      "Gender                                                                                                                                    0\n",
      "Special needs                                                                                                                         12647\n",
      "Disadvantaged background                                                                                                              12647\n",
      "Latest Higher Education Institution                                                                                                   12372\n",
      "Latest Education Level                                                                                                                 1081\n",
      "Education - Block 1: Level of education                                                                                                  46\n",
      "Education - Block 2: Level of education                                                                                                8558\n",
      "Language: native                                                                                                                          2\n",
      "Extra question: Intended Major/Program of study at Ashesi University                                                                  12647\n",
      "Extra question: Have you applied to Ashesi before? If \"yes\" indicate the year.                                                           80\n",
      "Extra question: Have any of your family members gained admission to Ashesi University?                                                   13\n",
      "Extra question: Is he/she alive?                                                                                                       7862\n",
      "Extra question: Relationship to you?                                                                                                   7871\n",
      "Extra question: Level of education                                                                                                     7307\n",
      "Extra question: Is he/she alive?.1                                                                                                     7862\n",
      "Extra question: Relationship to you?.1                                                                                                 7925\n",
      "Extra question: Level of education.1                                                                                                   7456\n",
      "Extra question: Is he/she alive?.2                                                                                                     6285\n",
      "Extra question: Relationship to you?.2                                                                                                 6324\n",
      "Extra question: Level of education.2                                                                                                   6263\n",
      "Extra question: Is he/she alive?.3                                                                                                     6602\n",
      "Extra question: Relationship to you?.3                                                                                                 6730\n",
      "Extra question: Level of education.3                                                                                                   6459\n",
      "Extra question: Type of Exam                                                                                                              2\n",
      "Extra question: Exam Year                                                                                                              1043\n",
      "Extra question: Certificate Awarded                                                                                                   12638\n",
      "Extra question: Graduating/Cummulative Score                                                                                          12640\n",
      "Extra question: Certificate Classification                                                                                            12641\n",
      "Extra question: How did you hear about Ashesi? You can select all that apply to you:                                                      2\n",
      "Extra question: Have you ever attended any Ashesi sponsored high school event? If \"yes\" please state event and year of attendance.     4447\n",
      "Extra question: Do you Need Financial Aid?                                                                                                2\n",
      "Extra question: Do you need Financial Aid?                                                                                            12647\n",
      "Extra question: Do you need Financial Aid                                                                                             12647\n",
      "Extra question: Do you Need Financial Aid?.1                                                                                          12647\n",
      "Language test - numerical score                                                                                                       12647\n",
      "Language test - textual score                                                                                                         12647\n",
      "Motivation letter - numerical score                                                                                                   12647\n",
      "Motivation letter - textual score                                                                                                     12647\n",
      "Skype interviw grade - numerical score                                                                                                12647\n",
      "dtype: int64\n"
     ]
    }
   ],
   "source": [
    "#df.drop([\"Order ID\", \"unamed1\"], axis=1, inplace=True) remove rows\n",
    "pd.isnull(df).sum() \n",
    "null_counts = pd.isnull(df).sum()\n",
    "print(null_counts)"
   ]
  },
  {
   "cell_type": "code",
   "execution_count": 185,
   "id": "a18af32c",
   "metadata": {},
   "outputs": [
    {
     "name": "stdout",
     "output_type": "stream",
     "text": [
      "Applicant                                                                                  0\n",
      "Application                                                                                0\n",
      "Created date                                                                               0\n",
      "Submitted date                                                                             0\n",
      "Offer type                                                                                 0\n",
      "Offer course name                                                                          0\n",
      "Gender                                                                                     0\n",
      "Education - Block 1: Level of education                                                   46\n",
      "Language: native                                                                           2\n",
      "Extra question: Have you applied to Ashesi before? If \"yes\" indicate the year.            80\n",
      "Extra question: Have any of your family members gained admission to Ashesi University?    13\n",
      "Extra question: Type of Exam                                                               2\n",
      "Extra question: How did you hear about Ashesi? You can select all that apply to you:       2\n",
      "Extra question: Do you Need Financial Aid?                                                 2\n",
      "dtype: int64\n"
     ]
    }
   ],
   "source": [
    "\n",
    "filtered_nulls = null_counts[null_counts < 500]\n",
    "\n",
    "print(filtered_nulls)\n",
    "\n",
    "\n"
   ]
  },
  {
   "cell_type": "code",
   "execution_count": null,
   "id": "64b9de68",
   "metadata": {},
   "outputs": [],
   "source": []
  },
  {
   "cell_type": "code",
   "execution_count": 186,
   "id": "37bdf0d8",
   "metadata": {},
   "outputs": [
    {
     "name": "stdout",
     "output_type": "stream",
     "text": [
      "<class 'pandas.core.frame.DataFrame'>\n",
      "RangeIndex: 12647 entries, 0 to 12646\n",
      "Data columns (total 44 columns):\n",
      " #   Column                                                                                                                              Non-Null Count  Dtype  \n",
      "---  ------                                                                                                                              --------------  -----  \n",
      " 0   Applicant                                                                                                                           12647 non-null  int64  \n",
      " 1   Application                                                                                                                         12647 non-null  int64  \n",
      " 2   Created date                                                                                                                        12647 non-null  object \n",
      " 3   Submitted date                                                                                                                      12647 non-null  object \n",
      " 4   Offer type                                                                                                                          12647 non-null  object \n",
      " 5   Offer course name                                                                                                                   12647 non-null  object \n",
      " 6   Gender                                                                                                                              12647 non-null  object \n",
      " 7   Special needs                                                                                                                       0 non-null      float64\n",
      " 8   Disadvantaged background                                                                                                            0 non-null      float64\n",
      " 9   Latest Higher Education Institution                                                                                                 275 non-null    object \n",
      " 10  Latest Education Level                                                                                                              11566 non-null  object \n",
      " 11  Education - Block 1: Level of education                                                                                             12601 non-null  object \n",
      " 12  Education - Block 2: Level of education                                                                                             4089 non-null   object \n",
      " 13  Language: native                                                                                                                    12645 non-null  object \n",
      " 14  Extra question: Intended Major/Program of study at Ashesi University                                                                0 non-null      float64\n",
      " 15  Extra question: Have you applied to Ashesi before? If \"yes\" indicate the year.                                                      12567 non-null  object \n",
      " 16  Extra question: Have any of your family members gained admission to Ashesi University?                                              12634 non-null  object \n",
      " 17  Extra question: Is he/she alive?                                                                                                    4785 non-null   object \n",
      " 18  Extra question: Relationship to you?                                                                                                4776 non-null   object \n",
      " 19  Extra question: Level of education                                                                                                  5340 non-null   object \n",
      " 20  Extra question: Is he/she alive?.1                                                                                                  4785 non-null   object \n",
      " 21  Extra question: Relationship to you?.1                                                                                              4722 non-null   object \n",
      " 22  Extra question: Level of education.1                                                                                                5191 non-null   object \n",
      " 23  Extra question: Is he/she alive?.2                                                                                                  6362 non-null   object \n",
      " 24  Extra question: Relationship to you?.2                                                                                              6323 non-null   object \n",
      " 25  Extra question: Level of education.2                                                                                                6384 non-null   object \n",
      " 26  Extra question: Is he/she alive?.3                                                                                                  6045 non-null   object \n",
      " 27  Extra question: Relationship to you?.3                                                                                              5917 non-null   object \n",
      " 28  Extra question: Level of education.3                                                                                                6188 non-null   object \n",
      " 29  Extra question: Type of Exam                                                                                                        12645 non-null  object \n",
      " 30  Extra question: Exam Year                                                                                                           11604 non-null  object \n",
      " 31  Extra question: Certificate Awarded                                                                                                 9 non-null      object \n",
      " 32  Extra question: Graduating/Cummulative Score                                                                                        7 non-null      object \n",
      " 33  Extra question: Certificate Classification                                                                                          6 non-null      float64\n",
      " 34  Extra question: Have you ever attended any Ashesi sponsored high school event? If \"yes\" please state event and year of attendance.  8200 non-null   object \n",
      " 35  Extra question: Do you Need Financial Aid?                                                                                          12645 non-null  object \n",
      " 36  Extra question: Do you need Financial Aid?                                                                                          0 non-null      float64\n",
      " 37  Extra question: Do you need Financial Aid                                                                                           0 non-null      float64\n",
      " 38  Extra question: Do you Need Financial Aid?.1                                                                                        0 non-null      float64\n",
      " 39  Language test - numerical score                                                                                                     0 non-null      float64\n",
      " 40  Language test - textual score                                                                                                       0 non-null      float64\n",
      " 41  Motivation letter - numerical score                                                                                                 0 non-null      float64\n",
      " 42  Motivation letter - textual score                                                                                                   0 non-null      float64\n",
      " 43  Skype interviw grade - numerical score                                                                                              0 non-null      float64\n",
      "dtypes: float64(12), int64(2), object(30)\n",
      "memory usage: 4.2+ MB\n"
     ]
    }
   ],
   "source": [
    "# Find columns with > 500 nulls\n",
    "null_counts = pd.isnull(df).sum()\n",
    "cols_to_drop = null_counts[null_counts > 500].index\n",
    "\n",
    "# Drop them from the dataset\n",
    "df_dropped = df.drop(columns=cols_to_drop)\n",
    "df_dropped = df.drop(columns=[\"Extra question: How did you hear about Ashesi? You can select all that apply to you:\"])\n",
    "df_dropped.shape\n",
    "df_dropped.info()\n"
   ]
  },
  {
   "cell_type": "code",
   "execution_count": 187,
   "id": "c1e7f42f",
   "metadata": {},
   "outputs": [
    {
     "name": "stderr",
     "output_type": "stream",
     "text": [
      "/var/folders/6g/n1qq009n3_d6hxkwbx1stm9m0000gn/T/ipykernel_13713/1973988504.py:1: UserWarning: Parsing dates in %d/%m/%Y %H:%M format when dayfirst=False (the default) was specified. Pass `dayfirst=True` or specify a format to silence this warning.\n",
      "  df_dropped['Created date'] = pd.to_datetime(df_dropped['Created date']).dt.to_period('M')\n"
     ]
    }
   ],
   "source": [
    "df_dropped['Created date'] = pd.to_datetime(df_dropped['Created date']).dt.to_period('M')\n",
    "df_dropped['Submitted date'] = pd.to_datetime(df_dropped['Submitted date'], errors='coerce').dt.to_period('M')\n",
    "\n",
    "# print(df_dropped['Created date'])\n"
   ]
  },
  {
   "cell_type": "code",
   "execution_count": 188,
   "id": "7afb4844",
   "metadata": {},
   "outputs": [],
   "source": [
    "df_dropped['Submitted date'] = pd.to_datetime(\n",
    "    df_dropped['Submitted date'], errors='coerce'\n",
    ").dt.to_period('M')\n",
    "# df_dropped = df_dropped.drop(columns=[\"Extra question: How did you hear about Ashesi? You can select all that apply to you:\"])\n",
    "# print(df_dropped['Submitted date'])df_dropped['Created date'] = pd.to_datetime(df_dropped['Created date'], errors='coerce').dt.to_period('M')"
   ]
  },
  {
   "cell_type": "code",
   "execution_count": 189,
   "id": "cfda6a5f",
   "metadata": {},
   "outputs": [
    {
     "name": "stdout",
     "output_type": "stream",
     "text": [
      "['Failed' 'Withdrawn' 'Enrolled' 'Auto Deny' 'Admission Package'\n",
      " 'Unreplied' 'Ready for committee' 'Positive Feedback'\n",
      " 'Positive Feedback (Sep)']\n"
     ]
    }
   ],
   "source": [
    "print(df_dropped['Offer type'].unique())\n",
    "# print(df_dropped['Offer type'])"
   ]
  },
  {
   "cell_type": "code",
   "execution_count": 190,
   "id": "db606ed3",
   "metadata": {},
   "outputs": [
    {
     "name": "stdout",
     "output_type": "stream",
     "text": [
      "['[B.Sc.] Computer Science' '[B.Sc.] Management Information Systems'\n",
      " '[B.Sc.] Electrical/Electronic Engineering'\n",
      " '[B.Sc.] Computer Engineering' '[B.Sc.] Mechanical Engineering'\n",
      " '[B.Sc.] Business Administration' '[B.Sc.] Mechatronic Engineering'\n",
      " '[B.Sc.] Economics' '[LLB] Law with Public Policy']\n"
     ]
    }
   ],
   "source": [
    "print(df_dropped['Offer course name'].unique())\n",
    "# print(df_dropped['Offer type'])"
   ]
  },
  {
   "cell_type": "code",
   "execution_count": 191,
   "id": "6be5383f",
   "metadata": {},
   "outputs": [
    {
     "name": "stdout",
     "output_type": "stream",
     "text": [
      "['M' 'F']\n"
     ]
    }
   ],
   "source": [
    "print(df_dropped['Gender'].unique())"
   ]
  },
  {
   "cell_type": "code",
   "execution_count": 192,
   "id": "b4478afd",
   "metadata": {},
   "outputs": [
    {
     "name": "stdout",
     "output_type": "stream",
     "text": [
      "['WASSCE - Ghana' \"IGCSE 'A' Level\" \"GCE 'O' LEVEL\" 'Other Official Exam'\n",
      " 'WASSCE - Ghana\\nOther Official Exam' 'WASSCE - Gambia'\n",
      " 'High School Diploma\\nOther Official Exam' 'High School Diploma'\n",
      " \"WASSCE - Ghana\\nIGCSE 'A' Level\" \"IGCSE 'A' Level\\nOther Official Exam\"\n",
      " \"IGCSE 'A' Level\\nHigh School Diploma\"\n",
      " \"WASSCE - Sierra Leone\\nIGCSE 'A' Level\\nOther Official Exam\"\n",
      " 'International Baccalaureate (IB) Diploma' 'WASSCE - Nigeria'\n",
      " \"IGCSE 'A' Level\\nGCE 'O' LEVEL\"\n",
      " \"IGCSE 'A' Level\\nInternational Baccalaureate (IB) Diploma\"\n",
      " 'High School Diploma\\nWASSCE - Nigeria'\n",
      " \"WASSCE - Gambia\\nIGCSE 'A' Level\" \"IGCSE 'A' Level\\nWASSCE - Nigeria\"\n",
      " 'International Baccalaureate (IB) Diploma\\nHigh School Diploma'\n",
      " 'WASSCE - Sierra Leone' 'Other Official Exam\\nWASSCE - Nigeria'\n",
      " 'High School Diploma\\nOther Official Exam\\nWASSCE - Nigeria'\n",
      " 'WASSCE - Liberia' 'WASSCE - Ghana\\nHigh School Diploma'\n",
      " 'WASSCE - Liberia\\nHigh School Diploma'\n",
      " 'International Baccalaureate (IB) Diploma\\nOther Official Exam'\n",
      " \"IGCSE 'A' Level\\nHigh School Diploma\\nOther Official Exam\"\n",
      " 'WASSCE - Ghana\\nInternational Baccalaureate (IB) Diploma'\n",
      " 'WASSCE - Ghana\\nWASSCE - Nigeria'\n",
      " \"WASSCE - Sierra Leone\\nIGCSE 'A' Level\"\n",
      " 'International Baccalaureate (IB) Diploma\\nHigh School Diploma\\nOther Official Exam'\n",
      " \"Other Official Exam\\nIGCSE 'A' Level\"\n",
      " 'Other Official Exam\\nHigh School Diploma'\n",
      " \"High School Diploma\\nIGCSE 'A' Level\"\n",
      " 'WASSCE - Nigeria\\nHigh School Diploma\\nOther Official Exam'\n",
      " \"International Baccalaureate (IB) Diploma\\nIGCSE 'A' Level\"\n",
      " \"WASSCE - Liberia\\nIGCSE 'A' Level\"\n",
      " 'WASSCE - Gambia\\nOther Official Exam'\n",
      " \"IGCSE 'A' Level\\nInternational Baccalaureate (IB) Diploma\\nWASSCE - Nigeria\"\n",
      " \"IGCSE 'A' Level\\nOther Official Exam\\nWASSCE - Nigeria\"\n",
      " 'WASSCE - Ghana\\nHigh School Diploma\\nOther Official Exam'\n",
      " \"IGCSE 'A' Level\\nInternational Baccalaureate (IB) Diploma\\nHigh School Diploma\"\n",
      " \"IGCSE 'A' Level\\nHigh School Diploma\\nOther Official Exam\\nWASSCE - Nigeria\"\n",
      " nan]\n"
     ]
    }
   ],
   "source": [
    "print(df_dropped['Extra question: Type of Exam'].unique())"
   ]
  },
  {
   "cell_type": "code",
   "execution_count": 193,
   "id": "183fc4c4",
   "metadata": {},
   "outputs": [
    {
     "name": "stdout",
     "output_type": "stream",
     "text": [
      "['ee' 'en' 'fat' 'yo' 'luo' 'ki' 'gaa' 'bfd' 'ak' 'so' 'ha' 'myv' 'tw'\n",
      " 'rw' 'sn' 'bem' 'ig' 'fr' 'und' 'gn' 'tum' 'am' 'ny' 'byv' 'sw' 'ff' 'nd'\n",
      " 'om' 'rwk' 'teo' 'nr' 'mul' 'ss' 'bas' 'man' 'ada' 'st' 'enm' 'zxx' 'af'\n",
      " 'dje' 'nyo' 'ar' 'kfo' 'ach' 'bm' 'nzi' 'efi' 'dyo' 'fon' 'bum' 'wo'\n",
      " 'mos' 'ab' 'dv' 'kpe' 'bkm' 'swc' 'mas' 'kam' 'mi' 'luy' 'idu' 'lg' 'nyn'\n",
      " 'pt' 'ybb' 'men' 'zu' 'kln' 'nym' 'bg' 'dua' 'tog' 'eo' 'din' 'dzg' 'lag'\n",
      " 'rn' 'yao' 'ksf' 'sid' 'mgo' 'ts' 'nus' 'dz' 'ln' 'frr' 'es' 'ibb' 'si'\n",
      " 'wal' 'nnh' 'tiv' 've' 'ast' 'guz' 'ban' 'ace' 'jgo' 'lua' 'ang' 'xog'\n",
      " 'loz' 'wae' 'dar' 'su' 'saq' 'yue' 'syc' 'ta' 'mni' 'tem' 'kr' 'bbj'\n",
      " 'gur' 'tn' 'ti' 'kg' 'lu' nan 'mer' 'pcm' 'ebu' 'bax' 'lfn' 'kri']\n"
     ]
    }
   ],
   "source": [
    "print(df_dropped['Language: native'].unique())"
   ]
  },
  {
   "cell_type": "code",
   "execution_count": 194,
   "id": "5ba23423",
   "metadata": {},
   "outputs": [
    {
     "name": "stdout",
     "output_type": "stream",
     "text": [
      "['yes 2017' 'Yes, I have applied it last year 2017' 'yes, 2016'\n",
      " 'Yes, 2017' 'Yes (AIX 2017)' 'Yes in 2017' 'Yes, in 2017' 'Yes 2017'\n",
      " 'Yes, 2017.' 'Yes, 2016' 'Yes - 2016 and 2017' 'yes, in 2017.'\n",
      " 'yes in 2017' 'Yes,2017' 'YES' 'Yes. 2017' 'Yes (2018)' 'YES (2018)'\n",
      " 'Yes' 'Yes. 2018' 'Yes, 2018' 'Yes 2018'\n",
      " 'Yes. In the year 2018 for the 2018 intake' 'yes(2018)' 'Yes/2018.'\n",
      " \"Yes, 2018 session, but I didn't complete it.\" 'YES, 2018' 'yes 2018'\n",
      " 'Yes in 2017 and 2018' 'Yes - 2018' 'Yes, in the year 2018' 'Yes(2018)'\n",
      " 'yes in 2017 and 2018' 'yes - 2018' 'Yes, in 2018' 'Yes please (2018)'\n",
      " 'Yes (2014)' 'Yes- 2018' 'Yes, I applied in 2018.' 'Yes  2017'\n",
      " 'Yes,2017/2018 and 2018/2019' 'Yes  2018' 'Yes, 2017/2018 Academic Year'\n",
      " 'Yes-2018' 'Yes: 2018' 'Yes. 2018.' 'yes, in 2018' 'yes, this year'\n",
      " 'yes. 2018' 'Yes, 2018.' 'YES 2019' 'YES ,2018' 'Yes,2019' 'Yes, 2019'\n",
      " 'Yes! 2019' 'Yes ,2019' 'Yes ; 2019' 'Yes (2019/2020)' 'Yes . 2019'\n",
      " 'Yes, 2019/2020' 'Yes 2019'\n",
      " 'Yes I have applied to Ashesi last year, Academic Year 2019'\n",
      " 'Yes - 2019/2020' 'yes, in 2019' 'Yes. In 2019' 'YES - 2019'\n",
      " 'yes in 2017 ,2018,and 2019' 'YES (2019)' 'Yes,2018'\n",
      " 'Yes 2019 application' 'Yes. 2019' 'YES, 2019' 'Yes in 2019' 'Yes-2019'\n",
      " 'Yes  2019' 'Yes, for 2019 academic year' 'Yes, 2019.'\n",
      " 'Yes, in 2018 and also in 2019' 'Yes - 2019'\n",
      " 'Yes 2019/2020 ACADEMIC YEAR' 'Yes - 2018, 2019'\n",
      " 'Yes, I applied last year 2019.' 'yes 2019' 'yes, 2019' 'yes'\n",
      " 'Yes - Year 2019' 'Yes(2019)' 'Yes, 2020.' 'Yes, 2020'\n",
      " 'Yes. In 2019 for Fall 2019 Admission (Class of 2023)' 'Yes,2020'\n",
      " 'Yes in 2020' 'YES. 2020' 'Yes I have applied to Ashesi before in 2020'\n",
      " 'Yes , 2020' 'Yes-2020' 'Yes 2020' 'Yes Please (2020)' 'yes 2020'\n",
      " 'Yes, I applied in year 2020' 'Yes 2020 ( Last academic year)'\n",
      " 'YES - 2020' 'Yes ,2020' 'yes, 2018' 'Yes.     2020' 'Yes,  2020'\n",
      " 'Yes 2018/ 2019' 'Yes I applied for 2020/2021 academic year'\n",
      " 'Yes 2019/2020' 'Yes(2020)' 'yes in 2020' 'Yes - 2020' 'Yes. 2020'\n",
      " 'Yes (Ashesi AIX 2019 Experience)' 'YES ( 2020)'\n",
      " 'Yes (2019/2020),(2020/21)' 'Yes  2018, 2019' 'Yes-2018, 2020'\n",
      " 'yes (2020)' 'yes, 2020' 'Yes , 2020.' 'Yes, in 2020' 'Yes 2021'\n",
      " 'yes, 2018, 2019, 2020 and 2021' 'Yes, 2021'\n",
      " 'YES I did apply to ASHESI for the 2021-2022 admission but unfortunately was not accepted.'\n",
      " 'Yes in 2021' 'Yes (2021)' 'Yes, Academic Year 2020/2021' 'Yes.  2021'\n",
      " 'yes in 2021' 'Yes 2021 applications' 'Yes. 2021' 'Yes 2021/2022'\n",
      " 'Yes.   Year: 2021' 'Yes - 2021/22' 'Yes. 2021/2022' 'Yes ,2021'\n",
      " 'Yes , 2021' 'Yes- 2021' 'Yes (2019/2020),(2020/21),(2021/22)'\n",
      " 'Yes, 2020/2021' 'Yes ( 2021)' 'Yes,2021/22 academic year' 'YES.2021'\n",
      " 'yes 2021' 'Yes - 2018, 2019, 2020, 2021' 'Yes, for 2022'\n",
      " 'Yes. In the year 2021' 'Yes; (2021)' 'Yes, for the AIX program 2022'\n",
      " 'yes, 2020.' 'yes. 2021' 'Yes, 2021 academic year' 'Yes - 2021'\n",
      " 'yes (2021)' 'YES -  2021' 'yes  2021/2022'\n",
      " 'YES,I was waiting for my result to come out' 'Yes but I failed to apply'\n",
      " 'Yes. 2022/2023 academic year' 'Yes. 2020 and 2021' 'Yes, 2020 and 2021'\n",
      " 'Yes. (2021)' 'yes  in 2021' 'Yes please, 2022' 'Yes, 2022.' 'Yes, 2022'\n",
      " 'Yes 2022' 'yes, 2022' 'Yes, 2021 and 2022' 'Yes 2022 admission cycle'\n",
      " 'Yes-2022' 'Yes in 2022' 'Yes, I applied to Ashes in 2023 intake'\n",
      " 'Yes. 2022/23' 'Yes (2022/23 academic year)'\n",
      " 'Yes, 2022/2023 Academic Year.' 'Yes /2022' 'Yes (2022)'\n",
      " 'Yes 2021/2022, 2022/2023' 'Yes, 2021, 2022' 'Yes, In 2021-2022'\n",
      " 'Yes. 2022' 'Yes 2021 & 2022' 'Yes (2022 and 2021)' 'Yes.  2022'\n",
      " 'Yes. I applied in 2022' 'Yes: 2021, 2022' 'yes,2022'\n",
      " 'Yes, (2022/2023 Admission)' 'Yes - 2022' 'Yes, 2020, 2022'\n",
      " 'Yes, In 2022' 'Yes. I applied during the 2022/2023 academic year.'\n",
      " 'Yes, in October 2022' 'Yes, in 2022' 'Yes , Year ; 2022/23'\n",
      " 'YES 2022/2023' 'YES-2022' 'yes, 2023' 'Yes. 2021/2022 Academic year'\n",
      " 'Yes,the year 2023' 'yes. 2023' 'Yes. 2023' 'Yes (2023)' 'yes ,2023'\n",
      " 'Yes, 2023' 'Yes- 2022' 'Yes(2023)' 'yes - 2023' 'Yes, 2023.'\n",
      " 'Yes - 2023' 'Yes, I applied in 2023.' 'Yes 2023'\n",
      " 'yes, 2021, 2022 and 2023.' 'Yes (Last year, 2023)' 'Yes , June 2023'\n",
      " 'Yes, I applied twice but all unsuccessful' 'Yes in 2023' 'Yes 2023/2024'\n",
      " 'Yes 2021-2022 and 2022-2023' 'Yes (2023/2024)' 'Yes , 2023/2024'\n",
      " 'Yes, I applied in 2023 for admission to the class of 2027.'\n",
      " 'Yes. 2021/2022  and 2023/2024 Academic year' 'yes 2023/2024' 'yes-2023'\n",
      " 'Yes, in the year 2023-2024' 'Yes  2023/2024'\n",
      " 'Yes, 2023/2024 academic year' 'Yes. 2023.'\n",
      " 'yes,i have applied to Ashesi before in last yeah 2023'\n",
      " 'Yes (2023 ,2022 and 2021)' 'Yes, In  October of 2023' 'Yes. In 2023.'\n",
      " 'Yes, 2023/2024' 'yes (2023)' 'Yes last year and this year'\n",
      " 'Yes. I applied in 2023' 'YES, 2016 and 2017'\n",
      " 'Yes.  2021/22  and 2022/23' 'Yes, This year.'\n",
      " \"Yes, I applied for Ashesi University scholarship several times. My first attempt was in July 2023 but wasn't eventually shortlisted. I gave it a second attempt early this year in February 2024, I was lucky to attend an interviewed session but unfortunately my application outcomes was not successful. However, I am still keeping my determination tight to give it a third attempt towards  realizing my academic career and weak financial backgrounds.\"\n",
      " 'Yes, 2024' 'yes  (2023/2024)' 'Yes,2023' 'Yes 2023/24' 'Yes , 2024']\n",
      "249\n"
     ]
    }
   ],
   "source": [
    "mask = 'Extra question: Have you applied to Ashesi before? If \"yes\" indicate the year.'\n",
    "\n",
    "no_entries = df_dropped.loc[\n",
    "    df_dropped[mask]\n",
    "    .str.contains(r'yes', case=False, na=False),\n",
    "    mask\n",
    "]\n",
    "print(no_entries.unique())\n",
    "print(len(no_entries.unique()))"
   ]
  },
  {
   "cell_type": "code",
   "execution_count": 195,
   "id": "d26c73c2",
   "metadata": {},
   "outputs": [
    {
     "name": "stdout",
     "output_type": "stream",
     "text": [
      "['No' 'Yes']\n",
      "2\n"
     ]
    }
   ],
   "source": [
    "mask = 'Extra question: Have any of your family members gained admission to Ashesi University?'\n",
    "\n",
    "no_entries = df_dropped.loc[\n",
    "    df_dropped[mask]\n",
    "    .str.contains(r'', case=False, na=False),\n",
    "    mask\n",
    "]\n",
    "print(no_entries.unique())\n",
    "print(len(no_entries.unique()))"
   ]
  },
  {
   "cell_type": "code",
   "execution_count": 196,
   "id": "1830c0af",
   "metadata": {},
   "outputs": [
    {
     "name": "stdout",
     "output_type": "stream",
     "text": [
      "['SE' 'OQ' 'VO' 'BA' 'EX' nan]\n"
     ]
    }
   ],
   "source": [
    "print(df_dropped['Education - Block 1: Level of education'].unique())"
   ]
  },
  {
   "cell_type": "markdown",
   "id": "fd1236ea",
   "metadata": {},
   "source": []
  },
  {
   "cell_type": "code",
   "execution_count": 197,
   "id": "8486babc",
   "metadata": {},
   "outputs": [],
   "source": [
    "# Replace 'wassce ghana' with 'WSCE GH' in the specified column\n",
    "# df_dropped['Extra question: Type of Exam'] = df_dropped['Extra question: Type of Exam'].replace(\"IGCSE 'A' Level\\nWASSCE - Nigeria\", 'IGCSE A Level')\n",
    "# df_dropped['Extra question: Type of Exam'] = df_dropped['Extra question: Type of Exam'].replace('High School Diploma', 'WASSCE - Ghana')\n",
    "df_dropped['Extra question: Type of Exam'] = df_dropped['Extra question: Type of Exam'].replace(r'Other Official Exam\\nWASSCE - Nigeria', 'WASSCE - Nigeria')\n",
    "df_dropped['Extra question: Type of Exam'] = df_dropped['Extra question: Type of Exam'].replace(r'Other Official Exam\\nWASSCE - Nigeria', 'WASSCE - Nigeria')\n",
    "# df_dropped['Extra question: Type of Exam'] = df_dropped['Extra question: Type of Exam'].replace('International Baccalaureate (IB) Diploma', 'International Baccalaureate')\n",
    "df_dropped['Extra question: Type of Exam'] = df_dropped['Extra question: Type of Exam'].replace(r'Other Official Exam\\nWASSCE - Nigeria', 'WASSCE - Nigeria')\n",
    "df_dropped['Extra question: Type of Exam'] = df_dropped['Extra question: Type of Exam'].replace(r\"WASSCE - Sierra Leone\\nIGCSE 'A' Level\\nOther Official Exam\", 'WASSCE - Sierra Leone')\n",
    "df_dropped['Extra question: Type of Exam'] = df_dropped['Extra question: Type of Exam'].replace(r\"International Baccalaureate (IB) Diploma\\nHigh School Diploma\\nOther Official Exam\",'International Baccalaureate')\n"
   ]
  },
  {
   "cell_type": "code",
   "execution_count": 198,
   "id": "426135b3",
   "metadata": {},
   "outputs": [],
   "source": [
    "# Collapse similar entries in 'Extra question: Type of Exam'\n",
    "# Replace any cell containing 'International Baccalaureate' with 'International Baccalaureate'\n",
    "df_dropped.loc[df_dropped['Extra question: Type of Exam'].str.contains('International Baccalaureate', case=False, na=False), 'Extra question: Type of Exam'] = 'International Baccalaureate'\n",
    "df_dropped.loc[df_dropped['Extra question: Type of Exam'].str.contains(\"High School Diploma\", case=False, na=False), 'Extra question: Type of Exam'] = \"WASSCE - Ghana\"\n",
    "df_dropped.loc[df_dropped['Extra question: Type of Exam'].str.contains(\"IGCSE A Level\", case=False, na=False), 'Extra question: Type of Exam'] = \"IGCSE 'A' Level\"\n",
    "df_dropped.loc[df_dropped['Extra question: Type of Exam'].str.contains(\"WASSCE - Gambia\", case=False, na=False), 'Extra question: Type of Exam'] = \"WASSCE - Gambia\"\n",
    "df_dropped.loc[df_dropped['Extra question: Type of Exam'].str.contains('Other Official Exam', case=False, na=False), 'Extra question: Type of Exam'] = \"IGCSE 'A' Level\"\n",
    "df_dropped.loc[df_dropped['Extra question: Type of Exam'].str.contains('WASSCE - Liberia', case=False, na=False), 'Extra question: Type of Exam'] = 'WASSCE - Liberia'\n",
    "df_dropped.loc[df_dropped['Extra question: Type of Exam'].str.contains('WASSCE - Nigeria', case=False, na=False), 'Extra question: Type of Exam'] = 'WASSCE - Nigeria'\n",
    "\n",
    "df_dropped.loc[df_dropped['Extra question: Type of Exam'].str.contains('WASSCE - Ghana', case=False, na=False), 'Extra question: Type of Exam'] = 'WASSCE - Ghana'\n",
    "df_dropped.loc[df_dropped['Extra question: Type of Exam'].str.contains('WASSCE - Sierra Leone', case=False, na=False), 'Extra question: Type of Exam'] = 'WASSCE - Sierra Leone'\n",
    "df_dropped.loc[df_dropped['Extra question: Type of Exam'].str.contains(\"IGCSE 'A' Level\", case=False, na=False), 'Extra question: Type of Exam'] = \"IGCSE 'A' Level\""
   ]
  },
  {
   "cell_type": "code",
   "execution_count": 199,
   "id": "dcfd3254",
   "metadata": {},
   "outputs": [
    {
     "name": "stdout",
     "output_type": "stream",
     "text": [
      "['WASSCE - Ghana' \"IGCSE 'A' Level\" \"GCE 'O' LEVEL\" 'WASSCE - Gambia'\n",
      " 'International Baccalaureate' 'WASSCE - Nigeria' 'WASSCE - Sierra Leone'\n",
      " 'WASSCE - Liberia' nan]\n"
     ]
    }
   ],
   "source": [
    "print(df_dropped['Extra question: Type of Exam'].unique())"
   ]
  },
  {
   "cell_type": "code",
   "execution_count": 200,
   "id": "7a99fff2",
   "metadata": {},
   "outputs": [
    {
     "name": "stdout",
     "output_type": "stream",
     "text": [
      "       Applicant  Application Created date Submitted date Offer type  \\\n",
      "0            557          470      2018-01            NaT     Failed   \n",
      "1            566          473      2018-01            NaT     Failed   \n",
      "2            569          479      2018-01            NaT     Failed   \n",
      "3            572          482      2018-01            NaT     Failed   \n",
      "4            575          485      2018-01            NaT     Failed   \n",
      "...          ...          ...          ...            ...        ...   \n",
      "12642      57326        40098      2024-12            NaT     Failed   \n",
      "12643      57346        40110      2024-12            NaT     Failed   \n",
      "12644      57347        40111      2024-12            NaT     Failed   \n",
      "12645      57348        40112      2024-12            NaT     Failed   \n",
      "12646      57349        40113      2024-12            NaT     Failed   \n",
      "\n",
      "                               Offer course name Gender  Special needs  \\\n",
      "0                       [B.Sc.] Computer Science      M            NaN   \n",
      "1         [B.Sc.] Management Information Systems      M            NaN   \n",
      "2      [B.Sc.] Electrical/Electronic Engineering      M            NaN   \n",
      "3                   [B.Sc.] Computer Engineering      M            NaN   \n",
      "4                 [B.Sc.] Mechanical Engineering      M            NaN   \n",
      "...                                          ...    ...            ...   \n",
      "12642            [B.Sc.] Business Administration      F            NaN   \n",
      "12643               [B.Sc.] Computer Engineering      M            NaN   \n",
      "12644               [LLB] Law with Public Policy      F            NaN   \n",
      "12645            [B.Sc.] Business Administration      F            NaN   \n",
      "12646               [LLB] Law with Public Policy      F            NaN   \n",
      "\n",
      "       Disadvantaged background Latest Higher Education Institution  ...  \\\n",
      "0                           NaN                                 NaN  ...   \n",
      "1                           NaN                                 NaN  ...   \n",
      "2                           NaN                                 NaN  ...   \n",
      "3                           NaN                                 NaN  ...   \n",
      "4                           NaN                                 NaN  ...   \n",
      "...                         ...                                 ...  ...   \n",
      "12642                       NaN                                 NaN  ...   \n",
      "12643                       NaN                                 NaN  ...   \n",
      "12644                       NaN                                 NaN  ...   \n",
      "12645                       NaN                                 NaN  ...   \n",
      "12646                       NaN                                 NaN  ...   \n",
      "\n",
      "      Extra question: Have you ever attended any Ashesi sponsored high school event? If \"yes\" please state event and year of attendance.  \\\n",
      "0                                                     No                                                                                   \n",
      "1                                                    NaN                                                                                   \n",
      "2                                         No I have not.                                                                                   \n",
      "3                      Ashesi Innovation Experience 2016                                                                                   \n",
      "4                                                     No                                                                                   \n",
      "...                                                  ...                                                                                   \n",
      "12642                                                 No                                                                                   \n",
      "12643                                                 No                                                                                   \n",
      "12644                                                 No                                                                                   \n",
      "12645                                                 No                                                                                   \n",
      "12646                                                 No                                                                                   \n",
      "\n",
      "      Extra question: Do you Need Financial Aid?  \\\n",
      "0                                            Yes   \n",
      "1                                             No   \n",
      "2                                            Yes   \n",
      "3                                            Yes   \n",
      "4                                            Yes   \n",
      "...                                          ...   \n",
      "12642                                         No   \n",
      "12643                                         No   \n",
      "12644                                         No   \n",
      "12645                                         No   \n",
      "12646                                         No   \n",
      "\n",
      "      Extra question: Do you need Financial Aid?  \\\n",
      "0                                            NaN   \n",
      "1                                            NaN   \n",
      "2                                            NaN   \n",
      "3                                            NaN   \n",
      "4                                            NaN   \n",
      "...                                          ...   \n",
      "12642                                        NaN   \n",
      "12643                                        NaN   \n",
      "12644                                        NaN   \n",
      "12645                                        NaN   \n",
      "12646                                        NaN   \n",
      "\n",
      "      Extra question: Do you need Financial Aid  \\\n",
      "0                                           NaN   \n",
      "1                                           NaN   \n",
      "2                                           NaN   \n",
      "3                                           NaN   \n",
      "4                                           NaN   \n",
      "...                                         ...   \n",
      "12642                                       NaN   \n",
      "12643                                       NaN   \n",
      "12644                                       NaN   \n",
      "12645                                       NaN   \n",
      "12646                                       NaN   \n",
      "\n",
      "       Extra question: Do you Need Financial Aid?.1  \\\n",
      "0                                               NaN   \n",
      "1                                               NaN   \n",
      "2                                               NaN   \n",
      "3                                               NaN   \n",
      "4                                               NaN   \n",
      "...                                             ...   \n",
      "12642                                           NaN   \n",
      "12643                                           NaN   \n",
      "12644                                           NaN   \n",
      "12645                                           NaN   \n",
      "12646                                           NaN   \n",
      "\n",
      "      Language test - numerical score Language test - textual score  \\\n",
      "0                                 NaN                           NaN   \n",
      "1                                 NaN                           NaN   \n",
      "2                                 NaN                           NaN   \n",
      "3                                 NaN                           NaN   \n",
      "4                                 NaN                           NaN   \n",
      "...                               ...                           ...   \n",
      "12642                             NaN                           NaN   \n",
      "12643                             NaN                           NaN   \n",
      "12644                             NaN                           NaN   \n",
      "12645                             NaN                           NaN   \n",
      "12646                             NaN                           NaN   \n",
      "\n",
      "      Motivation letter - numerical score Motivation letter - textual score  \\\n",
      "0                                     NaN                               NaN   \n",
      "1                                     NaN                               NaN   \n",
      "2                                     NaN                               NaN   \n",
      "3                                     NaN                               NaN   \n",
      "4                                     NaN                               NaN   \n",
      "...                                   ...                               ...   \n",
      "12642                                 NaN                               NaN   \n",
      "12643                                 NaN                               NaN   \n",
      "12644                                 NaN                               NaN   \n",
      "12645                                 NaN                               NaN   \n",
      "12646                                 NaN                               NaN   \n",
      "\n",
      "      Skype interviw grade - numerical score  \n",
      "0                                        NaN  \n",
      "1                                        NaN  \n",
      "2                                        NaN  \n",
      "3                                        NaN  \n",
      "4                                        NaN  \n",
      "...                                      ...  \n",
      "12642                                    NaN  \n",
      "12643                                    NaN  \n",
      "12644                                    NaN  \n",
      "12645                                    NaN  \n",
      "12646                                    NaN  \n",
      "\n",
      "[12647 rows x 44 columns]\n"
     ]
    }
   ],
   "source": [
    "print(df_dropped)"
   ]
  },
  {
   "cell_type": "code",
   "execution_count": 201,
   "id": "943c1df8",
   "metadata": {},
   "outputs": [
    {
     "name": "stdout",
     "output_type": "stream",
     "text": [
      "<PeriodArray>\n",
      "['NaT']\n",
      "Length: 1, dtype: period[M]\n"
     ]
    }
   ],
   "source": [
    "print(df_dropped['Submitted date'].unique())"
   ]
  },
  {
   "cell_type": "code",
   "execution_count": 202,
   "id": "29f9dd3b",
   "metadata": {},
   "outputs": [],
   "source": [
    "import pandas as pd\n",
    "import matplotlib.pyplot as plt\n",
    "\n",
    "def describe_and_plot(series: pd.Series, title=\"Series Analysis\"):\n",
    "    \"\"\"\n",
    "    Takes a pandas Series and:\n",
    "    - If numeric → histogram\n",
    "    - If categorical → bar chart\n",
    "    - Prints summary stats (mean, median, mode, std, variance)\n",
    "    \"\"\"\n",
    "    # Drop NA for cleaner analysis\n",
    "    s = series.dropna()\n",
    "    \n",
    "    # Check if numeric\n",
    "        # Plot histogram\n",
    "    plt.figure(figsize=(6,4))\n",
    "    plt.hist(s, bins=10, color=\"skyblue\", edgecolor=\"black\")\n",
    "    plt.title(f\"{title} (Histogram)\")\n",
    "    plt.xlabel(\"Values\")\n",
    "    plt.ylabel(\"Frequency\")\n",
    "    plt.show()\n",
    "    \n",
    "    # Stats\n",
    "    print(\"📊 Numeric Summary:\")\n",
    "    print(f\"Mean      : {s.mean():.2f}\")\n",
    "    print(f\"Median    : {s.median():.2f}\")\n",
    "    print(f\"Mode      : {s.mode().values}\")\n",
    "    print(f\"Std Dev   : {s.std():.2f}\")\n",
    "    print(f\"Variance  : {s.var():.2f}\")\n",
    "\n",
    "\n"
   ]
  },
  {
   "cell_type": "code",
   "execution_count": 203,
   "id": "37e755c3",
   "metadata": {},
   "outputs": [],
   "source": [
    "import re\n",
    "\n",
    "col = 'Extra question: Have you applied to Ashesi before? If \"yes\" indicate the year.'\n",
    "\n",
    "\n",
    "def clean_yes_years(entry):\n",
    "    if pd.isna(entry):\n",
    "        return entry  # keep NaN\n",
    "    \n",
    "    text = entry.strip().lower()\n",
    "    \n",
    "    # Check if \"yes\" is in the text\n",
    "    if \"yes\" in text:\n",
    "        # Find all 4-digit years\n",
    "        years = re.findall(r\"\\b\\d{4}\\b\", text)\n",
    "        if years:\n",
    "            return \"Yes \" + \" \".join(years)\n",
    "        else:\n",
    "            return \"Yes\"\n",
    "    \n",
    "    return entry  # leave unchanged if not \"yes\"\n",
    "\n",
    "# Example usage on your column\n",
    "df_dropped[col] = df_dropped[col].apply(clean_yes_years)\n"
   ]
  },
  {
   "cell_type": "code",
   "execution_count": 204,
   "id": "6523e167",
   "metadata": {},
   "outputs": [],
   "source": [
    "df_dropped.loc[df_dropped['Extra question: Have you applied to Ashesi before? If \"yes\" indicate the year.'].str.contains('I submitted an application in 2017,  it was not considered.', case=False, na=False), 'Extra question: Have you applied to Ashesi before? If \"yes\" indicate the year.'] = 'Yes'\n",
    "df_dropped.loc[df_dropped['Extra question: Have you applied to Ashesi before? If \"yes\" indicate the year.'].str.contains('YES I did apply to ASHESI for the 2021-2022 admission but unfortunately was not accepted.', case=False, na=False), 'Extra question: Have you applied to Ashesi before? If \"yes\" indicate the year.'] = 'Yes'\n",
    "df_dropped.loc[df_dropped['Extra question: Have you applied to Ashesi before? If \"yes\" indicate the year.'].str.contains('FIRST TIME APPLICATION', case=False, na=False), 'Extra question: Have you applied to Ashesi before? If \"yes\" indicate the year.'] = 'No'\n",
    "df_dropped.loc[df_dropped['Extra question: Have you applied to Ashesi before? If \"yes\" indicate the year.'].str.contains('I have Find this scholership in youtube link', case=False, na=False), 'Extra question: Have you applied to Ashesi before? If \"yes\" indicate the year.'] = 'No'\n",
    "df_dropped.loc[df_dropped['Extra question: Have you applied to Ashesi before? If \"yes\" indicate the year.'].str.contains('I applied but didnt meet the datline to submit my application .', case=False, na=False), 'Extra question: Have you applied to Ashesi before? If \"yes\" indicate the year.'] = 'No'"
   ]
  },
  {
   "cell_type": "code",
   "execution_count": 205,
   "id": "3f9350ae",
   "metadata": {},
   "outputs": [
    {
     "name": "stdout",
     "output_type": "stream",
     "text": [
      "['No' 'No I have not.' 'no' 'NO' 'No.' 'No it the first time'\n",
      " \"No I haven't\" 'No, this is my first time.' 'Non' 'no i have not'\n",
      " 'No , I have not applied to Ashesi before.'\n",
      " 'No,it is the first time to apply to Ashesi' 'NO, PLEASE' 'NO.'\n",
      " 'NO ,I HAVE NOT YET APPLIED TO ASHESI' 'No please' 'NON' 'I said NO'\n",
      " 'No . This is my first time of applying to Ashesi' 'Not Applicable' 'no.'\n",
      " 'No, I have not applied to Ashesi before.'\n",
      " 'No I did not apply to Ashesi before'\n",
      " 'I started the application but could not submit. 2018'\n",
      " \"No please I haven't.\" 'Not applicable'\n",
      " 'I have not applied to Ashesi before'\n",
      " \"No, i haven't applied to Ashesi  before\" 'NO,' 'No, I have not.' 'not'\n",
      " 'No Please' 'Please No' 'Not yet' 'Noq' \"No, I haven't\" 'no please'\n",
      " 'NO PLEASE' 'I have not applied to Ashesi before.'\n",
      " 'NO, I HAVE NOT APPLIED TO ASESHI BEFORE' 'No , Please'\n",
      " 'No, I have not applied to Ashesi before'\n",
      " 'No I have not applied to Ashesi before.' \"No, i haven't\" 'I have not'\n",
      " \"no i haven't\" 'No, Please' \"No l haven't apply to Ashesi before\"\n",
      " 'No I have not' 'non'\n",
      " 'No, this is my first time and am highly eager to join that beautiful learning environment.'\n",
      " \"No I didn't apply to Ashesi before. It is my first time.\"\n",
      " 'No, This is my first time apply at Ashesi.' 'No this year is my first'\n",
      " \"No , I didn't\" \"No, I haven't.\" 'NOT APPLICABLE'\n",
      " \"No please , I haven't applied to Ashesi University before.\" 'NONE'\n",
      " 'No I havenâ\\x80\\x99t.' \"NO I HAVEN'T\" 'No, I havenâ\\x80\\x99t'\n",
      " 'No. I have not applied before.' 'NON APPLICABLE'\n",
      " 'No I have not applied before' 'No, first time applying to Ashesi.'\n",
      " 'No, I have not applied before.' 'Not' \"No i haven't\"\n",
      " 'i have not applied to Ashesi before' \"NO, I haven't\" 'my answer is no'\n",
      " 'No, I did not apply to Ashesi  university before'\n",
      " 'No, I have never applied before.' \"No, I didn't\"\n",
      " \"No, I haven't applied to Ashesi before.\" 'No this is my first time'\n",
      " 'No, i have not.' 'No, I have not applied to Ashesi Before'\n",
      " 'no plese this is my frist time' 'No, I have not'\n",
      " 'No.This is my first time applying to Ashesi' 'none'\n",
      " 'No,I have not applied to Ashesi before'\n",
      " 'No as a student. I applied and was accepted into AIX 2023.'\n",
      " \"No,I haven't applied to Ashesi before.\"\n",
      " \"No, it's my first time applying.\" 'Not yet.'\n",
      " 'no, it is my first time to apply to ashesi' 'No,'\n",
      " 'No, its my first time' 'No I have never applied to Asheshi before' 'no!'\n",
      " 'No i have never applied to Ashesi before.'\n",
      " \"No, I haven't applied before\" \"No please I haven't\" 'No, please'\n",
      " 'No please.' 'No, this is my first time trying to apply at Ashesi'\n",
      " \"No, it's my first time applying for Ashesi\" \"No,I haven't.\"\n",
      " 'No i have not applied to Ashesi before.'\n",
      " 'No I didnâ\\x80\\x99t apply to Ashesi before' 'No, This is my first time.'\n",
      " \"No, I haven't applied yet.\"]\n",
      "105\n"
     ]
    }
   ],
   "source": [
    "mask = 'Extra question: Have you applied to Ashesi before? If \"yes\" indicate the year.'\n",
    "\n",
    "no_entries = df_dropped.loc[\n",
    "    df_dropped[mask]\n",
    "    .str.contains(r'no', case=False, na=False),\n",
    "    mask\n",
    "]\n",
    "print(no_entries.unique())\n",
    "print(len(no_entries.unique()))"
   ]
  },
  {
   "cell_type": "code",
   "execution_count": 206,
   "id": "f5b76be9",
   "metadata": {},
   "outputs": [],
   "source": [
    "import re\n",
    "\n",
    "col = 'Extra question: Have you applied to Ashesi before? If \"yes\" indicate the year.'\n",
    "\n",
    "\n",
    "def clean_yes_years(entry):\n",
    "    if pd.isna(entry):\n",
    "        return entry  # keep NaN\n",
    "    \n",
    "    text = entry.strip().lower()\n",
    "    \n",
    "    # Check if \"yes\" is in the text\n",
    "    if re.findall(r\"\\b\\d{4}\\b\", text):\n",
    "        # Find all 4-digit years\n",
    "        years = re.findall(r\"\\b\\d{4}\\b\", text)\n",
    "        if years:\n",
    "            return \"Yes \" + \" \".join(years)\n",
    "        else:\n",
    "            return \"Yes\"\n",
    "    \n",
    "    return entry  # leave unchanged if not \"yes\"\n",
    "\n",
    "# Example usage on your column\n",
    "df_dropped[col] = df_dropped[col].apply(clean_yes_years)\n"
   ]
  },
  {
   "cell_type": "code",
   "execution_count": 207,
   "id": "19a921c8",
   "metadata": {},
   "outputs": [],
   "source": [
    "import re\n",
    "\n",
    "col = 'Extra question: Have you applied to Ashesi before? If \"yes\" indicate the year.'\n",
    "\n",
    "\n",
    "def clean_no_years(entry):\n",
    "    if pd.isna(entry):\n",
    "        return entry  # keep NaN\n",
    "    \n",
    "    text = entry.strip().lower()\n",
    "    \n",
    "    # Check if \"yes\" is in the text\n",
    "    if \"no\" in text or \"NO\" in text or \"NIL\" in text or \"n0\" in text or \"never\" in text  or \"haven't\" in text or \"didn't\" in text or \"Nil\" in text:\n",
    "        # Find all 4-digit years\n",
    "        years = re.findall(r\"\\b\\d{4}\\b\", text)\n",
    "        if years:\n",
    "            return \"No\"\n",
    "        else:\n",
    "            return \"No\"\n",
    "    \n",
    "    return entry  # leave unchanged if not \"yes\"\n",
    "\n",
    "# Example usage on your column\n",
    "df_dropped[col] = df_dropped[col].apply(clean_no_years)\n"
   ]
  },
  {
   "cell_type": "code",
   "execution_count": 208,
   "id": "ee50ade8",
   "metadata": {},
   "outputs": [
    {
     "name": "stdout",
     "output_type": "stream",
     "text": [
      "['Yes 2017' 'No' 'Yes 2016' 'Yes' 'Yes 2016 2017' nan 'Yes 2015 2016 2017'\n",
      " 'Yes 2015' 'Yes 2017 2018' 'Yes 2018' 'Yes 2018 2019' 'Yes 2016 2018'\n",
      " 'Yes 0000' 'Yes 2018 2018' '20,172,018' 'Yes 2014'\n",
      " 'Yes 2017 2018 2018 2019' 'Yes 2019' '218' 'Nil' 'Yes 2019 2020'\n",
      " 'Yes 2017 2019' 'Yes 2017 2018 2019' 'Yes 2020' 'NIL'\n",
      " 'Yes 2019 2019 2023' 'Yes 2020 2021' 'Yes 2019 2020 2020' 'Yes 2018 2020'\n",
      " 'Yes 2021' 'Yes 2018 2019 2020 2021' 'Yes 2021 2022' 'Yes 2022'\n",
      " 'Yes 2019 2020 2020 2021' '0' 'na' 'Yes 2022 2023' 'Yes 2023'\n",
      " 'Yes 2021 2022 2022 2023' 'Yes 2022 2021' 'Yes 2020 2022' '---'\n",
      " 'Yes 2018 2019 2020' 'Yes 2023 2024' 'Yes 2024' 'Yes 2022 2023 2023 2024'\n",
      " 'Yes 2021 2022 2023' 'Yes 2023 2027' 'Yes 2021 2022 2023 2024' 'N\\\\A'\n",
      " 'Yes 2023 2022 2021' '20,212,022' '201,720,182,019']\n"
     ]
    }
   ],
   "source": [
    "print(df_dropped['Extra question: Have you applied to Ashesi before? If \"yes\" indicate the year.'].unique())"
   ]
  },
  {
   "cell_type": "code",
   "execution_count": 212,
   "id": "317db25d",
   "metadata": {},
   "outputs": [
    {
     "data": {
      "image/png": "[encoded data removed]",
      "text/plain": [
       "<Figure size 600x400 with 1 Axes>"
      ]
     },
     "metadata": {},
     "output_type": "display_data"
    },
    {
     "name": "stdout",
     "output_type": "stream",
     "text": [
      "📊 Numeric Summary:\n"
     ]
    },
    {
     "ename": "TypeError",
     "evalue": "Could not convert string 'MMMMMMFMMMMFFMFFMMMMFMMMFFMMMMFFFFFFMMFFMFMMMFFMFMFFMFMFFMFFMMMMFFMFMMMFFFMFMFMMMMFMFMMMMMMMMFFMMMMMMMMMMFFMMMMMFFMMMMMMMMFFMMMFFMMMFMMMFFMFMMMMMMMMFMFMMMMFMMMMMMMMFMMMFMFFMMFFFFMFMFMMMMFFMMMFMFMMFMFMMFMFFFFMMFMMMFMMMMFMMFFMFMMMFMMMMMFMMMMFMMFFFMMFMFMMMFMMFMFMMMFFMMMFMMFMMMMMFMMMMFMMMFFMMMMMMMMMFMFFFFMFMFMMFMMMFMMMFMFMMFFMMMMMMMMMFFMMFMMMFFMFFMMFMMMMMMMMFFFMFMMMMFMMFMFFMMMFMMMFMMFMFFMMFFMFFMFFFFFMFMFMMFMMMFMMFFMMFMMMMMMFMFFMMMMMMMMMMMFMFFFMMMMMFFMMMMFFFFFMFMFMMMMFFFMMMFMMMFMMMFFMMMMMFFFFFFMFFFFFFFMFMMMFMMMMMMFMFMMMMFMMMMFFMFMFMFFFFMMFMMMFMFMMFFMMFFMFMMFFMMMFFMMFFMMFFMMFMFMMFFMMMFMFMMFFMMMFMFMMMMMMFMMFMMMMMMFMMMMMFFFMMFMFFFFMMMFMMMFMMFFFFFMMFMFFMMMMFMMFMFMMFMMMMMMFMMMMMMFFMFFFMMMMMFMMMMMMMFMMMMMMMMMMMFFMMFMFMFMMMMMFFFMFFFFMFFMMMMMFFFFMFMFMFMMMMFFMMMFFFMMFMFFFFMFMFFFFFMMFMMMMFFMFMFMMMMMMFMFFFFFMMMMMMMFMFMMMMMFFMMMMFFFFMMMMMMFMMFFMMMMMFMMMMFFMFFMFFMMMFMMFMMFMMMMFMFFMMMMMFMFFFMMMFMFFMMMMMMMMMFMMMMFMMMMMFFFMMMMFMMMMFFMMMMFMMMMFFFFMMMFMMMFMMMMMFFMFFMFMFMMMMFFFMMMFMMFMMFFMMMMMFMMMMMMFMMMFFMMMMMMFFFFMFMMMMMMFFFMMMMMFMMFMMMMFMMMMFMMMMMFMMMMFMMMFMFMMFMMMMMMMFMFMMFFMMMFFMFFMMMMMFFFMMFMMMMMFMMMFMMFFMFMMMMMMMFMMMFMMFFFMMMMFMMMMFFFMFFMMFMFFMMMFMMFMMFMFFFFFMFFMFMMMFFFFMMMMMMFFMFMMMFMFMFMMMFMFFFFFMFMFMMMMFFFFMMMMFMMFMMFMFFMFMMMMFFMMFMMMMMMMFMFFMMMMMMMMMFFFFMMFMFMFFFFFFFMMFMMMMFMMMFFFMMMFFMMMFFMMMMMMMMFMFMMFFMMFFMMMMMFMMMMMFMFFFMMMFMFFFFMFMFMMMFMFFMMMFFMMFFFFFMMFMFMMMMMFMMMMMMFMMMMFMMMMMFMFFMMMMFMMMMMMMMFMMMFMMFFMMFMMFMMMMFMFMMMMMMMFFFMFFMMMMMMFFFFMMMFMFFMMFMFMFMMMMMMMMFMMMMFFMMFMFMFFMMMMMFMFMMMMMFMMMMMFFMMMFMMMFFMMMMMMMMFFMMMMMMFFMMFMMMFMFMMFMFFFMFMFFMMFFMMMMMFFFFMFFFFFMMMFMFFFFFMFMFFMMFMMMFMFFFFFMMMMFFMMMMFMMMMMFMMFMMMMFFFMMMMFMFFMMFMFMMFMMFMFMMFMMMMFMFMMFMFMFFMFMMMMMFMFMFFMMFMFMMMFFMFFFFFMFMFMMFMMFMMFMMFMMFMMMMFMMMMMMMMFMMMMMMMFMMMFFMMMMFMFFMFMMMMMFMMFFMFMMMMMMMMFMFMMMFMMMMFFFFMMMFMFFFMMFMMMMMMMMMMMMMFMMMMMFFMFMFMFMFMMFMMMFFMMFMMMMMFFMMMFMMFFMFMFFFMFFMMMFFMFMFMFMFMFFMFMMMMMMFFMMMMFMMMFMFMMMFMMMFMMFFMFMFFMFMMFFMMMFFMMMMMMFFFMMFMFMFFMMMMFMMMMMFMMMMMFFMMMMMMMMFMFFMFFMMMFMMMMMMMMFFMFFMFMMMFFMFMFFMFFMFFFFFFFFFFFFFMFMMFMFMFFFMFMFMFMFMFMMMMFMMMMMMFFMFMMMMFMMMFFMMFMMMMMMFFMMFMFMFFMMMFFMFMMMMFMFMFFFMMMMMMMMMMMMMMMFMFMMMMMMMMMMFFMMMFMFMMFFMMFMFMFFMMFMFFFMMMMFMFFFMMFFFMFMFMFFFFFFFFMFFMFMMMFFMMMMMMFFMFMFFFMMFMFFFFMFMMMMMFFMFMMMMMMMMFMFMMFMFFMMMMFMFFMMMFMMFFMFMMMMMFFMFMFMMMMMMMMMFFFFFFFFMMMMMMFFFMMFMMMFFFFMFMMFMMMFFMMMMFMMMMFMFFMFMMMMFMMFFMFMFMFMMFMMMMMMMMMFFFMMMFMMMMMFMFFMFFMMMMMFMMMFFMFMMMFMMMFMFFFMMMMFFMFFMMMMMFMFFFMMMFFMMFMFFFMFMFMMMFMMFFMMFMMFFMMFFFFMMFMFMMFFMMMMFFFFFMFFFMFMMMMMFMMMMFFFFMFFFMMFMMFFFFFMMMFMMMFMFMFMFFFMMMMFFFMFFFMMFFMFFFFFFFMMMMFMMFMMMMMMMFMFMFMMMMFFMFFFMFFMMMMMMMFMMMFFMMMMMMMMFFMFFMMMMMFMMMMFMFFFMMFMFMFMMFMMFFMMFMMFMMMMMMFMFFFFMMMMMMFMMFFMFFMFMFMMMMMMFMFMMFFFMMFFMMMMMMMFMMFFMMFFFMFMMFMMMMFFMMFMFFFMMFFMMMFMMMFFFFFMMMMMFFMMMMFMMMMFFFMMFMMMMFFMMMMFFMFFFMFMMMMFMMFFFMMMFMMFMMMMFMFFMMFFFFMFMMMFMMMFMMMMMFFFMFMMFMFMMMMMMFMMFFFFMMMMMFFMMMFMMFMFFMMMMFFFFMFFMMMFFFMMMFMFFMMFFMMFMMMFFFMMMFFMMFMMMMFFMFMMMMFMMFFMMMFMFFMMFMFFMFMFMMMFMFFFMMMMMFFMFMFMFFFFFFMFFMMFMMFFMMFFFFFFMFMMFMMFFFMFFMMMFFMMMMMFMFFMFFFMMMMFMFMMFMFFFMFMFFMMMMMFFMFMMMFFMMFFFFMFMMMMFMMMFMFMFMFFMMMFMFMMFFMMFMFMFMMMFFMMFMFMMFMFMFMFMFFFMMMMMMMMMFFFMFFMMMMMFMMMMMFFMFFMMFMMMMFMMFMMMFFMMMMMMMFMFMMFMFFFMMMFMFMFMMMFMMMMFMMFMMMFMMMFFMFMMMFFMMMMMMMMFMFMMMMFFFMMMFFFMMMMMFFMFMMMFMMMMMMMMMMFFMMMMMFFFFFFMMMFFMMFFFFMFMMFFMMFMMMMFMMFMMMMMFMMMMMMMMFMMFFFFMFMFFFFMFMFMFMFFFFFMMMMFMMFFMFFMMFMFMMMFFFMMFFFFMMMMMFMMFFFFMMFMFFMFMMMMMMMMMMFMMMFFFFFFFFMFMMMMMMFFMMMMFFFMMMFMMFMMFFMMMFFFMMMFMMMMMMMFMFMFMMMFFFFMMMFMMMMMFMMMFMMMMMFMMMMMFMMMMMMMMMFFFMMMMMMMFMMMFFFMMMMMFMMMFMMMMMMMMMMFMMMMMMMFFFMMMMMFMMMMFFFFMFFFMFFFFMMMFFFMMFFFMMMFFFMMFFMMMMMMMMMMMMMMFFFMFFFFMFMMFMMMMMMMFMMMMMMMMFFMMMMMMMMMFMFMMMMMMMFMFFMMFFMMMFMFMFFFMFMMMMFMMMFMFMMFFFMMFMMMMMFMFMFMMMMMMMMMMMMFFFMFMFFMFMMMFMFFMFMMFMFMFMMFFFFMFMFMMMMMFFFFFMMMMMFFFMFFFFMMMFMFFFFMMMMMFFMMMFMMFMMMFMMMMFFFFFMMFFFFMMMFMFMMFMFFMFMMFMMFMFMFMMFFMMMMMMMMMMMFMFFMMMFMMMFMMFMMMMMFMFMMFMMMFFFMMFMFMMMMMFFMMMFMFMMFFFMMFFFFMMMFFFMMMFMMMFMMFMFMFFFMMFFMMMMMMFMMMMFFMFFMFFMMMFFMMMFMFFMMMFMMMMMMMMMMMMMMMFMMMMFFMFMFMMFMMFMMFMMMMMMMMMMMMFFMFMMFMMMMFFMMMFMMMMFFFMFMFFMFMMFFMMMMFMFMMFMMMFFFMFMFFFMFMFFMMFMFFFMMMFMFFFMMFFMMMFFFMFFMFFMMMMFFFFFMMFMMMMMFFMFFMFMFMMMMMMFMFFFFFMFMMMMFMMMFMMMFMFMMMFFMMFFMFFFMMFMFMFFFMFMFMMMFMMMMFMFMFFFFFMFFMMMMMMFMFMMFFFMMFMMMFFMMMMMFFMFMFMMMFMMFMMMFMMMFMFMMMMMMMMMMMMFFFMFMFFMMMFMFMFMFMFMFMMFFFMFMFFMMMFMMMFFMMMMMMMFFFFMMFMMMFMFFFFFFFMFMFMMFMMMFMMMFMMMFFMFFFMMFMMMMMMFMFMMMMMMMFMMMMFMMMMMMFMMFFFMMMFMMFMMMFMMMMFMMMMFMMFFMMFMMFMMFFMFMMFMFMMMMFFMMMMFFMMFFMFFFMFFMMMMFFFMMFFMFMMFMMMMFMMMFMMMMFMMMFFMMMFFMMMFMFMMMMMFMMMMMMMFFMMFMFMFFMFFMMMMFMMFMMMFMMFMMFMFMFMMMMFFMFMFFMMFMFMMFFFMMMMFFFMFFMMFMFMFFMMMFMMMFMFFMMMFFMMMMMMMMFMMFMMMMMFMFFMFFMMMFMMMMMMFMMFMMMMMMFMMMFMFMMMMMMMMMFMMFFMFFMFMMMMMMFMFFMMMFMMMFFFMMMMMMMMMMMMFMMFFFMMFMMFMMMMMMMFFMFFMMFMFMMMMMMMFMFMMMMMFMMMMMMFMMMFMMFFMMFMMFMMMMMFFMFMFFMMMMMMMMFMFMMFMFFMFFMMMFFMMFFFMMMFMMMFFFMFMMFFFMMFFMFMMMMMFMFMFMFMMMMMMMMMMMMFMMMMMMFMMMMMMMMFFFFMMFMMMMFFFMMMMMMFMMMFFFMFMFMMMFMFMFFFFMMMFMMMMMFFMMMMMMMMFMMMFMMMMMFMMMMFFFFMMMMFMMMFMFFMFMMMFFMFMMMMFMMFFFMMMFFFMMFFMFFFFMMFMMMMMMFMFFFMMMMMFMMMMMMMMMMFMMMMFFMFFFMFMFMMFMMFMMFMFMFMMMMFFFMFFMFFMFFMMMFMMFFFMMMMMMMMFMMMMMFMMMFMMFFMMFFFMMMFMMFMMMFMMMMFMFMFFMMMMFMFMMMFMMFFFFFFMFMMMFMFFMMMMFFFMMMFMMMFMMMFFFFMMMMMMMMFMFMFMFMFFMMMMMMMMFFMFMFMMMMMMMMFFMMFMFMFMMMMMMMFFFFFMMFFFMMFMMFFMFFFMMMFMMMMMMMMFFMMMFMFFMMMFFFFFFMMFMMFMMMFFMMMMMMFMMFMMFFFMFFMMMFMMFMMMFFMMFMMMMMMFMMFMMMFMMFMFMMFMMMMMFMMFMMMMFMMMMFMMFFMMMMMMFMFMMMMMFMMFFMFMMMMFFMFMFMMFMFFMMFMMMFMMMMMFMMFMMMMMFFFMMMFMMMMMMMMMMMMFMFFMFFMMMMMMFMFFFFFFFMFMFFMMMFMMMMMFFMMFMFMMMMFMMMFMMFMMMFFMFFFMMFMFMMMMMFFMMMFMMMMMMMFMMMMFFFFFFMMMMFMMMMMMMMMMMMFMFMMMMMMMFFFMMFFMMMMMMFFMFMMMFMFMMFFFMMFMMMFFFFFMMMMMFFMMMMMMMMMFMMFFFMFFFFMMFFMMFMFFMFMFFFFFMMFFFMMFMMFFMMMMFFMFFMMMMMMFFMFMMFMFFFFFMFMFFFFFFMFFFFMFFFMFMFMFFFMMFFMFFFFFMFMFMFMMMMFMFMFFMMMMFFMMFFFMMMMFFMFMMMMFFFFFFFFMMMMMMMFFFMMMMFMFFMMFMFMFMMMFFFMMFFMMMMFFFMMMMFFFMMMMFFFMFFFMMMMFMMMMFMFMFMFMMMMFFMFFMFMMFMMMFFMFMMMFMMFMFFMMMMMMMMMMMMFMMMMFMMMMFMFMFMFFMMMMMFMMMMFMMFMMFMMFFFMMFFMMMFFMMFMMMMMMMFFFFMFFMMMMFMMMFFMFMMMMMMMMMMFFFMFMMMFMMMMMFFFMMMMMMMMFFMFFMFMMFMFFMMMMMFMFMMFMMMFMMMFMFMMMMFMFMMFMMMMMFMFFFMFFMFMMFFFMMMFFFMFFMMFFMFFFMFMMFFMFFMMMFMMMMMFMFMFFMMMMFFMMFMMMMFMMMFMMFFFMMMFFFMMMMMMMMFMMFFFFFMFFMMMFMMMMMFFMMMFMMMMFMMMFMFMMMMFFMMFMMMMMFFMMFMMMMMMMMFMMMMMFMMMFMMMMFMFMMMFMFMMFFMMMMMMMMFFFMMMMMMMMMMFFMMMFMMMMMMMMMMMMFFFFMMMMFMMMFMFMMMMMMMFMMMMMMMMFFMFMMMMMFMFMMMMMFFMMMMMFMFMMFFMMFMFFMMFFMMFMMMMMFMMFMMFFMMFFMFMMFMMFFMMMFFMFFMMMMFMMMFMMMMMFFMMMMMMFFFMFMFFMMMMMMMMMFFFMMMFMFFFMFFMMFFFFMFFFFMMMMMMFMMMFMMMFMMFMMFFFFFFFFFMMMMMMMFMFMFMFFMMMFFMMFFMMFMFFMMMFMFFMMFFFMMMMMMMMMMMMFFFMMMMFMMMMMMMMFMMMMFMFMMMMFMFFFFMFFFMMFFMMFMFMMMMFFMMMFMMFFFMMMMFMFFFMMMFMFFFFFMFMMMFMFMMMFMFFFFFMMFMMMFFMMMMMFMMFFFMMMMMMMMFFMMFFMMMFMMFFMMMMMFFMMFFMMMMMMMFMFFFFFFFMMMMMFMFMMMMMFMFFFFMFMMMMMFFMMMFMFFFMFMMMMMMMMMMMMFMMMFMFMMMMFMMMMFFMMFMFMMMMFMFFMFFMFFMMMMMFFFMMMMMFMMMMMFFMMMFMMMMMMMFMMMFMMMMFFMMMMFMMMMMMMMFFMFFFMMMFMFMFFFMMMFFMMMFMFFMMMMMMFMMMFMFFMMMMFMMFMFFMMFFFFMMFMMFMMMMFMMMFFFMMMMFMFMFFMMMFFFFMFFMFMMMMMMFMFMFFFFMMMFMMFMMMMMMFMMMFMMMFFMMFMMMMMMMMMFMMFFFMMMFMMFMFMMMMMMMMFMMMMMFMFMFFFFMMMMMMMMMMFFFMMMMMMFFMMMMMFFMFFMMMMFFMMFFMMMFMMMMMMFFMMMMMMMMFFFFMFMMFMMMFFFMMMMFMMMFMMFFMMFMFFMMMMFFMMFFMMMMFMMMMMMMMMMMMMFFFMFMFFFFMMMMFMFMFMFMFMMMFFMMMMMMFFMMFFMMFMMMMMMMFMFFFMMMMMMMMMFFFMFMMFMMMMFFFMMMMMMFFFFMFMMMMMMFMFFFMMFMMMMMMMMMMMMMMMMMMMFMMFMMMMMMMMFFMMMFMFMMMMMMFMMMFMMMFFFFFMMFFMMMMMMMFMMMFMMMMMFFMMFFMFFFMMMMMFMMMFMMFMMMFFMFMMMFMMFMFFMFMMFMFMMMMMMMFMFMMMMMFFFFMMFFFFFFMMMMMMMMFFMMFMFFFMMFFMMMMFFMMMMMMFMFMFMMFMFMMMMMMMMMFMMFMMMMFFFFMMMMMMMFFFFFFMMMFFMMFFMFFMMMMFMFMMFMMFMMFFMMFFFMMMMMMFMMMFMFMMMMFMMMFMFMMMFMMMMMFMMFMFMMMFFFMFFFMMMFFMMMMMMFFFFMMMFFFMMFMMFMFMMMMMFFMMFFMMFMMMMMMMFMMFFFFFFMFFMFMMMFFMMMMFMMMFMMFMMFMFFMMFMMMFFMMMMFFFFMMMMFMFMMFMMMMMMMMFMMFMFMFFMMFMMFMFMMFMFMMFMMMFMFFFMMMMFFFFFMMFMFMMMMFFMMMFMMMFMMMFFMFMMFMMFFFMMFMMFMMMMMMFMMMFMMMFMMFMMMMMMMMMMMFMMFMFFMMMFFMMMMMMFFMFMMFMMMFFMMMMFMFMFMFMMFMMMFMMMMFMFMMFMMMMMMFFMMMFMFMFFMFMFMMMMMFMFMFFMMFMMFFFMFMMMMMMMFMFFMMFFMMFFMMFFFMMMMMMMMMMMMFMMFMMMMFMFMMMMMMMMMMFMMMMFMMMMFMMMMMMMMMMFMMFMMMMMMMMMMFFMFMMFMMFMFFFMFMMMFFMMMMFMFFMMMFMMFFMFMMMMFMMFMMFFMMMMMFFMMFMMMFMMMMMFFMMMFMMMFMMMMMMMFFMMMFFMFFMFMMMMMMMMMFFMMMFMMMMFFFMMFFMMFMMMFFFFFMMMMMMMMFMMFMMFMMMFMFFFFFMFFMMMMMMFFFMMMFMMMFFMFMMMMMMMMMMMMMMMMMFMMMMMMMMFFFMMFMMMMMMMMFFMFFMMMMMMFMFMFMFMMFMMMMMMFFMMMMMFFMFFMMMFMMMMMMMMFFMFFMMMMFMFFMMMMMMMMFFFMFFMMMMMMMMMMMFMMMMFMFMFFMFMMMFFFMFMMFFFMFMMMMMMMMMFFMFMMMMFMFFFMMMMMMMMFMMFMMMMMMMMFFMMMMMMFMMMFMFMMMMMMFMMFMMMFFFMMMMMMMFMFMFFMMMMMMMFMMMFMMMMMFMMFMFFMMFMFMMMMMMMMMMMMFMMMMFFMMMFFFMMMMFMFMMMMMMFMMMMMMMMFFMFMMMMMMFMFMMMFFMFMMFMMMFMMMMFMMMMFMMFMMMMMFMFMMFMMMMMFMFFMMMMFFMMFFMMMMFFMFMFMMFFFFMFFMMFFFMMMFFMMFMMMMMFFMMFMMFMMMMMMMFMFMMMFFMMMFMFFMMMMMMMMMFMFMMFMMMMFFFFFMFMMFMFFMMFMFMMFFMFFMMMMMFFMMMMFMMMFFMFMMMMMMMMMMFMMMMMFMMMMFMMMFMMMMMFMMMMFFFFMFMMFMMMFFFFMMFFMFFMMFFMMMFMMFFMMFFFMFMMMMMMMMFFMMMMMFFFFMMMFMMMFMFFMMFFMFMMMMFMMMFMFMMMMMMMFFFFMMFMMFMMFMMMMMMFMFMFMFMFMMMFMMMMFFMMMMMFMFMMMMMMMFMFMMMFFFMMMMFMFMFMFMFMFMFFFMFMMMMMMFMFMMMMFMMMFMMFMMMMMFMFMFMMMMMMFMMMMMMFFFMMFMMFMMMMMMMMFFMMMFMMMFFMMMFMFMMMMMMMFMMFMMFFFMMFMMFFFMMFFMFMMFMMMMMMMFMMMFMMMFFMMFMMMFMFMMMMMMMMFFFMMMMFMFMMMFMFMFMMMMMFFMFFFFMFFMMMMMMMMFMMMFFMMMMFMMFFMMMFMMFFMMMFMMFFFFMMMMFFFMMFMMMMMMFFFMMMMMMFFMMFMFFMFMMMMMMMMMMMMFMMMFMMFFFMMMMFFFMMMFFMFFMMMFFFMMMFFFFMMMMFFMMFFFMMMMFFFFMFMFFMMMMMFFFMMFFMMMMMMMFMFMMMMMMMFMMMMMMMMMMMMMFFMMMMFMFMMMMFMFMMMMFMMFMMMMMMMMMFMMMFMMMMMMMMFFFMMFMFFFMFFFMFMMMMMMFMMFMMMMFFMMMMMMFFMFMFMMMFFFMMMFMMMFMMFFMFFFMMFFMFMMMMMFMFFMMMFMMMMMFMMMFFMMMMMMMMMMMMFMMMMFMFMFMMMMMFFFMFFMFMMMFFFMMMMMMMFMFMFMMFFMMFMFMMMMFMMMMMMMMFFMMMFFFFMMMFFFMMMFFFFMMMMFFFMFMMFMFMFMMMMFMFMFMMMMMFMMFMFFMMFMMMMMMFFMFMFFFMFFFFFFMMMFMFMFMMMMMFFFMMFFMMMMMMMMMMFFFFFFMFFMFMMFMFMMFFFFFMFFFFFFFMMMFFMMMMFMFMFMMMFMMMMMMFFFFMFFMMMFFFMMMFMFMFMMMFMMMFMMMMMMMMMMFFMMMFFFMMFMMMMMMMMMMFMMFMFMFFMMFFFFMMMMFMFMFMFFFMMFFMMMMFFFFFMMMMMMFMMMMFMFMFMMMMMMMMMMMMMMFMMFFMMMMMFFMMMMMFMMMFMFFFMFMFMMMMFMMMMMFFMMMMMMMMFFMMMMMMFFFMFFMFFMMMMMMMMMFFFFFFMMMFFFFFMMMFMMMMFMFMFFFMMFMMMMMMMMFMMMMMMMMMMMFFFFMMMMFFMFMMFFFMMMFFFFMFMFFMFFFMFFMFFMFMMMMMMMMMFFMFFMMMFMMFMFFMMMMFFFFMMFMFMMMMFMFMFMFMFMMMMFFFMMMMMFMMMMFFMMFMFMFMMFMFMMMMMFMFFMFMMMMMMFMMMFMFMMMFMFMMFFFFMMFFFMFFMMFMMMFMMMMMMMMMMFMMMMMMMMFMMFFMMMFMMMMMMMFMFMMMMFFMMMMMMFFFMMMMFFFFMMMMMFFMMMFFFFFMMMFMMMMMMMMFMFFFFFFFMMMMMMMFFMMFMMFFMMFMMMMMMMMMFFMMFMFFFMMMFMMFMMMMMMMFFMMFMMMMFMMMMMMMMMMMMMFFMFMMMFMFMFMMMFMMMFMFMMFMMMFFMMMMMFFFFMFMMFMMMMFMMFFMMFMMMMFMFMMMMMMMMMMMMMFMFFFFFMMFMMFMMFMMFMFMMMMMMMMMMMMMMFFMMMMMMMMMFFFMFMMMMMFFMMMFMFMFMMMFMMFMFMFFMMMMMFFFMFMMFMFFMFFMMMMMMMFMMMFFFMMMMMMMFMMMMMMMFMMMMFFMFMMMMMMFFMMFFMMMFMMFMMFMMMMMMMMMFFMMMMMMMMMFMFFMFFMMFMFMFFMMMFFMFMMFFMFMMFMFMFFFMMMMMMMMMFFMFFFFMMMFMFFMMFFMMFFMMMMMMFMMMFMFMFMMFMMFFFMMMFMMFMMMFFFMMMMMFMFMFMMFMMFMMMMMMMFMMMMFMMFMMMMFMMMFMMMMMMMMFFMFFFMFFMFMFMMFMMFMFFMFMMFFFMMMMFFMMFFMMFMMMFMFFMFMFFFMFMFFMMMMMFMMFMMMFMMMFMMMMMMMFFMFMFMMMMFMMMFFMMMMMMMFMMFMMFMMFFMFFMFFMMMMMFMMMFFFFMFFFMMFMFFMFMMMFFFFFMFMFMMFMMMFMFMMMFMMMMFFFMMMFFMMMMMMFMFFMMFFFFFMFFMMMFMFFMMMMMFFFFMMMFMMMMMFMMFFMFMFFMMMMMFFMMFFMMMFFMMFFFMMMMFMFFMMMMFMMMMMMMFMFMMMMMMFMFMMFMFFMFMMFMMFMMMMMFMMFMMMFMFFMMMFFMMMFFFMFFMFMMFMFMMMMMMMFMFMMFFFMMFMMMMMFFMFMFFFMMMFFFFMFFMFFMMFFFFMFFFMFMFFFMMMMMMFMFFMMFFMFMMMMFFMMFMFMMFFMFMFMMMMFMMFFMFFMMFMMFMFFMMMMMFFMFMFMFMMMMFFFFMMMMMMMFFMFMMMMFFMMMMMMMMMFFMMMFFMMMMMMFMMMMFMMMMMFMMFFFFFMFMMMMFMMMFFMMFMFMMFMMMMMMMFFFMMFFFFFFFMFFFFFFMFFMMMFMMMFMMFMMMMFMFMMMFMFFFMFMMFMMMFFFFFFMMMFFFMMMFFMMFMMMFMMMFFMMMFMMFMMFMFFFFMFMMMFMMFMMMMMMMFFMFMFFMMMMFMMFMMFMFMFMMMFFFMMMMMMMFFMFMFFFFMFMMMFMMMMMMMFMMFFMMMMMMFFFMMFMMMFFFMMFMMFFMMFFMMMMFFFMMMMFMMMMMMMFMMMMMFFFFMMMFFFMFMMMFFMFMFMMMMMFMFMMMMMMMMFMMFFFMMMFMMMFMMFMMMMFFMFFFMMMFFFFMMFMFMFMFMMFMMMMFFMFMFMFFMMMMMMMFMFFFFFMMMFMMMMFMMMMFFMFMFFMFFMFMMMMMFMMMMMMFMMMMMMMMMMFFFMMMFFMMMMFMFFMFMMFMMMMFMMFMFMMMMFMMFFFFFMMFMFMMMFFFMMMFMMMMMMMMFMMFFFFMFFMMMMMMFFMFMFFMMMMMFMFMFMFMFMMMMFMMMMFFFFFFFFFMMFMMMFFFMMFMMMMMMMFFMMFMFFFFMMMMMMMMFFMMMMFMMMMFFMMFFMMMMFMFFMMFMFMMMFMMMFMFMFFMMFMFFMMMFMMMMMFMMFMMMMMMMMMMFMFFFMMFMFMMFMMMMFMMFMMFMFMFMMFMMMMMFMMMFMFMMMMFFMMFFFMFFFMFMMMFMMFMFFFMMMFMFFFFFFFFFMFFMMMFFMMMMMMFMMMFMMMFFMMFMFMMFMFMFMMFMFMFMMFFFFMMFMFMMFFFMFMMMMMMMMFFMMMMFMFMMMMMMFFMMMMMMFMFFFFMMMMFMMFFMMFFMMMFFMMMMMMMMFMMFFFFFMFMMMFFMMMMMMMMMMFMFMFMMFMMFMMFFMMMFFMFFFMMMMFMMFMMFMFMMFMFFFFMFFFMFFFMMMFMMFFFFFMMMMMFMMMMMFFMMFMMFFFMMMFMMMMMMMMFMMFMFFMMMMMFMMMMMMMMMMFFFMMFFFMFFMMFMMFFMMMMMMMMMFFFFMFMFMFMFFMMFFFMFMFMFMMMMFMMFMMFMMFMMFMMFMMMMMFFMFFMMFFFFMFMFFMFMMFMFMMFMMMFMMMMFFMMFMFMFFMMMFFFMFFFFFFFMMFFFMFMMMMMFFMMMFMMFFMFFMMMFFMMFFFFMFFFMMFMMMMFMFMMMFFFFMMFMFMFFMFFFMFFFMFFFMMMFMFFFFFMFFFFMMMFFMMFFMMMMFMFMFMFMMFMFFMMMMMFMFMMMFMFMFMMFFFMFMFMFMFFFFMMMFMFFMMMFMMMMFMMFFFMMMFFMFMFMMFMMMFMMFMFMMMMMMFMMMFFFMMMFMMMMFMMMMMMMMFMMMMFFMFFF' to numeric",
     "output_type": "error",
     "traceback": [
      "\u001b[0;31m---------------------------------------------------------------------------\u001b[0m",
      "\u001b[0;31mTypeError\u001b[0m                                 Traceback (most recent call last)",
      "Cell \u001b[0;32mIn[212], line 1\u001b[0m\n\u001b[0;32m----> 1\u001b[0m \u001b[43mdescribe_and_plot\u001b[49m\u001b[43m(\u001b[49m\u001b[43mdf_dropped\u001b[49m\u001b[43m[\u001b[49m\u001b[38;5;124;43m'\u001b[39;49m\u001b[38;5;124;43mGender\u001b[39;49m\u001b[38;5;124;43m'\u001b[39;49m\u001b[43m]\u001b[49m\u001b[43m)\u001b[49m\n",
      "Cell \u001b[0;32mIn[202], line 25\u001b[0m, in \u001b[0;36mdescribe_and_plot\u001b[0;34m(series, title)\u001b[0m\n\u001b[1;32m     23\u001b[0m \u001b[38;5;66;03m# Stats\u001b[39;00m\n\u001b[1;32m     24\u001b[0m \u001b[38;5;28mprint\u001b[39m(\u001b[38;5;124m\"\u001b[39m\u001b[38;5;124m📊 Numeric Summary:\u001b[39m\u001b[38;5;124m\"\u001b[39m)\n\u001b[0;32m---> 25\u001b[0m \u001b[38;5;28mprint\u001b[39m(\u001b[38;5;124mf\u001b[39m\u001b[38;5;124m\"\u001b[39m\u001b[38;5;124mMean      : \u001b[39m\u001b[38;5;132;01m{\u001b[39;00ms\u001b[38;5;241m.\u001b[39mmean()\u001b[38;5;132;01m:\u001b[39;00m\u001b[38;5;124m.2f\u001b[39m\u001b[38;5;132;01m}\u001b[39;00m\u001b[38;5;124m\"\u001b[39m)\n\u001b[1;32m     26\u001b[0m \u001b[38;5;28mprint\u001b[39m(\u001b[38;5;124mf\u001b[39m\u001b[38;5;124m\"\u001b[39m\u001b[38;5;124mMedian    : \u001b[39m\u001b[38;5;132;01m{\u001b[39;00ms\u001b[38;5;241m.\u001b[39mmedian()\u001b[38;5;132;01m:\u001b[39;00m\u001b[38;5;124m.2f\u001b[39m\u001b[38;5;132;01m}\u001b[39;00m\u001b[38;5;124m\"\u001b[39m)\n\u001b[1;32m     27\u001b[0m \u001b[38;5;28mprint\u001b[39m(\u001b[38;5;124mf\u001b[39m\u001b[38;5;124m\"\u001b[39m\u001b[38;5;124mMode      : \u001b[39m\u001b[38;5;132;01m{\u001b[39;00ms\u001b[38;5;241m.\u001b[39mmode()\u001b[38;5;241m.\u001b[39mvalues\u001b[38;5;132;01m}\u001b[39;00m\u001b[38;5;124m\"\u001b[39m)\n",
      "File \u001b[0;32m~/Library/Python/3.9/lib/python/site-packages/pandas/core/series.py:6560\u001b[0m, in \u001b[0;36mSeries.mean\u001b[0;34m(self, axis, skipna, numeric_only, **kwargs)\u001b[0m\n\u001b[1;32m   6552\u001b[0m \u001b[38;5;129m@doc\u001b[39m(make_doc(\u001b[38;5;124m\"\u001b[39m\u001b[38;5;124mmean\u001b[39m\u001b[38;5;124m\"\u001b[39m, ndim\u001b[38;5;241m=\u001b[39m\u001b[38;5;241m1\u001b[39m))\n\u001b[1;32m   6553\u001b[0m \u001b[38;5;28;01mdef\u001b[39;00m\u001b[38;5;250m \u001b[39m\u001b[38;5;21mmean\u001b[39m(\n\u001b[1;32m   6554\u001b[0m     \u001b[38;5;28mself\u001b[39m,\n\u001b[0;32m   (...)\u001b[0m\n\u001b[1;32m   6558\u001b[0m     \u001b[38;5;241m*\u001b[39m\u001b[38;5;241m*\u001b[39mkwargs,\n\u001b[1;32m   6559\u001b[0m ):\n\u001b[0;32m-> 6560\u001b[0m     \u001b[38;5;28;01mreturn\u001b[39;00m \u001b[43mNDFrame\u001b[49m\u001b[38;5;241;43m.\u001b[39;49m\u001b[43mmean\u001b[49m\u001b[43m(\u001b[49m\u001b[38;5;28;43mself\u001b[39;49m\u001b[43m,\u001b[49m\u001b[43m \u001b[49m\u001b[43maxis\u001b[49m\u001b[43m,\u001b[49m\u001b[43m \u001b[49m\u001b[43mskipna\u001b[49m\u001b[43m,\u001b[49m\u001b[43m \u001b[49m\u001b[43mnumeric_only\u001b[49m\u001b[43m,\u001b[49m\u001b[43m \u001b[49m\u001b[38;5;241;43m*\u001b[39;49m\u001b[38;5;241;43m*\u001b[39;49m\u001b[43mkwargs\u001b[49m\u001b[43m)\u001b[49m\n",
      "File \u001b[0;32m~/Library/Python/3.9/lib/python/site-packages/pandas/core/generic.py:12439\u001b[0m, in \u001b[0;36mNDFrame.mean\u001b[0;34m(self, axis, skipna, numeric_only, **kwargs)\u001b[0m\n\u001b[1;32m  12432\u001b[0m \u001b[38;5;28;01mdef\u001b[39;00m\u001b[38;5;250m \u001b[39m\u001b[38;5;21mmean\u001b[39m(\n\u001b[1;32m  12433\u001b[0m     \u001b[38;5;28mself\u001b[39m,\n\u001b[1;32m  12434\u001b[0m     axis: Axis \u001b[38;5;241m|\u001b[39m \u001b[38;5;28;01mNone\u001b[39;00m \u001b[38;5;241m=\u001b[39m \u001b[38;5;241m0\u001b[39m,\n\u001b[0;32m   (...)\u001b[0m\n\u001b[1;32m  12437\u001b[0m     \u001b[38;5;241m*\u001b[39m\u001b[38;5;241m*\u001b[39mkwargs,\n\u001b[1;32m  12438\u001b[0m ) \u001b[38;5;241m-\u001b[39m\u001b[38;5;241m>\u001b[39m Series \u001b[38;5;241m|\u001b[39m \u001b[38;5;28mfloat\u001b[39m:\n\u001b[0;32m> 12439\u001b[0m     \u001b[38;5;28;01mreturn\u001b[39;00m \u001b[38;5;28;43mself\u001b[39;49m\u001b[38;5;241;43m.\u001b[39;49m\u001b[43m_stat_function\u001b[49m\u001b[43m(\u001b[49m\n\u001b[1;32m  12440\u001b[0m \u001b[43m        \u001b[49m\u001b[38;5;124;43m\"\u001b[39;49m\u001b[38;5;124;43mmean\u001b[39;49m\u001b[38;5;124;43m\"\u001b[39;49m\u001b[43m,\u001b[49m\u001b[43m \u001b[49m\u001b[43mnanops\u001b[49m\u001b[38;5;241;43m.\u001b[39;49m\u001b[43mnanmean\u001b[49m\u001b[43m,\u001b[49m\u001b[43m \u001b[49m\u001b[43maxis\u001b[49m\u001b[43m,\u001b[49m\u001b[43m \u001b[49m\u001b[43mskipna\u001b[49m\u001b[43m,\u001b[49m\u001b[43m \u001b[49m\u001b[43mnumeric_only\u001b[49m\u001b[43m,\u001b[49m\u001b[43m \u001b[49m\u001b[38;5;241;43m*\u001b[39;49m\u001b[38;5;241;43m*\u001b[39;49m\u001b[43mkwargs\u001b[49m\n\u001b[1;32m  12441\u001b[0m \u001b[43m    \u001b[49m\u001b[43m)\u001b[49m\n",
      "File \u001b[0;32m~/Library/Python/3.9/lib/python/site-packages/pandas/core/generic.py:12396\u001b[0m, in \u001b[0;36mNDFrame._stat_function\u001b[0;34m(self, name, func, axis, skipna, numeric_only, **kwargs)\u001b[0m\n\u001b[1;32m  12392\u001b[0m nv\u001b[38;5;241m.\u001b[39mvalidate_func(name, (), kwargs)\n\u001b[1;32m  12394\u001b[0m validate_bool_kwarg(skipna, \u001b[38;5;124m\"\u001b[39m\u001b[38;5;124mskipna\u001b[39m\u001b[38;5;124m\"\u001b[39m, none_allowed\u001b[38;5;241m=\u001b[39m\u001b[38;5;28;01mFalse\u001b[39;00m)\n\u001b[0;32m> 12396\u001b[0m \u001b[38;5;28;01mreturn\u001b[39;00m \u001b[38;5;28;43mself\u001b[39;49m\u001b[38;5;241;43m.\u001b[39;49m\u001b[43m_reduce\u001b[49m\u001b[43m(\u001b[49m\n\u001b[1;32m  12397\u001b[0m \u001b[43m    \u001b[49m\u001b[43mfunc\u001b[49m\u001b[43m,\u001b[49m\u001b[43m \u001b[49m\u001b[43mname\u001b[49m\u001b[38;5;241;43m=\u001b[39;49m\u001b[43mname\u001b[49m\u001b[43m,\u001b[49m\u001b[43m \u001b[49m\u001b[43maxis\u001b[49m\u001b[38;5;241;43m=\u001b[39;49m\u001b[43maxis\u001b[49m\u001b[43m,\u001b[49m\u001b[43m \u001b[49m\u001b[43mskipna\u001b[49m\u001b[38;5;241;43m=\u001b[39;49m\u001b[43mskipna\u001b[49m\u001b[43m,\u001b[49m\u001b[43m \u001b[49m\u001b[43mnumeric_only\u001b[49m\u001b[38;5;241;43m=\u001b[39;49m\u001b[43mnumeric_only\u001b[49m\n\u001b[1;32m  12398\u001b[0m \u001b[43m\u001b[49m\u001b[43m)\u001b[49m\n",
      "File \u001b[0;32m~/Library/Python/3.9/lib/python/site-packages/pandas/core/series.py:6468\u001b[0m, in \u001b[0;36mSeries._reduce\u001b[0;34m(self, op, name, axis, skipna, numeric_only, filter_type, **kwds)\u001b[0m\n\u001b[1;32m   6463\u001b[0m     \u001b[38;5;66;03m# GH#47500 - change to TypeError to match other methods\u001b[39;00m\n\u001b[1;32m   6464\u001b[0m     \u001b[38;5;28;01mraise\u001b[39;00m \u001b[38;5;167;01mTypeError\u001b[39;00m(\n\u001b[1;32m   6465\u001b[0m         \u001b[38;5;124mf\u001b[39m\u001b[38;5;124m\"\u001b[39m\u001b[38;5;124mSeries.\u001b[39m\u001b[38;5;132;01m{\u001b[39;00mname\u001b[38;5;132;01m}\u001b[39;00m\u001b[38;5;124m does not allow \u001b[39m\u001b[38;5;132;01m{\u001b[39;00mkwd_name\u001b[38;5;132;01m}\u001b[39;00m\u001b[38;5;124m=\u001b[39m\u001b[38;5;132;01m{\u001b[39;00mnumeric_only\u001b[38;5;132;01m}\u001b[39;00m\u001b[38;5;124m \u001b[39m\u001b[38;5;124m\"\u001b[39m\n\u001b[1;32m   6466\u001b[0m         \u001b[38;5;124m\"\u001b[39m\u001b[38;5;124mwith non-numeric dtypes.\u001b[39m\u001b[38;5;124m\"\u001b[39m\n\u001b[1;32m   6467\u001b[0m     )\n\u001b[0;32m-> 6468\u001b[0m \u001b[38;5;28;01mreturn\u001b[39;00m \u001b[43mop\u001b[49m\u001b[43m(\u001b[49m\u001b[43mdelegate\u001b[49m\u001b[43m,\u001b[49m\u001b[43m \u001b[49m\u001b[43mskipna\u001b[49m\u001b[38;5;241;43m=\u001b[39;49m\u001b[43mskipna\u001b[49m\u001b[43m,\u001b[49m\u001b[43m \u001b[49m\u001b[38;5;241;43m*\u001b[39;49m\u001b[38;5;241;43m*\u001b[39;49m\u001b[43mkwds\u001b[49m\u001b[43m)\u001b[49m\n",
      "File \u001b[0;32m~/Library/Python/3.9/lib/python/site-packages/pandas/core/nanops.py:147\u001b[0m, in \u001b[0;36mbottleneck_switch.__call__.<locals>.f\u001b[0;34m(values, axis, skipna, **kwds)\u001b[0m\n\u001b[1;32m    145\u001b[0m         result \u001b[38;5;241m=\u001b[39m alt(values, axis\u001b[38;5;241m=\u001b[39maxis, skipna\u001b[38;5;241m=\u001b[39mskipna, \u001b[38;5;241m*\u001b[39m\u001b[38;5;241m*\u001b[39mkwds)\n\u001b[1;32m    146\u001b[0m \u001b[38;5;28;01melse\u001b[39;00m:\n\u001b[0;32m--> 147\u001b[0m     result \u001b[38;5;241m=\u001b[39m \u001b[43malt\u001b[49m\u001b[43m(\u001b[49m\u001b[43mvalues\u001b[49m\u001b[43m,\u001b[49m\u001b[43m \u001b[49m\u001b[43maxis\u001b[49m\u001b[38;5;241;43m=\u001b[39;49m\u001b[43maxis\u001b[49m\u001b[43m,\u001b[49m\u001b[43m \u001b[49m\u001b[43mskipna\u001b[49m\u001b[38;5;241;43m=\u001b[39;49m\u001b[43mskipna\u001b[49m\u001b[43m,\u001b[49m\u001b[43m \u001b[49m\u001b[38;5;241;43m*\u001b[39;49m\u001b[38;5;241;43m*\u001b[39;49m\u001b[43mkwds\u001b[49m\u001b[43m)\u001b[49m\n\u001b[1;32m    149\u001b[0m \u001b[38;5;28;01mreturn\u001b[39;00m result\n",
      "File \u001b[0;32m~/Library/Python/3.9/lib/python/site-packages/pandas/core/nanops.py:404\u001b[0m, in \u001b[0;36m_datetimelike_compat.<locals>.new_func\u001b[0;34m(values, axis, skipna, mask, **kwargs)\u001b[0m\n\u001b[1;32m    401\u001b[0m \u001b[38;5;28;01mif\u001b[39;00m datetimelike \u001b[38;5;129;01mand\u001b[39;00m mask \u001b[38;5;129;01mis\u001b[39;00m \u001b[38;5;28;01mNone\u001b[39;00m:\n\u001b[1;32m    402\u001b[0m     mask \u001b[38;5;241m=\u001b[39m isna(values)\n\u001b[0;32m--> 404\u001b[0m result \u001b[38;5;241m=\u001b[39m \u001b[43mfunc\u001b[49m\u001b[43m(\u001b[49m\u001b[43mvalues\u001b[49m\u001b[43m,\u001b[49m\u001b[43m \u001b[49m\u001b[43maxis\u001b[49m\u001b[38;5;241;43m=\u001b[39;49m\u001b[43maxis\u001b[49m\u001b[43m,\u001b[49m\u001b[43m \u001b[49m\u001b[43mskipna\u001b[49m\u001b[38;5;241;43m=\u001b[39;49m\u001b[43mskipna\u001b[49m\u001b[43m,\u001b[49m\u001b[43m \u001b[49m\u001b[43mmask\u001b[49m\u001b[38;5;241;43m=\u001b[39;49m\u001b[43mmask\u001b[49m\u001b[43m,\u001b[49m\u001b[43m \u001b[49m\u001b[38;5;241;43m*\u001b[39;49m\u001b[38;5;241;43m*\u001b[39;49m\u001b[43mkwargs\u001b[49m\u001b[43m)\u001b[49m\n\u001b[1;32m    406\u001b[0m \u001b[38;5;28;01mif\u001b[39;00m datetimelike:\n\u001b[1;32m    407\u001b[0m     result \u001b[38;5;241m=\u001b[39m _wrap_results(result, orig_values\u001b[38;5;241m.\u001b[39mdtype, fill_value\u001b[38;5;241m=\u001b[39miNaT)\n",
      "File \u001b[0;32m~/Library/Python/3.9/lib/python/site-packages/pandas/core/nanops.py:720\u001b[0m, in \u001b[0;36mnanmean\u001b[0;34m(values, axis, skipna, mask)\u001b[0m\n\u001b[1;32m    718\u001b[0m count \u001b[38;5;241m=\u001b[39m _get_counts(values\u001b[38;5;241m.\u001b[39mshape, mask, axis, dtype\u001b[38;5;241m=\u001b[39mdtype_count)\n\u001b[1;32m    719\u001b[0m the_sum \u001b[38;5;241m=\u001b[39m values\u001b[38;5;241m.\u001b[39msum(axis, dtype\u001b[38;5;241m=\u001b[39mdtype_sum)\n\u001b[0;32m--> 720\u001b[0m the_sum \u001b[38;5;241m=\u001b[39m \u001b[43m_ensure_numeric\u001b[49m\u001b[43m(\u001b[49m\u001b[43mthe_sum\u001b[49m\u001b[43m)\u001b[49m\n\u001b[1;32m    722\u001b[0m \u001b[38;5;28;01mif\u001b[39;00m axis \u001b[38;5;129;01mis\u001b[39;00m \u001b[38;5;129;01mnot\u001b[39;00m \u001b[38;5;28;01mNone\u001b[39;00m \u001b[38;5;129;01mand\u001b[39;00m \u001b[38;5;28mgetattr\u001b[39m(the_sum, \u001b[38;5;124m\"\u001b[39m\u001b[38;5;124mndim\u001b[39m\u001b[38;5;124m\"\u001b[39m, \u001b[38;5;28;01mFalse\u001b[39;00m):\n\u001b[1;32m    723\u001b[0m     count \u001b[38;5;241m=\u001b[39m cast(np\u001b[38;5;241m.\u001b[39mndarray, count)\n",
      "File \u001b[0;32m~/Library/Python/3.9/lib/python/site-packages/pandas/core/nanops.py:1701\u001b[0m, in \u001b[0;36m_ensure_numeric\u001b[0;34m(x)\u001b[0m\n\u001b[1;32m   1698\u001b[0m \u001b[38;5;28;01melif\u001b[39;00m \u001b[38;5;129;01mnot\u001b[39;00m (is_float(x) \u001b[38;5;129;01mor\u001b[39;00m is_integer(x) \u001b[38;5;129;01mor\u001b[39;00m is_complex(x)):\n\u001b[1;32m   1699\u001b[0m     \u001b[38;5;28;01mif\u001b[39;00m \u001b[38;5;28misinstance\u001b[39m(x, \u001b[38;5;28mstr\u001b[39m):\n\u001b[1;32m   1700\u001b[0m         \u001b[38;5;66;03m# GH#44008, GH#36703 avoid casting e.g. strings to numeric\u001b[39;00m\n\u001b[0;32m-> 1701\u001b[0m         \u001b[38;5;28;01mraise\u001b[39;00m \u001b[38;5;167;01mTypeError\u001b[39;00m(\u001b[38;5;124mf\u001b[39m\u001b[38;5;124m\"\u001b[39m\u001b[38;5;124mCould not convert string \u001b[39m\u001b[38;5;124m'\u001b[39m\u001b[38;5;132;01m{\u001b[39;00mx\u001b[38;5;132;01m}\u001b[39;00m\u001b[38;5;124m'\u001b[39m\u001b[38;5;124m to numeric\u001b[39m\u001b[38;5;124m\"\u001b[39m)\n\u001b[1;32m   1702\u001b[0m     \u001b[38;5;28;01mtry\u001b[39;00m:\n\u001b[1;32m   1703\u001b[0m         x \u001b[38;5;241m=\u001b[39m \u001b[38;5;28mfloat\u001b[39m(x)\n",
      "\u001b[0;31mTypeError\u001b[0m: Could not convert string 'MMMMMMFMMMMFFMFFMMMMFMMMFFMMMMFFFFFFMMFFMFMMMFFMFMFFMFMFFMFFMMMMFFMFMMMFFFMFMFMMMMFMFMMMMMMMMFFMMMMMMMMMMFFMMMMMFFMMMMMMMMFFMMMFFMMMFMMMFFMFMMMMMMMMFMFMMMMFMMMMMMMMFMMMFMFFMMFFFFMFMFMMMMFFMMMFMFMMFMFMMFMFFFFMMFMMMFMMMMFMMFFMFMMMFMMMMMFMMMMFMMFFFMMFMFMMMFMMFMFMMMFFMMMFMMFMMMMMFMMMMFMMMFFMMMMMMMMMFMFFFFMFMFMMFMMMFMMMFMFMMFFMMMMMMMMMFFMMFMMMFFMFFMMFMMMMMMMMFFFMFMMMMFMMFMFFMMMFMMMFMMFMFFMMFFMFFMFFFFFMFMFMMFMMMFMMFFMMFMMMMMMFMFFMMMMMMMMMMMFMFFFMMMMMFFMMMMFFFFFMFMFMMMMFFFMMMFMMMFMMMFFMMMMMFFFFFFMFFFFFFFMFMMMFMMMMMMFMFMMMMFMMMMFFMFMFMFFFFMMFMMMFMFMMFFMMFFMFMMFFMMMFFMMFFMMFFMMFMFMMFFMMMFMFMMFFMMMFMFMMMMMMFMMFMMMMMMFMMMMMFFFMMFMFFFFMMMFMMMFMMFFFFFMMFMFFMMMMFMMFMFMMFMMMMMMFMMMMMMFFMFFFMMMMMFMMMMMMMFMMMMMMMMMMMFFMMFMFMFMMMMMFFFMFFFFMFFMMMMMFFFFMFMFMFMMMMFFMMMFFFMMFMFFFFMFMFFFFFMMFMMMMFFMFMFMMMMMMFMFFFFFMMMMMMMFMFMMMMMFFMMMMFFFFMMMMMMFMMFFMMMMMFMMMMFFMFFMFFMMMFMMFMMFMMMMFMFFMMMMMFMFFFMMMFMFFMMMMMMMMMFMMMMFMMMMMFFFMMMMFMMMMFFMMMMFMMMMFFFFMMMFMMMFMMMMMFFMFFMFMFMMMMFFFMMMFMMFMMFFMMMMMFMMMMMMFMMMFFMMMMMMFFFFMFMMMMMMFFFMMMMMFMMFMMMMFMMMMFMMMMMFMMMMFMMMFMFMMFMMMMMMMFMFMMFFMMMFFMFFMMMMMFFFMMFMMMMMFMMMFMMFFMFMMMMMMMFMMMFMMFFFMMMMFMMMMFFFMFFMMFMFFMMMFMMFMMFMFFFFFMFFMFMMMFFFFMMMMMMFFMFMMMFMFMFMMMFMFFFFFMFMFMMMMFFFFMMMMFMMFMMFMFFMFMMMMFFMMFMMMMMMMFMFFMMMMMMMMMFFFFMMFMFMFFFFFFFMMFMMMMFMMMFFFMMMFFMMMFFMMMMMMMMFMFMMFFMMFFMMMMMFMMMMMFMFFFMMMFMFFFFMFMFMMMFMFFMMMFFMMFFFFFMMFMFMMMMMFMMMMMMFMMMMFMMMMMFMFFMMMMFMMMMMMMMFMMMFMMFFMMFMMFMMMMFMFMMMMMMMFFFMFFMMMMMMFFFFMMMFMFFMMFMFMFMMMMMMMMFMMMMFFMMFMFMFFMMMMMFMFMMMMMFMMMMMFFMMMFMMMFFMMMMMMMMFFMMMMMMFFMMFMMMFMFMMFMFFFMFMFFMMFFMMMMMFFFFMFFFFFMMMFMFFFFFMFMFFMMFMMMFMFFFFFMMMMFFMMMMFMMMMMFMMFMMMMFFFMMMMFMFFMMFMFMMFMMFMFMMFMMMMFMFMMFMFMFFMFMMMMMFMFMFFMMFMFMMMFFMFFFFFMFMFMMFMMFMMFMMFMMFMMMMFMMMMMMMMFMMMMMMMFMMMFFMMMMFMFFMFMMMMMFMMFFMFMMMMMMMMFMFMMMFMMMMFFFFMMMFMFFFMMFMMMMMMMMMMMMMFMMMMMFFMFMFMFMFMMFMMMFFMMFMMMMMFFMMMFMMFFMFMFFFMFFMMMFFMFMFMFMFMFFMFMMMMMMFFMMMMFMMMFMFMMMFMMMFMMFFMFMFFMFMMFFMMMFFMMMMMMFFFMMFMFMFFMMMMFMMMMMFMMMMMFFMMMMMMMMFMFFMFFMMMFMMMMMMMMFFMFFMFMMMFFMFMFFMFFMFFFFFFFFFFFFFMFMMFMFMFFFMFMFMFMFMFMMMMFMMMMMMFFMFMMMMFMMMFFMMFMMMMMMFFMMFMFMFFMMMFFMFMMMMFMFMFFFMMMMMMMMMMMMMMMFMFMMMMMMMMMMFFMMMFMFMMFFMMFMFMFFMMFMFFFMMMMFMFFFMMFFFMFMFMFFFFFFFFMFFMFMMMFFMMMMMMFFMFMFFFMMFMFFFFMFMMMMMFFMFMMMMMMMMFMFMMFMFFMMMMFMFFMMMFMMFFMFMMMMMFFMFMFMMMMMMMMMFFFFFFFFMMMMMMFFFMMFMMMFFFFMFMMFMMMFFMMMMFMMMMFMFFMFMMMMFMMFFMFMFMFMMFMMMMMMMMMFFFMMMFMMMMMFMFFMFFMMMMMFMMMFFMFMMMFMMMFMFFFMMMMFFMFFMMMMMFMFFFMMMFFMMFMFFFMFMFMMMFMMFFMMFMMFFMMFFFFMMFMFMMFFMMMMFFFFFMFFFMFMMMMMFMMMMFFFFMFFFMMFMMFFFFFMMMFMMMFMFMFMFFFMMMMFFFMFFFMMFFMFFFFFFFMMMMFMMFMMMMMMMFMFMFMMMMFFMFFFMFFMMMMMMMFMMMFFMMMMMMMMFFMFFMMMMMFMMMMFMFFFMMFMFMFMMFMMFFMMFMMFMMMMMMFMFFFFMMMMMMFMMFFMFFMFMFMMMMMMFMFMMFFFMMFFMMMMMMMFMMFFMMFFFMFMMFMMMMFFMMFMFFFMMFFMMMFMMMFFFFFMMMMMFFMMMMFMMMMFFFMMFMMMMFFMMMMFFMFFFMFMMMMFMMFFFMMMFMMFMMMMFMFFMMFFFFMFMMMFMMMFMMMMMFFFMFMMFMFMMMMMMFMMFFFFMMMMMFFMMMFMMFMFFMMMMFFFFMFFMMMFFFMMMFMFFMMFFMMFMMMFFFMMMFFMMFMMMMFFMFMMMMFMMFFMMMFMFFMMFMFFMFMFMMMFMFFFMMMMMFFMFMFMFFFFFFMFFMMFMMFFMMFFFFFFMFMMFMMFFFMFFMMMFFMMMMMFMFFMFFFMMMMFMFMMFMFFFMFMFFMMMMMFFMFMMMFFMMFFFFMFMMMMFMMMFMFMFMFFMMMFMFMMFFMMFMFMFMMMFFMMFMFMMFMFMFMFMFFFMMMMMMMMMFFFMFFMMMMMFMMMMMFFMFFMMFMMMMFMMFMMMFFMMMMMMMFMFMMFMFFFMMMFMFMFMMMFMMMMFMMFMMMFMMMFFMFMMMFFMMMMMMMMFMFMMMMFFFMMMFFFMMMMMFFMFMMMFMMMMMMMMMMFFMMMMMFFFFFFMMMFFMMFFFFMFMMFFMMFMMMMFMMFMMMMMFMMMMMMMMFMMFFFFMFMFFFFMFMFMFMFFFFFMMMMFMMFFMFFMMFMFMMMFFFMMFFFFMMMMMFMMFFFFMMFMFFMFMMMMMMMMMMFMMMFFFFFFFFMFMMMMMMFFMMMMFFFMMMFMMFMMFFMMMFFFMMMFMMMMMMMFMFMFMMMFFFFMMMFMMMMMFMMMFMMMMMFMMMMMFMMMMMMMMMFFFMMMMMMMFMMMFFFMMMMMFMMMFMMMMMMMMMMFMMMMMMMFFFMMMMMFMMMMFFFFMFFFMFFFFMMMFFFMMFFFMMMFFFMMFFMMMMMMMMMMMMMMFFFMFFFFMFMMFMMMMMMMFMMMMMMMMFFMMMMMMMMMFMFMMMMMMMFMFFMMFFMMMFMFMFFFMFMMMMFMMMFMFMMFFFMMFMMMMMFMFMFMMMMMMMMMMMMFFFMFMFFMFMMMFMFFMFMMFMFMFMMFFFFMFMFMMMMMFFFFFMMMMMFFFMFFFFMMMFMFFFFMMMMMFFMMMFMMFMMMFMMMMFFFFFMMFFFFMMMFMFMMFMFFMFMMFMMFMFMFMMFFMMMMMMMMMMMFMFFMMMFMMMFMMFMMMMMFMFMMFMMMFFFMMFMFMMMMMFFMMMFMFMMFFFMMFFFFMMMFFFMMMFMMMFMMFMFMFFFMMFFMMMMMMFMMMMFFMFFMFFMMMFFMMMFMFFMMMFMMMMMMMMMMMMMMMFMMMMFFMFMFMMFMMFMMFMMMMMMMMMMMMFFMFMMFMMMMFFMMMFMMMMFFFMFMFFMFMMFFMMMMFMFMMFMMMFFFMFMFFFMFMFFMMFMFFFMMMFMFFFMMFFMMMFFFMFFMFFMMMMFFFFFMMFMMMMMFFMFFMFMFMMMMMMFMFFFFFMFMMMMFMMMFMMMFMFMMMFFMMFFMFFFMMFMFMFFFMFMFMMMFMMMMFMFMFFFFFMFFMMMMMMFMFMMFFFMMFMMMFFMMMMMFFMFMFMMMFMMFMMMFMMMFMFMMMMMMMMMMMMFFFMFMFFMMMFMFMFMFMFMFMMFFFMFMFFMMMFMMMFFMMMMMMMFFFFMMFMMMFMFFFFFFFMFMFMMFMMMFMMMFMMMFFMFFFMMFMMMMMMFMFMMMMMMMFMMMMFMMMMMMFMMFFFMMMFMMFMMMFMMMMFMMMMFMMFFMMFMMFMMFFMFMMFMFMMMMFFMMMMFFMMFFMFFFMFFMMMMFFFMMFFMFMMFMMMMFMMMFMMMMFMMMFFMMMFFMMMFMFMMMMMFMMMMMMMFFMMFMFMFFMFFMMMMFMMFMMMFMMFMMFMFMFMMMMFFMFMFFMMFMFMMFFFMMMMFFFMFFMMFMFMFFMMMFMMMFMFFMMMFFMMMMMMMMFMMFMMMMMFMFFMFFMMMFMMMMMMFMMFMMMMMMFMMMFMFMMMMMMMMMFMMFFMFFMFMMMMMMFMFFMMMFMMMFFFMMMMMMMMMMMMFMMFFFMMFMMFMMMMMMMFFMFFMMFMFMMMMMMMFMFMMMMMFMMMMMMFMMMFMMFFMMFMMFMMMMMFFMFMFFMMMMMMMMFMFMMFMFFMFFMMMFFMMFFFMMMFMMMFFFMFMMFFFMMFFMFMMMMMFMFMFMFMMMMMMMMMMMMFMMMMMMFMMMMMMMMFFFFMMFMMMMFFFMMMMMMFMMMFFFMFMFMMMFMFMFFFFMMMFMMMMMFFMMMMMMMMFMMMFMMMMMFMMMMFFFFMMMMFMMMFMFFMFMMMFFMFMMMMFMMFFFMMMFFFMMFFMFFFFMMFMMMMMMFMFFFMMMMMFMMMMMMMMMMFMMMMFFMFFFMFMFMMFMMFMMFMFMFMMMMFFFMFFMFFMFFMMMFMMFFFMMMMMMMMFMMMMMFMMMFMMFFMMFFFMMMFMMFMMMFMMMMFMFMFFMMMMFMFMMMFMMFFFFFFMFMMMFMFFMMMMFFFMMMFMMMFMMMFFFFMMMMMMMMFMFMFMFMFFMMMMMMMMFFMFMFMMMMMMMMFFMMFMFMFMMMMMMMFFFFFMMFFFMMFMMFFMFFFMMMFMMMMMMMMFFMMMFMFFMMMFFFFFFMMFMMFMMMFFMMMMMMFMMFMMFFFMFFMMMFMMFMMMFFMMFMMMMMMFMMFMMMFMMFMFMMFMMMMMFMMFMMMMFMMMMFMMFFMMMMMMFMFMMMMMFMMFFMFMMMMFFMFMFMMFMFFMMFMMMFMMMMMFMMFMMMMMFFFMMMFMMMMMMMMMMMMFMFFMFFMMMMMMFMFFFFFFFMFMFFMMMFMMMMMFFMMFMFMMMMFMMMFMMFMMMFFMFFFMMFMFMMMMMFFMMMFMMMMMMMFMMMMFFFFFFMMMMFMMMMMMMMMMMMFMFMMMMMMMFFFMMFFMMMMMMFFMFMMMFMFMMFFFMMFMMMFFFFFMMMMMFFMMMMMMMMMFMMFFFMFFFFMMFFMMFMFFMFMFFFFFMMFFFMMFMMFFMMMMFFMFFMMMMMMFFMFMMFMFFFFFMFMFFFFFFMFFFFMFFFMFMFMFFFMMFFMFFFFFMFMFMFMMMMFMFMFFMMMMFFMMFFFMMMMFFMFMMMMFFFFFFFFMMMMMMMFFFMMMMFMFFMMFMFMFMMMFFFMMFFMMMMFFFMMMMFFFMMMMFFFMFFFMMMMFMMMMFMFMFMFMMMMFFMFFMFMMFMMMFFMFMMMFMMFMFFMMMMMMMMMMMMFMMMMFMMMMFMFMFMFFMMMMMFMMMMFMMFMMFMMFFFMMFFMMMFFMMFMMMMMMMFFFFMFFMMMMFMMMFFMFMMMMMMMMMMFFFMFMMMFMMMMMFFFMMMMMMMMFFMFFMFMMFMFFMMMMMFMFMMFMMMFMMMFMFMMMMFMFMMFMMMMMFMFFFMFFMFMMFFFMMMFFFMFFMMFFMFFFMFMMFFMFFMMMFMMMMMFMFMFFMMMMFFMMFMMMMFMMMFMMFFFMMMFFFMMMMMMMMFMMFFFFFMFFMMMFMMMMMFFMMMFMMMMFMMMFMFMMMMFFMMFMMMMMFFMMFMMMMMMMMFMMMMMFMMMFMMMMFMFMMMFMFMMFFMMMMMMMMFFFMMMMMMMMMMFFMMMFMMMMMMMMMMMMFFFFMMMMFMMMFMFMMMMMMMFMMMMMMMMFFMFMMMMMFMFMMMMMFFMMMMMFMFMMFFMMFMFFMMFFMMFMMMMMFMMFMMFFMMFFMFMMFMMFFMMMFFMFFMMMMFMMMFMMMMMFFMMMMMMFFFMFMFFMMMMMMMMMFFFMMMFMFFFMFFMMFFFFMFFFFMMMMMMFMMMFMMMFMMFMMFFFFFFFFFMMMMMMMFMFMFMFFMMMFFMMFFMMFMFFMMMFMFFMMFFFMMMMMMMMMMMMFFFMMMMFMMMMMMMMFMMMMFMFMMMMFMFFFFMFFFMMFFMMFMFMMMMFFMMMFMMFFFMMMMFMFFFMMMFMFFFFFMFMMMFMFMMMFMFFFFFMMFMMMFFMMMMMFMMFFFMMMMMMMMFFMMFFMMMFMMFFMMMMMFFMMFFMMMMMMMFMFFFFFFFMMMMMFMFMMMMMFMFFFFMFMMMMMFFMMMFMFFFMFMMMMMMMMMMMMFMMMFMFMMMMFMMMMFFMMFMFMMMMFMFFMFFMFFMMMMMFFFMMMMMFMMMMMFFMMMFMMMMMMMFMMMFMMMMFFMMMMFMMMMMMMMFFMFFFMMMFMFMFFFMMMFFMMMFMFFMMMMMMFMMMFMFFMMMMFMMFMFFMMFFFFMMFMMFMMMMFMMMFFFMMMMFMFMFFMMMFFFFMFFMFMMMMMMFMFMFFFFMMMFMMFMMMMMMFMMMFMMMFFMMFMMMMMMMMMFMMFFFMMMFMMFMFMMMMMMMMFMMMMMFMFMFFFFMMMMMMMMMMFFFMMMMMMFFMMMMMFFMFFMMMMFFMMFFMMMFMMMMMMFFMMMMMMMMFFFFMFMMFMMMFFFMMMMFMMMFMMFFMMFMFFMMMMFFMMFFMMMMFMMMMMMMMMMMMMFFFMFMFFFFMMMMFMFMFMFMFMMMFFMMMMMMFFMMFFMMFMMMMMMMFMFFFMMMMMMMMMFFFMFMMFMMMMFFFMMMMMMFFFFMFMMMMMMFMFFFMMFMMMMMMMMMMMMMMMMMMMFMMFMMMMMMMMFFMMMFMFMMMMMMFMMMFMMMFFFFFMMFFMMMMMMMFMMMFMMMMMFFMMFFMFFFMMMMMFMMMFMMFMMMFFMFMMMFMMFMFFMFMMFMFMMMMMMMFMFMMMMMFFFFMMFFFFFFMMMMMMMMFFMMFMFFFMMFFMMMMFFMMMMMMFMFMFMMFMFMMMMMMMMMFMMFMMMMFFFFMMMMMMMFFFFFFMMMFFMMFFMFFMMMMFMFMMFMMFMMFFMMFFFMMMMMMFMMMFMFMMMMFMMMFMFMMMFMMMMMFMMFMFMMMFFFMFFFMMMFFMMMMMMFFFFMMMFFFMMFMMFMFMMMMMFFMMFFMMFMMMMMMMFMMFFFFFFMFFMFMMMFFMMMMFMMMFMMFMMFMFFMMFMMMFFMMMMFFFFMMMMFMFMMFMMMMMMMMFMMFMFMFFMMFMMFMFMMFMFMMFMMMFMFFFMMMMFFFFFMMFMFMMMMFFMMMFMMMFMMMFFMFMMFMMFFFMMFMMFMMMMMMFMMMFMMMFMMFMMMMMMMMMMMFMMFMFFMMMFFMMMMMMFFMFMMFMMMFFMMMMFMFMFMFMMFMMMFMMMMFMFMMFMMMMMMFFMMMFMFMFFMFMFMMMMMFMFMFFMMFMMFFFMFMMMMMMMFMFFMMFFMMFFMMFFFMMMMMMMMMMMMFMMFMMMMFMFMMMMMMMMMMFMMMMFMMMMFMMMMMMMMMMFMMFMMMMMMMMMMFFMFMMFMMFMFFFMFMMMFFMMMMFMFFMMMFMMFFMFMMMMFMMFMMFFMMMMMFFMMFMMMFMMMMMFFMMMFMMMFMMMMMMMFFMMMFFMFFMFMMMMMMMMMFFMMMFMMMMFFFMMFFMMFMMMFFFFFMMMMMMMMFMMFMMFMMMFMFFFFFMFFMMMMMMFFFMMMFMMMFFMFMMMMMMMMMMMMMMMMMFMMMMMMMMFFFMMFMMMMMMMMFFMFFMMMMMMFMFMFMFMMFMMMMMMFFMMMMMFFMFFMMMFMMMMMMMMFFMFFMMMMFMFFMMMMMMMMFFFMFFMMMMMMMMMMMFMMMMFMFMFFMFMMMFFFMFMMFFFMFMMMMMMMMMFFMFMMMMFMFFFMMMMMMMMFMMFMMMMMMMMFFMMMMMMFMMMFMFMMMMMMFMMFMMMFFFMMMMMMMFMFMFFMMMMMMMFMMMFMMMMMFMMFMFFMMFMFMMMMMMMMMMMMFMMMMFFMMMFFFMMMMFMFMMMMMMFMMMMMMMMFFMFMMMMMMFMFMMMFFMFMMFMMMFMMMMFMMMMFMMFMMMMMFMFMMFMMMMMFMFFMMMMFFMMFFMMMMFFMFMFMMFFFFMFFMMFFFMMMFFMMFMMMMMFFMMFMMFMMMMMMMFMFMMMFFMMMFMFFMMMMMMMMMFMFMMFMMMMFFFFFMFMMFMFFMMFMFMMFFMFFMMMMMFFMMMMFMMMFFMFMMMMMMMMMMFMMMMMFMMMMFMMMFMMMMMFMMMMFFFFMFMMFMMMFFFFMMFFMFFMMFFMMMFMMFFMMFFFMFMMMMMMMMFFMMMMMFFFFMMMFMMMFMFFMMFFMFMMMMFMMMFMFMMMMMMMFFFFMMFMMFMMFMMMMMMFMFMFMFMFMMMFMMMMFFMMMMMFMFMMMMMMMFMFMMMFFFMMMMFMFMFMFMFMFMFFFMFMMMMMMFMFMMMMFMMMFMMFMMMMMFMFMFMMMMMMFMMMMMMFFFMMFMMFMMMMMMMMFFMMMFMMMFFMMMFMFMMMMMMMFMMFMMFFFMMFMMFFFMMFFMFMMFMMMMMMMFMMMFMMMFFMMFMMMFMFMMMMMMMMFFFMMMMFMFMMMFMFMFMMMMMFFMFFFFMFFMMMMMMMMFMMMFFMMMMFMMFFMMMFMMFFMMMFMMFFFFMMMMFFFMMFMMMMMMFFFMMMMMMFFMMFMFFMFMMMMMMMMMMMMFMMMFMMFFFMMMMFFFMMMFFMFFMMMFFFMMMFFFFMMMMFFMMFFFMMMMFFFFMFMFFMMMMMFFFMMFFMMMMMMMFMFMMMMMMMFMMMMMMMMMMMMMFFMMMMFMFMMMMFMFMMMMFMMFMMMMMMMMMFMMMFMMMMMMMMFFFMMFMFFFMFFFMFMMMMMMFMMFMMMMFFMMMMMMFFMFMFMMMFFFMMMFMMMFMMFFMFFFMMFFMFMMMMMFMFFMMMFMMMMMFMMMFFMMMMMMMMMMMMFMMMMFMFMFMMMMMFFFMFFMFMMMFFFMMMMMMMFMFMFMMFFMMFMFMMMMFMMMMMMMMFFMMMFFFFMMMFFFMMMFFFFMMMMFFFMFMMFMFMFMMMMFMFMFMMMMMFMMFMFFMMFMMMMMMFFMFMFFFMFFFFFFMMMFMFMFMMMMMFFFMMFFMMMMMMMMMMFFFFFFMFFMFMMFMFMMFFFFFMFFFFFFFMMMFFMMMMFMFMFMMMFMMMMMMFFFFMFFMMMFFFMMMFMFMFMMMFMMMFMMMMMMMMMMFFMMMFFFMMFMMMMMMMMMMFMMFMFMFFMMFFFFMMMMFMFMFMFFFMMFFMMMMFFFFFMMMMMMFMMMMFMFMFMMMMMMMMMMMMMMFMMFFMMMMMFFMMMMMFMMMFMFFFMFMFMMMMFMMMMMFFMMMMMMMMFFMMMMMMFFFMFFMFFMMMMMMMMMFFFFFFMMMFFFFFMMMFMMMMFMFMFFFMMFMMMMMMMMFMMMMMMMMMMMFFFFMMMMFFMFMMFFFMMMFFFFMFMFFMFFFMFFMFFMFMMMMMMMMMFFMFFMMMFMMFMFFMMMMFFFFMMFMFMMMMFMFMFMFMFMMMMFFFMMMMMFMMMMFFMMFMFMFMMFMFMMMMMFMFFMFMMMMMMFMMMFMFMMMFMFMMFFFFMMFFFMFFMMFMMMFMMMMMMMMMMFMMMMMMMMFMMFFMMMFMMMMMMMFMFMMMMFFMMMMMMFFFMMMMFFFFMMMMMFFMMMFFFFFMMMFMMMMMMMMFMFFFFFFFMMMMMMMFFMMFMMFFMMFMMMMMMMMMFFMMFMFFFMMMFMMFMMMMMMMFFMMFMMMMFMMMMMMMMMMMMMFFMFMMMFMFMFMMMFMMMFMFMMFMMMFFMMMMMFFFFMFMMFMMMMFMMFFMMFMMMMFMFMMMMMMMMMMMMMFMFFFFFMMFMMFMMFMMFMFMMMMMMMMMMMMMMFFMMMMMMMMMFFFMFMMMMMFFMMMFMFMFMMMFMMFMFMFFMMMMMFFFMFMMFMFFMFFMMMMMMMFMMMFFFMMMMMMMFMMMMMMMFMMMMFFMFMMMMMMFFMMFFMMMFMMFMMFMMMMMMMMMFFMMMMMMMMMFMFFMFFMMFMFMFFMMMFFMFMMFFMFMMFMFMFFFMMMMMMMMMFFMFFFFMMMFMFFMMFFMMFFMMMMMMFMMMFMFMFMMFMMFFFMMMFMMFMMMFFFMMMMMFMFMFMMFMMFMMMMMMMFMMMMFMMFMMMMFMMMFMMMMMMMMFFMFFFMFFMFMFMMFMMFMFFMFMMFFFMMMMFFMMFFMMFMMMFMFFMFMFFFMFMFFMMMMMFMMFMMMFMMMFMMMMMMMFFMFMFMMMMFMMMFFMMMMMMMFMMFMMFMMFFMFFMFFMMMMMFMMMFFFFMFFFMMFMFFMFMMMFFFFFMFMFMMFMMMFMFMMMFMMMMFFFMMMFFMMMMMMFMFFMMFFFFFMFFMMMFMFFMMMMMFFFFMMMFMMMMMFMMFFMFMFFMMMMMFFMMFFMMMFFMMFFFMMMMFMFFMMMMFMMMMMMMFMFMMMMMMFMFMMFMFFMFMMFMMFMMMMMFMMFMMMFMFFMMMFFMMMFFFMFFMFMMFMFMMMMMMMFMFMMFFFMMFMMMMMFFMFMFFFMMMFFFFMFFMFFMMFFFFMFFFMFMFFFMMMMMMFMFFMMFFMFMMMMFFMMFMFMMFFMFMFMMMMFMMFFMFFMMFMMFMFFMMMMMFFMFMFMFMMMMFFFFMMMMMMMFFMFMMMMFFMMMMMMMMMFFMMMFFMMMMMMFMMMMFMMMMMFMMFFFFFMFMMMMFMMMFFMMFMFMMFMMMMMMMFFFMMFFFFFFFMFFFFFFMFFMMMFMMMFMMFMMMMFMFMMMFMFFFMFMMFMMMFFFFFFMMMFFFMMMFFMMFMMMFMMMFFMMMFMMFMMFMFFFFMFMMMFMMFMMMMMMMFFMFMFFMMMMFMMFMMFMFMFMMMFFFMMMMMMMFFMFMFFFFMFMMMFMMMMMMMFMMFFMMMMMMFFFMMFMMMFFFMMFMMFFMMFFMMMMFFFMMMMFMMMMMMMFMMMMMFFFFMMMFFFMFMMMFFMFMFMMMMMFMFMMMMMMMMFMMFFFMMMFMMMFMMFMMMMFFMFFFMMMFFFFMMFMFMFMFMMFMMMMFFMFMFMFFMMMMMMMFMFFFFFMMMFMMMMFMMMMFFMFMFFMFFMFMMMMMFMMMMMMFMMMMMMMMMMFFFMMMFFMMMMFMFFMFMMFMMMMFMMFMFMMMMFMMFFFFFMMFMFMMMFFFMMMFMMMMMMMMFMMFFFFMFFMMMMMMFFMFMFFMMMMMFMFMFMFMFMMMMFMMMMFFFFFFFFFMMFMMMFFFMMFMMMMMMMFFMMFMFFFFMMMMMMMMFFMMMMFMMMMFFMMFFMMMMFMFFMMFMFMMMFMMMFMFMFFMMFMFFMMMFMMMMMFMMFMMMMMMMMMMFMFFFMMFMFMMFMMMMFMMFMMFMFMFMMFMMMMMFMMMFMFMMMMFFMMFFFMFFFMFMMMFMMFMFFFMMMFMFFFFFFFFFMFFMMMFFMMMMMMFMMMFMMMFFMMFMFMMFMFMFMMFMFMFMMFFFFMMFMFMMFFFMFMMMMMMMMFFMMMMFMFMMMMMMFFMMMMMMFMFFFFMMMMFMMFFMMFFMMMFFMMMMMMMMFMMFFFFFMFMMMFFMMMMMMMMMMFMFMFMMFMMFMMFFMMMFFMFFFMMMMFMMFMMFMFMMFMFFFFMFFFMFFFMMMFMMFFFFFMMMMMFMMMMMFFMMFMMFFFMMMFMMMMMMMMFMMFMFFMMMMMFMMMMMMMMMMFFFMMFFFMFFMMFMMFFMMMMMMMMMFFFFMFMFMFMFFMMFFFMFMFMFMMMMFMMFMMFMMFMMFMMFMMMMMFFMFFMMFFFFMFMFFMFMMFMFMMFMMMFMMMMFFMMFMFMFFMMMFFFMFFFFFFFMMFFFMFMMMMMFFMMMFMMFFMFFMMMFFMMFFFFMFFFMMFMMMMFMFMMMFFFFMMFMFMFFMFFFMFFFMFFFMMMFMFFFFFMFFFFMMMFFMMFFMMMMFMFMFMFMMFMFFMMMMMFMFMMMFMFMFMMFFFMFMFMFMFFFFMMMFMFFMMMFMMMMFMMFFFMMMFFMFMFMMFMMMFMMFMFMMMMMMFMMMFFFMMMFMMMMFMMMMMMMMFMMMMFFMFFF' to numeric"
     ]
    }
   ],
   "source": [
    "describe_and_plot(df_dropped['Gender'])\n"
   ]
  }
 ],
 "metadata": {
  "kernelspec": {
   "display_name": "Python 3",
   "language": "python",
   "name": "python3"
  },
  "language_info": {
   "codemirror_mode": {
    "name": "ipython",
    "version": 3
   },
   "file_extension": ".py",
   "mimetype": "text/x-python",
   "name": "python",
   "nbconvert_exporter": "python",
   "pygments_lexer": "ipython3",
   "version": "3.9.6"
  }
 },
 "nbformat": 4,
 "nbformat_minor": 5
}
